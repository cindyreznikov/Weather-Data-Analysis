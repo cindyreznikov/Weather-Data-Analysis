{
 "cells": [
  {
   "cell_type": "markdown",
   "metadata": {},
   "source": [
    "# WeatherPy\n",
    "----\n",
    "\n",
    "#### Note\n",
    "* Instructions have been included for each segment. You do not have to follow them exactly, but they are included to help you think through the steps."
   ]
  },
  {
   "cell_type": "code",
   "execution_count": 1,
   "metadata": {
    "scrolled": true
   },
   "outputs": [],
   "source": [
    "# Dependencies and Setup\n",
    "import matplotlib.pyplot as plt\n",
    "import pandas as pd\n",
    "import numpy as np\n",
    "import requests\n",
    "import time\n",
    "import json\n",
    "\n",
    "from scipy.stats import linregress\n",
    "from scipy import stats\n",
    "from datetime import datetime\n",
    "\n",
    "# Import API key\n",
    "from api_keys import weather_api_key\n",
    "\n",
    "# Incorporated citipy to determine city based on latitude and longitude\n",
    "# May need to run 'pip install citipy' in terminal to use the citipy package\n",
    "from citipy import citipy\n",
    "\n",
    "# Output File (CSV)\n",
    "output_data_file = \"output_data/cities.csv\"\n",
    "\n",
    "# Range of latitudes and longitudes\n",
    "lat_range = (-90, 90)\n",
    "lng_range = (-180, 180)\n",
    "#lat_range = (88, 90)\n",
    "#lng_range = (178, 180)"
   ]
  },
  {
   "cell_type": "markdown",
   "metadata": {},
   "source": [
    "## Generate Cities List"
   ]
  },
  {
   "cell_type": "code",
   "execution_count": 3,
   "metadata": {},
   "outputs": [
    {
     "data": {
      "text/plain": [
       "598"
      ]
     },
     "execution_count": 3,
     "metadata": {},
     "output_type": "execute_result"
    }
   ],
   "source": [
    "# List for holding lat_lngs and cities\n",
    "lat_lngs = []\n",
    "cities = []\n",
    "\n",
    "# Create a set of random lat and lng combinations\n",
    "lats = np.random.uniform(low=-90.000, high=90.000, size=1500)\n",
    "lngs = np.random.uniform(low=-180.000, high=180.000, size=1500)\n",
    "#lats = np.random.uniform(low=60.000, high=90.000, size=1500)\n",
    "#lngs = np.random.uniform(low=160.000, high=180.000, size=1500)\n",
    "\n",
    "lat_lngs = zip(lats, lngs)\n",
    "\n",
    "# Identify nearest city for each lat, lng combination\n",
    "for lat_lng in lat_lngs:\n",
    "    city = citipy.nearest_city(lat_lng[0], lat_lng[1]).city_name\n",
    "    \n",
    "    # If the city is unique, then add it to a our cities list\n",
    "    if city not in cities:\n",
    "        cities.append(city)\n",
    "\n",
    "# Print the city count to confirm sufficient count\n",
    "len(cities)"
   ]
  },
  {
   "cell_type": "markdown",
   "metadata": {},
   "source": [
    "### Perform API Calls\n",
    "* Perform a weather check on each city using a series of successive API calls.\n",
    "* Include a print log of each city as it'sbeing processed (with the city number and city name).\n"
   ]
  },
  {
   "cell_type": "code",
   "execution_count": 6,
   "metadata": {},
   "outputs": [
    {
     "name": "stdout",
     "output_type": "stream",
     "text": [
      "Beginning Data Retrieval\n",
      "----------------------------\n",
      "Processing Record 1 of Set 1 | City Id: 2650435 and City Name  east grinstead\n",
      "Processing Record 2 of Set 1 | City Id: 5855927 and City Name  hilo\n",
      "Processing Record 3 of Set 1 | City Id: 2012530 and City Name  zhigansk\n",
      "Processing Record 4 of Set 1 | City Id: 3143513 and City Name  oppdal\n",
      "Processing Record 5 of Set 1 | City Id: 3694112 and City Name  paita\n",
      "Processing Record 6 of Set 1 | City Id: 2071860 and City Name  esperance\n",
      "Processing Record 7 of Set 1 | City Id: 3831208 and City Name  qaanaaq\n",
      "Processing Record 8 of Set 1 | City Id: 962367 and City Name  richards bay\n",
      "Processing Record 9 of Set 1 | City Id: 3572906 and City Name  andros town\n",
      "Processing Record 10 of Set 1 | City Id: 1267390 and City Name  kavaratti\n",
      "Processing Record 11 of Set 1 | City Id: 4032243 and City Name  vaini\n",
      "Processing Record 12 of Set 1 | City Id: 1282256 and City Name  hithadhoo\n",
      "Processing Record 13 of Set 1 | City Id: 3369157 and City Name  cape town\n",
      "Processing Record 14 of Set 1 | City Id: 2163355 and City Name  hobart\n",
      "Processing Record 15 of Set 1 | City Id: 3392126 and City Name  pilar\n",
      "Processing Record 16 of Set 1 | City Id: 3421719 and City Name  narsaq\n",
      "Processing Record 17 of Set 1 | City Id: 1252795 and City Name  yanam\n",
      "Processing Record 18 of Set 1 | City Id: 1528998 and City Name  yumen\n",
      "Processing Record 19 of Set 1 | City Id: 2208248 and City Name  kaitangata\n",
      "Processing Record 20 of Set 1 | City Id: 1519924 and City Name  kushmurun\n",
      "Processing Record 21 of Set 1 | City Id: 1015776 and City Name  bredasdorp\n",
      "Processing Record 22 of Set 1 | City Id: 3424607 and City Name  tasiilaq\n",
      "Processing Record 23 of Set 1 | City Id: 1067565 and City Name  beloha\n",
      "City not found. Skipping... sentyabrskiy\n",
      "Processing Record 25 of Set 1 | City Id: 6201424 and City Name  gore\n",
      "Processing Record 26 of Set 1 | City Id: 935215 and City Name  saint-philippe\n",
      "Processing Record 27 of Set 1 | City Id: 3666395 and City Name  urrao\n",
      "Processing Record 28 of Set 1 | City Id: 546105 and City Name  nikolskoye\n",
      "Processing Record 29 of Set 1 | City Id: 3466704 and City Name  castro\n",
      "Processing Record 30 of Set 1 | City Id: 4033557 and City Name  tautira\n",
      "City not found. Skipping... belushya guba\n",
      "Processing Record 32 of Set 1 | City Id: 1224061 and City Name  wattegama\n",
      "Processing Record 33 of Set 1 | City Id: 292672 and City Name  sharjah\n",
      "City not found. Skipping... tsihombe\n",
      "Processing Record 35 of Set 1 | City Id: 4036284 and City Name  alofi\n",
      "City not found. Skipping... barentsburg\n",
      "Processing Record 37 of Set 1 | City Id: 2022572 and City Name  khatanga\n",
      "Processing Record 38 of Set 1 | City Id: 2126199 and City Name  cherskiy\n",
      "Processing Record 39 of Set 1 | City Id: 1490256 and City Name  talnakh\n",
      "Processing Record 40 of Set 1 | City Id: 86049 and City Name  jalu\n",
      "Processing Record 41 of Set 1 | City Id: 1256823 and City Name  seoni malwa\n",
      "Processing Record 42 of Set 1 | City Id: 6111862 and City Name  port hardy\n",
      "Processing Record 43 of Set 1 | City Id: 5106841 and City Name  albany\n",
      "Processing Record 44 of Set 1 | City Id: 1853371 and City Name  ryotsu\n",
      "Processing Record 45 of Set 1 | City Id: 5861897 and City Name  fairbanks\n",
      "Processing Record 46 of Set 1 | City Id: 1254832 and City Name  tawang\n",
      "Processing Record 47 of Set 1 | City Id: 3128760 and City Name  barcelona\n",
      "Processing Record 48 of Set 1 | City Id: 3430863 and City Name  mar del plata\n",
      "Processing Record 49 of Set 1 | City Id: 3372707 and City Name  ribeira grande\n",
      "Processing Record 1 of Set 2 | City Id: 4020109 and City Name  atuona\n",
      "Processing Record 2 of Set 2 | City Id: 777019 and City Name  vardo\n",
      "Processing Record 3 of Set 2 | City Id: 2027296 and City Name  aykhal\n",
      "Processing Record 4 of Set 2 | City Id: 3016701 and City Name  gap\n",
      "City not found. Skipping... cheuskiny\n",
      "Processing Record 6 of Set 2 | City Id: 5554428 and City Name  ketchikan\n",
      "Processing Record 7 of Set 2 | City Id: 2374583 and City Name  bubaque\n",
      "Processing Record 8 of Set 2 | City Id: 4030556 and City Name  rikitea\n",
      "Processing Record 9 of Set 2 | City Id: 5859699 and City Name  college\n",
      "Processing Record 10 of Set 2 | City Id: 5870133 and City Name  nome\n",
      "Processing Record 11 of Set 2 | City Id: 2757220 and City Name  den helder\n",
      "Processing Record 12 of Set 2 | City Id: 2206939 and City Name  bluff\n",
      "Processing Record 13 of Set 2 | City Id: 3440781 and City Name  rivera\n",
      "Processing Record 14 of Set 2 | City Id: 1863310 and City Name  hamada\n",
      "Processing Record 15 of Set 2 | City Id: 5880054 and City Name  barrow\n",
      "Processing Record 16 of Set 2 | City Id: 4153188 and City Name  destin\n",
      "Processing Record 17 of Set 2 | City Id: 3616594 and City Name  san rafael del sur\n",
      "Processing Record 18 of Set 2 | City Id: 5866063 and City Name  kenai\n",
      "Processing Record 19 of Set 2 | City Id: 1500399 and City Name  lokosovo\n",
      "Processing Record 20 of Set 2 | City Id: 3988265 and City Name  sahuaripa\n",
      "Processing Record 21 of Set 2 | City Id: 3833367 and City Name  ushuaia\n",
      "Processing Record 22 of Set 2 | City Id: 964432 and City Name  port alfred\n",
      "Processing Record 23 of Set 2 | City Id: 4159050 and City Name  homestead\n",
      "Processing Record 24 of Set 2 | City Id: 2136150 and City Name  luganville\n",
      "Processing Record 25 of Set 2 | City Id: 4035715 and City Name  avarua\n",
      "Processing Record 26 of Set 2 | City Id: 217745 and City Name  bumba\n",
      "Processing Record 27 of Set 2 | City Id: 2015306 and City Name  tiksi\n",
      "Processing Record 28 of Set 2 | City Id: 2347758 and City Name  bara\n",
      "Processing Record 29 of Set 2 | City Id: 3380290 and City Name  sinnamary\n",
      "Processing Record 30 of Set 2 | City Id: 2110227 and City Name  butaritari\n",
      "Processing Record 31 of Set 2 | City Id: 1642773 and City Name  japura\n",
      "Processing Record 32 of Set 2 | City Id: 108410 and City Name  riyadh\n",
      "Processing Record 33 of Set 2 | City Id: 2075265 and City Name  busselton\n",
      "Processing Record 34 of Set 2 | City Id: 2318123 and City Name  yenagoa\n",
      "Processing Record 35 of Set 2 | City Id: 2121385 and City Name  severo-kurilsk\n",
      "Processing Record 36 of Set 2 | City Id: 475469 and City Name  verkhnetulomskiy\n",
      "Processing Record 37 of Set 2 | City Id: 2438855 and City Name  tera\n",
      "Processing Record 38 of Set 2 | City Id: 4669635 and City Name  abilene\n",
      "Processing Record 39 of Set 2 | City Id: 3883457 and City Name  lebu\n",
      "Processing Record 40 of Set 2 | City Id: 4513583 and City Name  hamilton\n",
      "City not found. Skipping... bolungarvik\n",
      "City not found. Skipping... taolanaro\n",
      "Processing Record 43 of Set 2 | City Id: 2112802 and City Name  hasaki\n",
      "Processing Record 44 of Set 2 | City Id: 6185377 and City Name  yellowknife\n",
      "Processing Record 45 of Set 2 | City Id: 4035249 and City Name  lufilufi\n",
      "Processing Record 46 of Set 2 | City Id: 2186111 and City Name  ngunguru\n",
      "Processing Record 47 of Set 2 | City Id: 4031637 and City Name  lavrentiya\n",
      "Processing Record 48 of Set 2 | City Id: 3860443 and City Name  comodoro rivadavia\n",
      "Processing Record 49 of Set 2 | City Id: 3832899 and City Name  viedma\n",
      "Processing Record 1 of Set 3 | City Id: 3385077 and City Name  conde\n",
      "Processing Record 2 of Set 3 | City Id: 102651 and City Name  sabya\n",
      "Processing Record 3 of Set 3 | City Id: 5563397 and City Name  eureka\n",
      "Processing Record 4 of Set 3 | City Id: 1106643 and City Name  quatre cocos\n",
      "Processing Record 5 of Set 3 | City Id: 935214 and City Name  saint-pierre\n",
      "Processing Record 6 of Set 3 | City Id: 5044290 and City Name  saint anthony\n",
      "City not found. Skipping... nam tha\n",
      "Processing Record 8 of Set 3 | City Id: 1649150 and City Name  bengkulu\n",
      "Processing Record 9 of Set 3 | City Id: 2186280 and City Name  nelson\n",
      "Processing Record 10 of Set 3 | City Id: 3936456 and City Name  lima\n",
      "City not found. Skipping... nizhneyansk\n",
      "Processing Record 12 of Set 3 | City Id: 53372 and City Name  odweyne\n",
      "Processing Record 13 of Set 3 | City Id: 6089245 and City Name  norman wells\n",
      "Processing Record 14 of Set 3 | City Id: 3418910 and City Name  upernavik\n",
      "Processing Record 15 of Set 3 | City Id: 1264976 and City Name  leh\n",
      "Processing Record 16 of Set 3 | City Id: 107304 and City Name  buraydah\n",
      "Processing Record 17 of Set 3 | City Id: 1006984 and City Name  east london\n",
      "Processing Record 18 of Set 3 | City Id: 556268 and City Name  ostrovnoy\n",
      "Processing Record 19 of Set 3 | City Id: 3874787 and City Name  punta arenas\n",
      "Processing Record 20 of Set 3 | City Id: 2038087 and City Name  chengde\n"
     ]
    },
    {
     "name": "stdout",
     "output_type": "stream",
     "text": [
      "Processing Record 21 of Set 3 | City Id: 2031964 and City Name  darhan\n",
      "Processing Record 22 of Set 3 | City Id: 1507390 and City Name  dikson\n",
      "Processing Record 23 of Set 3 | City Id: 964420 and City Name  port elizabeth\n",
      "Processing Record 24 of Set 3 | City Id: 739914 and City Name  sebinkarahisar\n",
      "Processing Record 25 of Set 3 | City Id: 933995 and City Name  souillac\n",
      "Processing Record 26 of Set 3 | City Id: 6165406 and City Name  thompson\n",
      "Processing Record 27 of Set 3 | City Id: 5882953 and City Name  aklavik\n",
      "Processing Record 28 of Set 3 | City Id: 2155415 and City Name  new norfolk\n",
      "Processing Record 29 of Set 3 | City Id: 3691954 and City Name  sechura\n",
      "Processing Record 30 of Set 3 | City Id: 1511276 and City Name  atagay\n",
      "Processing Record 31 of Set 3 | City Id: 780687 and City Name  berlevag\n",
      "Processing Record 32 of Set 3 | City Id: 6201424 and City Name  mataura\n",
      "Processing Record 33 of Set 3 | City Id: 6170031 and City Name  tuktoyaktuk\n",
      "Processing Record 34 of Set 3 | City Id: 5122534 and City Name  jamestown\n",
      "Processing Record 35 of Set 3 | City Id: 2191911 and City Name  dargaville\n",
      "Processing Record 36 of Set 3 | City Id: 3372760 and City Name  praia da vitoria\n",
      "Processing Record 37 of Set 3 | City Id: 1268383 and City Name  kaliyaganj\n",
      "Processing Record 38 of Set 3 | City Id: 1819729 and City Name  victoria\n",
      "Processing Record 39 of Set 3 | City Id: 5380437 and City Name  pacific grove\n",
      "Processing Record 40 of Set 3 | City Id: 1512223 and City Name  abalak\n",
      "Processing Record 41 of Set 3 | City Id: 3838859 and City Name  rio gallegos\n",
      "City not found. Skipping... vaitupu\n",
      "Processing Record 43 of Set 3 | City Id: 3466165 and City Name  cidreira\n",
      "Processing Record 44 of Set 3 | City Id: 1717348 and City Name  claveria\n",
      "Processing Record 45 of Set 3 | City Id: 5924351 and City Name  clyde river\n",
      "City not found. Skipping... illoqqortoormiut\n",
      "Processing Record 47 of Set 3 | City Id: 1502073 and City Name  krasnoselkup\n",
      "Processing Record 48 of Set 3 | City Id: 2269142 and City Name  colares\n",
      "Processing Record 49 of Set 3 | City Id: 3354071 and City Name  oranjemund\n",
      "Processing Record 1 of Set 4 | City Id: 1270854 and City Name  govindgarh\n",
      "Processing Record 2 of Set 4 | City Id: 1214488 and City Name  meulaboh\n",
      "Processing Record 3 of Set 4 | City Id: 3421765 and City Name  nanortalik\n",
      "City not found. Skipping... mys shmidta\n",
      "Processing Record 5 of Set 4 | City Id: 2012938 and City Name  yerofey pavlovich\n",
      "Processing Record 6 of Set 4 | City Id: 5847486 and City Name  kailua\n",
      "Processing Record 7 of Set 4 | City Id: 2264557 and City Name  ponta do sol\n",
      "Processing Record 8 of Set 4 | City Id: 3416888 and City Name  grindavik\n",
      "Processing Record 9 of Set 4 | City Id: 5848280 and City Name  kapaa\n",
      "Processing Record 10 of Set 4 | City Id: 3355672 and City Name  luderitz\n",
      "Processing Record 11 of Set 4 | City Id: 1737486 and City Name  bintulu\n",
      "Processing Record 12 of Set 4 | City Id: 2126123 and City Name  chokurdakh\n",
      "Processing Record 13 of Set 4 | City Id: 4031742 and City Name  egvekinot\n",
      "Processing Record 14 of Set 4 | City Id: 1280957 and City Name  jiayuguan\n",
      "Processing Record 15 of Set 4 | City Id: 2194098 and City Name  ahipara\n",
      "Processing Record 16 of Set 4 | City Id: 3533753 and City Name  yara\n",
      "Processing Record 17 of Set 4 | City Id: 3366880 and City Name  hermanus\n",
      "Processing Record 18 of Set 4 | City Id: 3160100 and City Name  beian\n",
      "Processing Record 19 of Set 4 | City Id: 3671450 and City Name  inirida\n",
      "Processing Record 20 of Set 4 | City Id: 1637001 and City Name  biak\n",
      "City not found. Skipping... mocambique\n",
      "Processing Record 22 of Set 4 | City Id: 3386213 and City Name  touros\n",
      "Processing Record 23 of Set 4 | City Id: 6144312 and City Name  sept-iles\n",
      "Processing Record 24 of Set 4 | City Id: 1831166 and City Name  kampong chhnang\n",
      "Processing Record 25 of Set 4 | City Id: 3381538 and City Name  grand-santi\n",
      "Processing Record 26 of Set 4 | City Id: 3985168 and City Name  san patricio\n",
      "Processing Record 27 of Set 4 | City Id: 2278158 and City Name  buchanan\n",
      "Processing Record 28 of Set 4 | City Id: 1859964 and City Name  kaseda\n",
      "Processing Record 29 of Set 4 | City Id: 921786 and City Name  mitsamiouli\n",
      "Processing Record 30 of Set 4 | City Id: 5916706 and City Name  carberry\n",
      "Processing Record 31 of Set 4 | City Id: 189741 and City Name  lamu\n",
      "Processing Record 32 of Set 4 | City Id: 3443061 and City Name  chuy\n",
      "Processing Record 33 of Set 4 | City Id: 1501000 and City Name  kyshtovka\n",
      "Processing Record 34 of Set 4 | City Id: 2160735 and City Name  lakes entrance\n",
      "Processing Record 35 of Set 4 | City Id: 1486321 and City Name  yar-sale\n",
      "Processing Record 36 of Set 4 | City Id: 1831112 and City Name  kampot\n",
      "Processing Record 37 of Set 4 | City Id: 3871336 and City Name  santiago\n",
      "City not found. Skipping... amderma\n",
      "Processing Record 39 of Set 4 | City Id: 3649408 and City Name  altagracia de orituco\n",
      "Processing Record 40 of Set 4 | City Id: 5107612 and City Name  babylon\n",
      "Processing Record 41 of Set 4 | City Id: 1175453 and City Name  kahna nau\n",
      "Processing Record 42 of Set 4 | City Id: 2088122 and City Name  port moresby\n",
      "Processing Record 43 of Set 4 | City Id: 5554072 and City Name  juneau\n",
      "Processing Record 44 of Set 4 | City Id: 1265242 and City Name  lakhimpur\n",
      "Processing Record 45 of Set 4 | City Id: 3837702 and City Name  catamarca\n",
      "Processing Record 46 of Set 4 | City Id: 934479 and City Name  grand gaube\n",
      "City not found. Skipping... tawnat\n",
      "Processing Record 48 of Set 4 | City Id: 4031574 and City Name  provideniya\n",
      "Processing Record 49 of Set 4 | City Id: 3985710 and City Name  cabo san lucas\n",
      "Processing Record 1 of Set 5 | City Id: 3576994 and City Name  cockburn town\n",
      "Processing Record 2 of Set 5 | City Id: 3443341 and City Name  carmelo\n",
      "City not found. Skipping... attawapiskat\n",
      "Processing Record 4 of Set 5 | City Id: 5850554 and City Name  makakilo city\n",
      "Processing Record 5 of Set 5 | City Id: 2074865 and City Name  carnarvon\n",
      "Processing Record 6 of Set 5 | City Id: 60019 and City Name  eyl\n",
      "Processing Record 7 of Set 5 | City Id: 2027044 and City Name  batagay\n",
      "Processing Record 8 of Set 5 | City Id: 7341918 and City Name  moba\n",
      "Processing Record 9 of Set 5 | City Id: 1272140 and City Name  dwarka\n",
      "Processing Record 10 of Set 5 | City Id: 110690 and City Name  abha\n",
      "Processing Record 11 of Set 5 | City Id: 5282297 and City Name  bethel\n",
      "Processing Record 12 of Set 5 | City Id: 1264540 and City Name  madikeri\n",
      "Processing Record 13 of Set 5 | City Id: 3893726 and City Name  constitucion\n",
      "Processing Record 14 of Set 5 | City Id: 4726206 and City Name  san antonio\n",
      "Processing Record 15 of Set 5 | City Id: 4156975 and City Name  gonzalez\n",
      "Processing Record 16 of Set 5 | City Id: 2629833 and City Name  husavik\n",
      "Processing Record 17 of Set 5 | City Id: 2079582 and City Name  alyangula\n",
      "City not found. Skipping... sedelnikovo\n",
      "Processing Record 19 of Set 5 | City Id: 3471451 and City Name  arraial do cabo\n",
      "Processing Record 20 of Set 5 | City Id: 2610806 and City Name  vagur\n",
      "Processing Record 21 of Set 5 | City Id: 3423146 and City Name  ilulissat\n",
      "Processing Record 22 of Set 5 | City Id: 2441194 and City Name  mayahi\n",
      "Processing Record 23 of Set 5 | City Id: 2271968 and City Name  aljezur\n",
      "Processing Record 24 of Set 5 | City Id: 6167817 and City Name  torbay\n",
      "Processing Record 25 of Set 5 | City Id: 1732871 and City Name  singkang\n",
      "Processing Record 26 of Set 5 | City Id: 6324729 and City Name  halifax\n",
      "Processing Record 27 of Set 5 | City Id: 2122090 and City Name  pevek\n",
      "Processing Record 28 of Set 5 | City Id: 3652758 and City Name  puerto baquerizo moreno\n",
      "Processing Record 29 of Set 5 | City Id: 5134295 and City Name  roma\n",
      "Processing Record 30 of Set 5 | City Id: 2392087 and City Name  porto novo\n",
      "Processing Record 31 of Set 5 | City Id: 1801722 and City Name  port arthur\n",
      "Processing Record 32 of Set 5 | City Id: 3043048 and City Name  vaskut\n",
      "Processing Record 33 of Set 5 | City Id: 2398073 and City Name  mouila\n",
      "Processing Record 34 of Set 5 | City Id: 110690 and City Name  faya\n",
      "Processing Record 35 of Set 5 | City Id: 1337616 and City Name  naifaru\n",
      "Processing Record 36 of Set 5 | City Id: 3374210 and City Name  sao filipe\n",
      "Processing Record 37 of Set 5 | City Id: 2561668 and City Name  agadir\n",
      "Processing Record 38 of Set 5 | City Id: 2070998 and City Name  geraldton\n"
     ]
    },
    {
     "name": "stdout",
     "output_type": "stream",
     "text": [
      "Processing Record 39 of Set 5 | City Id: 4021858 and City Name  guerrero negro\n",
      "Processing Record 40 of Set 5 | City Id: 2236568 and City Name  uige\n",
      "Processing Record 41 of Set 5 | City Id: 1624041 and City Name  ternate\n",
      "Processing Record 42 of Set 5 | City Id: 2381972 and City Name  adrar\n",
      "Processing Record 43 of Set 5 | City Id: 2065594 and City Name  mount isa\n",
      "Processing Record 44 of Set 5 | City Id: 3380450 and City Name  roura\n",
      "Processing Record 45 of Set 5 | City Id: 2084442 and City Name  vanimo\n",
      "Processing Record 46 of Set 5 | City Id: 5017822 and City Name  bemidji\n",
      "Processing Record 47 of Set 5 | City Id: 2397614 and City Name  ndende\n",
      "Processing Record 48 of Set 5 | City Id: 3835869 and City Name  santiago del estero\n",
      "Processing Record 49 of Set 5 | City Id: 2015352 and City Name  terney\n",
      "City not found. Skipping... ust-kamchatsk\n",
      "Processing Record 2 of Set 6 | City Id: 1153669 and City Name  chiang rai\n",
      "Processing Record 3 of Set 6 | City Id: 3421982 and City Name  maniitsoq\n",
      "Processing Record 4 of Set 6 | City Id: 5866583 and City Name  kodiak\n",
      "Processing Record 5 of Set 6 | City Id: 57000 and City Name  hobyo\n",
      "Processing Record 6 of Set 6 | City Id: 3373329 and City Name  arrifes\n",
      "City not found. Skipping... ondorhaan\n",
      "Processing Record 8 of Set 6 | City Id: 2119283 and City Name  zyryanka\n",
      "Processing Record 9 of Set 6 | City Id: 3448903 and City Name  sao joao da barra\n",
      "Processing Record 10 of Set 6 | City Id: 6171633 and City Name  ucluelet\n",
      "Processing Record 11 of Set 6 | City Id: 1276370 and City Name  bhachau\n",
      "Processing Record 12 of Set 6 | City Id: 2017705 and City Name  poyarkovo\n",
      "Processing Record 13 of Set 6 | City Id: 2381334 and City Name  atar\n",
      "Processing Record 14 of Set 6 | City Id: 64814 and City Name  bandarbeyla\n",
      "Processing Record 15 of Set 6 | City Id: 2441447 and City Name  maine-soroa\n",
      "Processing Record 16 of Set 6 | City Id: 5690366 and City Name  mandan\n",
      "Processing Record 17 of Set 6 | City Id: 5546220 and City Name  saint george\n",
      "City not found. Skipping... kamenskoye\n",
      "Processing Record 19 of Set 6 | City Id: 634093 and City Name  tornio\n",
      "Processing Record 20 of Set 6 | City Id: 1498087 and City Name  nadym\n",
      "Processing Record 21 of Set 6 | City Id: 5955902 and City Name  fort nelson\n",
      "Processing Record 22 of Set 6 | City Id: 1272502 and City Name  diu\n",
      "City not found. Skipping... grand river south east\n",
      "Processing Record 24 of Set 6 | City Id: 5847411 and City Name  kahului\n",
      "Processing Record 25 of Set 6 | City Id: 3894426 and City Name  coihaique\n",
      "Processing Record 26 of Set 6 | City Id: 4026082 and City Name  lazaro cardenas\n",
      "Processing Record 27 of Set 6 | City Id: 576093 and City Name  blagoyevo\n",
      "Processing Record 28 of Set 6 | City Id: 364027 and City Name  wagar\n",
      "City not found. Skipping... temaraia\n",
      "Processing Record 30 of Set 6 | City Id: 3347019 and City Name  namibe\n",
      "Processing Record 31 of Set 6 | City Id: 5364271 and City Name  laguna\n",
      "Processing Record 32 of Set 6 | City Id: 3355624 and City Name  maltahohe\n",
      "Processing Record 33 of Set 6 | City Id: 6943832 and City Name  riviere-au-renard\n",
      "Processing Record 34 of Set 6 | City Id: 934322 and City Name  mahebourg\n",
      "Processing Record 35 of Set 6 | City Id: 2017155 and City Name  saskylakh\n",
      "Processing Record 36 of Set 6 | City Id: 2180815 and City Name  tuatapere\n",
      "Processing Record 37 of Set 6 | City Id: 3440777 and City Name  rocha\n",
      "Processing Record 38 of Set 6 | City Id: 2063042 and City Name  port hedland\n",
      "Processing Record 39 of Set 6 | City Id: 3347719 and City Name  luena\n",
      "Processing Record 40 of Set 6 | City Id: 158006 and City Name  kibaya\n",
      "City not found. Skipping... nguiu\n",
      "Processing Record 42 of Set 6 | City Id: 2171099 and City Name  codrington\n",
      "Processing Record 43 of Set 6 | City Id: 2156927 and City Name  moree\n",
      "Processing Record 44 of Set 6 | City Id: 2034400 and City Name  tongliao\n",
      "Processing Record 45 of Set 6 | City Id: 2396853 and City Name  omboue\n",
      "Processing Record 46 of Set 6 | City Id: 1835848 and City Name  seoul\n",
      "City not found. Skipping... palabuhanratu\n",
      "Processing Record 48 of Set 6 | City Id: 6620339 and City Name  karratha\n",
      "Processing Record 49 of Set 6 | City Id: 3663142 and City Name  novo aripuana\n",
      "Processing Record 1 of Set 7 | City Id: 3652764 and City Name  puerto ayora\n",
      "Processing Record 2 of Set 7 | City Id: 4160812 and City Name  key west\n",
      "Processing Record 3 of Set 7 | City Id: 5962442 and City Name  goderich\n",
      "Processing Record 4 of Set 7 | City Id: 3600327 and City Name  villanueva\n",
      "Processing Record 5 of Set 7 | City Id: 506763 and City Name  polyarnyy\n",
      "Processing Record 6 of Set 7 | City Id: 686090 and City Name  asau\n",
      "Processing Record 7 of Set 7 | City Id: 2120612 and City Name  tigil\n",
      "Processing Record 8 of Set 7 | City Id: 370457 and City Name  maridi\n",
      "Processing Record 9 of Set 7 | City Id: 986717 and City Name  kruisfontein\n",
      "Processing Record 10 of Set 7 | City Id: 1489656 and City Name  teya\n",
      "Processing Record 11 of Set 7 | City Id: 2446796 and City Name  bilma\n",
      "City not found. Skipping... saleaula\n",
      "Processing Record 13 of Set 7 | City Id: 1571058 and City Name  phan thiet\n",
      "City not found. Skipping... samusu\n",
      "Processing Record 15 of Set 7 | City Id: 1242110 and City Name  kalmunai\n",
      "Processing Record 16 of Set 7 | City Id: 5969025 and City Name  haines junction\n",
      "Processing Record 17 of Set 7 | City Id: 1512019 and City Name  aksarka\n",
      "Processing Record 18 of Set 7 | City Id: 3897724 and City Name  bulnes\n",
      "Processing Record 19 of Set 7 | City Id: 1797438 and City Name  qixia\n",
      "Processing Record 20 of Set 7 | City Id: 3430443 and City Name  necochea\n",
      "Processing Record 21 of Set 7 | City Id: 3533079 and City Name  aldama\n",
      "Processing Record 22 of Set 7 | City Id: 762643 and City Name  parczew\n",
      "Processing Record 23 of Set 7 | City Id: 171830 and City Name  baniyas\n",
      "Processing Record 24 of Set 7 | City Id: 7671223 and City Name  kloulklubed\n",
      "Processing Record 25 of Set 7 | City Id: 286621 and City Name  salalah\n",
      "Processing Record 26 of Set 7 | City Id: 2450173 and City Name  taoudenni\n",
      "Processing Record 27 of Set 7 | City Id: 554397 and City Name  kalach-na-donu\n",
      "Processing Record 28 of Set 7 | City Id: 2112309 and City Name  katsuura\n",
      "Processing Record 29 of Set 7 | City Id: 2635650 and City Name  torquay\n",
      "Processing Record 30 of Set 7 | City Id: 5886182 and City Name  antigonish\n",
      "Processing Record 31 of Set 7 | City Id: 3374333 and City Name  praia\n",
      "Processing Record 32 of Set 7 | City Id: 2738381 and City Name  lata\n",
      "Processing Record 33 of Set 7 | City Id: 64435 and City Name  berbera\n",
      "Processing Record 34 of Set 7 | City Id: 1106677 and City Name  bambous virieux\n",
      "Processing Record 35 of Set 7 | City Id: 2082539 and City Name  merauke\n",
      "Processing Record 36 of Set 7 | City Id: 1651531 and City Name  ambon\n",
      "City not found. Skipping... qafsah\n",
      "Processing Record 38 of Set 7 | City Id: 2488835 and City Name  medea\n",
      "Processing Record 39 of Set 7 | City Id: 912764 and City Name  kasama\n",
      "Processing Record 40 of Set 7 | City Id: 4989133 and City Name  clinton\n",
      "Processing Record 41 of Set 7 | City Id: 2122605 and City Name  okhotsk\n",
      "Processing Record 42 of Set 7 | City Id: 3414079 and City Name  olafsvik\n",
      "Processing Record 43 of Set 7 | City Id: 3175096 and City Name  lasa\n",
      "Processing Record 44 of Set 7 | City Id: 3406202 and City Name  barreirinha\n",
      "Processing Record 45 of Set 7 | City Id: 3654055 and City Name  montecristi\n",
      "Processing Record 46 of Set 7 | City Id: 3422683 and City Name  kangaatsiaq\n",
      "Processing Record 47 of Set 7 | City Id: 3388847 and City Name  sao felix do xingu\n",
      "Processing Record 48 of Set 7 | City Id: 610298 and City Name  beyneu\n",
      "Processing Record 49 of Set 7 | City Id: 1215502 and City Name  banda aceh\n",
      "Processing Record 1 of Set 8 | City Id: 2613539 and City Name  skaerbaek\n",
      "Processing Record 2 of Set 8 | City Id: 1235846 and City Name  matara\n",
      "Processing Record 3 of Set 8 | City Id: 2170581 and City Name  coolum beach\n",
      "Processing Record 4 of Set 8 | City Id: 1651810 and City Name  airai\n",
      "Processing Record 5 of Set 8 | City Id: 610611 and City Name  aqtobe\n",
      "Processing Record 6 of Set 8 | City Id: 3932145 and City Name  pisco\n",
      "Processing Record 7 of Set 8 | City Id: 3598787 and City Name  champerico\n",
      "Processing Record 8 of Set 8 | City Id: 3761194 and City Name  miraflores\n",
      "Processing Record 9 of Set 8 | City Id: 2126710 and City Name  beringovskiy\n"
     ]
    },
    {
     "name": "stdout",
     "output_type": "stream",
     "text": [
      "Processing Record 10 of Set 8 | City Id: 2756669 and City Name  dordrecht\n",
      "Processing Record 11 of Set 8 | City Id: 244878 and City Name  biltine\n",
      "Processing Record 12 of Set 8 | City Id: 3372964 and City Name  lagoa\n",
      "Processing Record 13 of Set 8 | City Id: 3374083 and City Name  bathsheba\n",
      "Processing Record 14 of Set 8 | City Id: 304013 and City Name  mut\n",
      "Processing Record 15 of Set 8 | City Id: 1685422 and City Name  sulangan\n",
      "Processing Record 16 of Set 8 | City Id: 1259434 and City Name  polur\n",
      "Processing Record 17 of Set 8 | City Id: 3203412 and City Name  brezice\n",
      "Processing Record 18 of Set 8 | City Id: 1259395 and City Name  porbandar\n",
      "Processing Record 19 of Set 8 | City Id: 1510689 and City Name  baykit\n",
      "Processing Record 20 of Set 8 | City Id: 2013279 and City Name  vostok\n",
      "Processing Record 21 of Set 8 | City Id: 5919850 and City Name  chapais\n",
      "Processing Record 22 of Set 8 | City Id: 1045114 and City Name  inhambane\n",
      "Processing Record 23 of Set 8 | City Id: 2015179 and City Name  tommot\n",
      "Processing Record 24 of Set 8 | City Id: 5905191 and City Name  boissevain\n",
      "Processing Record 25 of Set 8 | City Id: 514259 and City Name  ostashkov\n",
      "Processing Record 26 of Set 8 | City Id: 1797117 and City Name  rongcheng\n",
      "Processing Record 27 of Set 8 | City Id: 6096551 and City Name  pangnirtung\n",
      "Processing Record 28 of Set 8 | City Id: 2618795 and City Name  klaksvik\n",
      "Processing Record 29 of Set 8 | City Id: 3467305 and City Name  capelinha\n",
      "Processing Record 30 of Set 8 | City Id: 6095751 and City Name  oxbow\n",
      "Processing Record 31 of Set 8 | City Id: 3401845 and City Name  conceicao do araguaia\n",
      "City not found. Skipping... mbacke\n",
      "Processing Record 33 of Set 8 | City Id: 3513563 and City Name  kralendijk\n",
      "Processing Record 34 of Set 8 | City Id: 2063036 and City Name  port lincoln\n",
      "Processing Record 35 of Set 8 | City Id: 1855612 and City Name  nara\n",
      "Processing Record 36 of Set 8 | City Id: 4004293 and City Name  ixtapa\n",
      "Processing Record 37 of Set 8 | City Id: 521966 and City Name  nikolayevka\n",
      "Processing Record 38 of Set 8 | City Id: 3444201 and City Name  puerto quijarro\n",
      "Processing Record 39 of Set 8 | City Id: 582181 and City Name  anapskaya\n",
      "Processing Record 40 of Set 8 | City Id: 2208091 and City Name  waitara\n",
      "Processing Record 41 of Set 8 | City Id: 5113760 and City Name  corning\n",
      "Processing Record 42 of Set 8 | City Id: 3691324 and City Name  tocache\n",
      "Processing Record 43 of Set 8 | City Id: 3393692 and City Name  itarema\n",
      "Processing Record 44 of Set 8 | City Id: 4972220 and City Name  millinocket\n",
      "Processing Record 45 of Set 8 | City Id: 3698359 and City Name  chicama\n",
      "Processing Record 46 of Set 8 | City Id: 2150163 and City Name  sawtell\n",
      "Processing Record 47 of Set 8 | City Id: 4903184 and City Name  mundelein\n",
      "City not found. Skipping... bargal\n",
      "Processing Record 49 of Set 8 | City Id: 5557293 and City Name  sitka\n",
      "Processing Record 1 of Set 9 | City Id: 140463 and City Name  birjand\n",
      "Processing Record 2 of Set 9 | City Id: 2092164 and City Name  lorengau\n",
      "City not found. Skipping... tabiauea\n",
      "Processing Record 4 of Set 9 | City Id: 2063039 and City Name  port keats\n",
      "Processing Record 5 of Set 9 | City Id: 1560349 and City Name  yen bai\n",
      "Processing Record 6 of Set 9 | City Id: 553766 and City Name  kamenka\n",
      "Processing Record 7 of Set 9 | City Id: 1174062 and City Name  kharan\n",
      "Processing Record 8 of Set 9 | City Id: 5110365 and City Name  broome\n",
      "Processing Record 9 of Set 9 | City Id: 1254367 and City Name  tirumullaivasal\n",
      "Processing Record 10 of Set 9 | City Id: 2654970 and City Name  brae\n",
      "Processing Record 11 of Set 9 | City Id: 2047258 and City Name  novyy urgal\n",
      "Processing Record 12 of Set 9 | City Id: 2460489 and City Name  bandiagara\n",
      "Processing Record 13 of Set 9 | City Id: 3421319 and City Name  nuuk\n",
      "Processing Record 14 of Set 9 | City Id: 1861416 and City Name  ishigaki\n",
      "Processing Record 15 of Set 9 | City Id: 4528923 and City Name  zanesville\n",
      "Processing Record 16 of Set 9 | City Id: 3691582 and City Name  talara\n",
      "Processing Record 17 of Set 9 | City Id: 2012593 and City Name  zeya\n",
      "Processing Record 18 of Set 9 | City Id: 3489440 and City Name  morant bay\n",
      "Processing Record 19 of Set 9 | City Id: 1806840 and City Name  huilong\n",
      "Processing Record 20 of Set 9 | City Id: 1033356 and City Name  nampula\n",
      "Processing Record 21 of Set 9 | City Id: 2145554 and City Name  ulladulla\n",
      "Processing Record 22 of Set 9 | City Id: 3670218 and City Name  san andres\n",
      "Processing Record 23 of Set 9 | City Id: 2129211 and City Name  misawa\n",
      "Processing Record 24 of Set 9 | City Id: 1538641 and City Name  kedrovyy\n",
      "Processing Record 25 of Set 9 | City Id: 1696105 and City Name  palimbang\n",
      "Processing Record 26 of Set 9 | City Id: 4034188 and City Name  moerai\n",
      "Processing Record 27 of Set 9 | City Id: 2112077 and City Name  kuroiso\n",
      "Processing Record 28 of Set 9 | City Id: 2980915 and City Name  saint-denis\n",
      "City not found. Skipping... dera din panah\n",
      "Processing Record 30 of Set 9 | City Id: 3663475 and City Name  maraa\n",
      "Processing Record 31 of Set 9 | City Id: 3148133 and City Name  larsnes\n",
      "Processing Record 32 of Set 9 | City Id: 4944903 and City Name  nantucket\n",
      "Processing Record 33 of Set 9 | City Id: 3395981 and City Name  maceio\n",
      "Processing Record 34 of Set 9 | City Id: 3356264 and City Name  keetmanshoop\n",
      "Processing Record 35 of Set 9 | City Id: 2033423 and City Name  yebaishou\n",
      "Processing Record 36 of Set 9 | City Id: 3441273 and City Name  paso de los toros\n",
      "Processing Record 37 of Set 9 | City Id: 1066831 and City Name  beroroha\n",
      "Processing Record 38 of Set 9 | City Id: 2137748 and City Name  voh\n",
      "Processing Record 39 of Set 9 | City Id: 863061 and City Name  usinsk\n",
      "Processing Record 40 of Set 9 | City Id: 2064735 and City Name  nhulunbuy\n",
      "Processing Record 41 of Set 9 | City Id: 5954718 and City Name  flin flon\n",
      "Processing Record 42 of Set 9 | City Id: 4470244 and City Name  havelock\n",
      "Processing Record 43 of Set 9 | City Id: 1623197 and City Name  tual\n",
      "Processing Record 44 of Set 9 | City Id: 2015686 and City Name  talakan\n",
      "Processing Record 45 of Set 9 | City Id: 2514651 and City Name  los llanos de aridane\n",
      "Processing Record 46 of Set 9 | City Id: 161974 and City Name  gazanjyk\n",
      "Processing Record 47 of Set 9 | City Id: 3985031 and City Name  san pedro de los naranjos\n",
      "Processing Record 48 of Set 9 | City Id: 53654 and City Name  mogadishu\n",
      "Processing Record 49 of Set 9 | City Id: 2165087 and City Name  gold coast\n",
      "Processing Record 1 of Set 10 | City Id: 3994469 and City Name  ojinaga\n",
      "Processing Record 2 of Set 10 | City Id: 3839307 and City Name  rawson\n",
      "Processing Record 3 of Set 10 | City Id: 365763 and City Name  tonj\n",
      "Processing Record 4 of Set 10 | City Id: 3461425 and City Name  ilhabela\n",
      "Processing Record 5 of Set 10 | City Id: 2027042 and City Name  batagay-alyta\n",
      "Processing Record 6 of Set 10 | City Id: 415189 and City Name  aden\n",
      "Processing Record 7 of Set 10 | City Id: 3082734 and City Name  wabrzezno\n",
      "City not found. Skipping... mahadday weyne\n",
      "Processing Record 9 of Set 10 | City Id: 1254709 and City Name  tezu\n",
      "Processing Record 10 of Set 10 | City Id: 1735106 and City Name  georgetown\n",
      "Processing Record 11 of Set 10 | City Id: 3838233 and City Name  salta\n",
      "Processing Record 12 of Set 10 | City Id: 4032420 and City Name  neiafu\n",
      "Processing Record 13 of Set 10 | City Id: 5887916 and City Name  athabasca\n",
      "Processing Record 14 of Set 10 | City Id: 1168700 and City Name  ormara\n",
      "Processing Record 15 of Set 10 | City Id: 1259385 and City Name  port blair\n",
      "Processing Record 16 of Set 10 | City Id: 4034551 and City Name  faanui\n",
      "Processing Record 17 of Set 10 | City Id: 1072849 and City Name  ankazobe\n",
      "Processing Record 18 of Set 10 | City Id: 3843123 and City Name  neuquen\n",
      "Processing Record 19 of Set 10 | City Id: 2176639 and City Name  batemans bay\n",
      "Processing Record 20 of Set 10 | City Id: 3169539 and City Name  recco\n",
      "Processing Record 21 of Set 10 | City Id: 5879400 and City Name  anchorage\n",
      "Processing Record 22 of Set 10 | City Id: 2372532 and City Name  gabu\n",
      "Processing Record 23 of Set 10 | City Id: 3470137 and City Name  belmonte\n",
      "Processing Record 24 of Set 10 | City Id: 4238777 and City Name  flora\n",
      "Processing Record 25 of Set 10 | City Id: 3981391 and City Name  tomatlan\n",
      "City not found. Skipping... fevralsk\n",
      "Processing Record 27 of Set 10 | City Id: 3372472 and City Name  vila franca do campo\n"
     ]
    },
    {
     "name": "stdout",
     "output_type": "stream",
     "text": [
      "Processing Record 28 of Set 10 | City Id: 3185133 and City Name  koplik\n",
      "Processing Record 29 of Set 10 | City Id: 3493175 and City Name  puerto plata\n",
      "Processing Record 30 of Set 10 | City Id: 1052373 and City Name  beira\n",
      "Processing Record 31 of Set 10 | City Id: 3939761 and City Name  hualmay\n",
      "Processing Record 32 of Set 10 | City Id: 2152659 and City Name  port macquarie\n",
      "Processing Record 33 of Set 10 | City Id: 4013679 and City Name  coahuayana\n",
      "Processing Record 34 of Set 10 | City Id: 3402648 and City Name  carutapera\n",
      "Processing Record 35 of Set 10 | City Id: 2729907 and City Name  longyearbyen\n",
      "Processing Record 36 of Set 10 | City Id: 2137773 and City Name  vao\n",
      "Processing Record 37 of Set 10 | City Id: 3382160 and City Name  cayenne\n",
      "Processing Record 38 of Set 10 | City Id: 551891 and City Name  kasimov\n",
      "Processing Record 39 of Set 10 | City Id: 3571913 and City Name  marsh harbour\n",
      "Processing Record 40 of Set 10 | City Id: 6166142 and City Name  thunder bay\n",
      "Processing Record 41 of Set 10 | City Id: 2120048 and City Name  ust-nera\n",
      "Processing Record 42 of Set 10 | City Id: 4417205 and City Name  bay saint louis\n",
      "City not found. Skipping... hihifo\n",
      "Processing Record 44 of Set 10 | City Id: 2185329 and City Name  otane\n",
      "Processing Record 45 of Set 10 | City Id: 2444219 and City Name  goure\n",
      "Processing Record 46 of Set 10 | City Id: 2034691 and City Name  songjianghe\n",
      "Processing Record 47 of Set 10 | City Id: 3533462 and City Name  acapulco\n",
      "Processing Record 48 of Set 10 | City Id: 3356832 and City Name  henties bay\n",
      "Processing Record 49 of Set 10 | City Id: 569579 and City Name  chekmagush\n",
      "Processing Record 1 of Set 11 | City Id: 2108502 and City Name  honiara\n",
      "Processing Record 2 of Set 11 | City Id: 3577154 and City Name  oranjestad\n",
      "Processing Record 3 of Set 11 | City Id: 2172797 and City Name  cairns\n",
      "City not found. Skipping... halalo\n",
      "Processing Record 5 of Set 11 | City Id: 235715 and City Name  karonga\n",
      "Processing Record 6 of Set 11 | City Id: 2078025 and City Name  adelaide\n",
      "Processing Record 7 of Set 11 | City Id: 2146219 and City Name  hervey bay\n",
      "Processing Record 8 of Set 11 | City Id: 139223 and City Name  chalus\n",
      "Processing Record 9 of Set 11 | City Id: 2295672 and City Name  saltpond\n",
      "Processing Record 10 of Set 11 | City Id: 3174367 and City Name  macomer\n",
      "City not found. Skipping... urdzhar\n",
      "City not found. Skipping... stamsund\n",
      "Processing Record 13 of Set 11 | City Id: 368246 and City Name  raga\n",
      "Processing Record 14 of Set 11 | City Id: 2110560 and City Name  yamada\n",
      "Processing Record 15 of Set 11 | City Id: 2125906 and City Name  dukat\n",
      "Processing Record 16 of Set 11 | City Id: 3430545 and City Name  moron\n",
      "Processing Record 17 of Set 11 | City Id: 3517970 and City Name  pochutla\n",
      "Processing Record 18 of Set 11 | City Id: 933000 and City Name  tonota\n",
      "Processing Record 19 of Set 11 | City Id: 3489523 and City Name  may pen\n",
      "City not found. Skipping... umzimvubu\n",
      "Processing Record 21 of Set 11 | City Id: 2038421 and City Name  bayan\n",
      "Processing Record 22 of Set 11 | City Id: 226267 and City Name  sironko\n",
      "Processing Record 23 of Set 11 | City Id: 583345 and City Name  aleksandrov gay\n",
      "Processing Record 24 of Set 11 | City Id: 6542092 and City Name  anzio\n",
      "City not found. Skipping... tuggurt\n",
      "Processing Record 26 of Set 11 | City Id: 6457404 and City Name  rimini\n",
      "Processing Record 27 of Set 11 | City Id: 3615683 and City Name  wiwili\n",
      "City not found. Skipping... tumannyy\n",
      "Processing Record 29 of Set 11 | City Id: 3453315 and City Name  pocone\n",
      "Processing Record 30 of Set 11 | City Id: 3385670 and City Name  urucara\n",
      "Processing Record 31 of Set 11 | City Id: 2168305 and City Name  dubbo\n",
      "Processing Record 32 of Set 11 | City Id: 1254046 and City Name  tura\n",
      "City not found. Skipping... dolbeau\n",
      "Processing Record 34 of Set 11 | City Id: 778707 and City Name  mehamn\n",
      "Processing Record 35 of Set 11 | City Id: 2222230 and City Name  sangmelima\n",
      "Processing Record 36 of Set 11 | City Id: 2400547 and City Name  gamba\n",
      "Processing Record 37 of Set 11 | City Id: 653272 and City Name  kemijarvi\n",
      "Processing Record 38 of Set 11 | City Id: 1710519 and City Name  isabela\n",
      "Processing Record 39 of Set 11 | City Id: 5393971 and City Name  scotts valley\n",
      "Processing Record 40 of Set 11 | City Id: 3466641 and City Name  pojuca\n",
      "Processing Record 41 of Set 11 | City Id: 1633034 and City Name  palu\n",
      "Processing Record 42 of Set 11 | City Id: 1526038 and City Name  atbasar\n",
      "Processing Record 43 of Set 11 | City Id: 2614764 and City Name  ringsted\n",
      "Processing Record 44 of Set 11 | City Id: 4529987 and City Name  bartlesville\n",
      "Processing Record 45 of Set 11 | City Id: 1071296 and City Name  antalaha\n",
      "Processing Record 46 of Set 11 | City Id: 1529484 and City Name  hami\n",
      "Processing Record 47 of Set 11 | City Id: 779350 and City Name  karasjok\n",
      "Processing Record 48 of Set 11 | City Id: 237379 and City Name  ndele\n",
      "Processing Record 49 of Set 11 | City Id: 5414069 and City Name  black forest\n",
      "Processing Record 1 of Set 12 | City Id: 2171722 and City Name  charters towers\n",
      "Processing Record 2 of Set 12 | City Id: 300058 and City Name  susurluk\n",
      "Processing Record 3 of Set 12 | City Id: 1259784 and City Name  phek\n",
      "Processing Record 4 of Set 12 | City Id: 2126682 and City Name  bilibino\n",
      "Processing Record 5 of Set 12 | City Id: 5973108 and City Name  hearst\n",
      "Processing Record 6 of Set 12 | City Id: 1516048 and City Name  hovd\n",
      "Processing Record 7 of Set 12 | City Id: 3361934 and City Name  saldanha\n",
      "City not found. Skipping... tapaua\n",
      "Processing Record 9 of Set 12 | City Id: 2028164 and City Name  deputatskiy\n",
      "Processing Record 10 of Set 12 | City Id: 2516797 and City Name  hellin\n",
      "Processing Record 11 of Set 12 | City Id: 3395458 and City Name  maragogi\n",
      "Processing Record 12 of Set 12 | City Id: 3354077 and City Name  opuwo\n",
      "Processing Record 13 of Set 12 | City Id: 3457991 and City Name  mangaratiba\n",
      "Processing Record 14 of Set 12 | City Id: 779554 and City Name  honningsvag\n",
      "Processing Record 15 of Set 12 | City Id: 915471 and City Name  kalabo\n",
      "Processing Record 16 of Set 12 | City Id: 128226 and City Name  kermanshah\n",
      "Processing Record 17 of Set 12 | City Id: 2020121 and City Name  mayya\n",
      "Processing Record 18 of Set 12 | City Id: 4001056 and City Name  la orilla\n",
      "Processing Record 19 of Set 12 | City Id: 2514301 and City Name  mahon\n",
      "Processing Record 20 of Set 12 | City Id: 703317 and City Name  lazurne\n",
      "Processing Record 21 of Set 12 | City Id: 2456917 and City Name  goundam\n",
      "Processing Record 22 of Set 12 | City Id: 1512101 and City Name  agirish\n",
      "Processing Record 23 of Set 12 | City Id: 1271675 and City Name  gangapur\n",
      "Processing Record 24 of Set 12 | City Id: 257122 and City Name  methoni\n",
      "Processing Record 25 of Set 12 | City Id: 4983811 and City Name  adrian\n",
      "Processing Record 26 of Set 12 | City Id: 3692073 and City Name  santiago de cao\n",
      "Processing Record 27 of Set 12 | City Id: 2122850 and City Name  nikolayevsk-na-amure\n",
      "Processing Record 28 of Set 12 | City Id: 2127202 and City Name  anadyr\n",
      "Processing Record 29 of Set 12 | City Id: 639406 and City Name  riihimaki\n",
      "Processing Record 30 of Set 12 | City Id: 1684803 and City Name  tabuk\n",
      "Processing Record 31 of Set 12 | City Id: 6113406 and City Name  prince rupert\n",
      "Processing Record 32 of Set 12 | City Id: 2013375 and City Name  vitim\n",
      "Processing Record 33 of Set 12 | City Id: 1816751 and City Name  beidao\n",
      "Processing Record 34 of Set 12 | City Id: 589253 and City Name  pussi\n",
      "Processing Record 35 of Set 12 | City Id: 1608408 and City Name  narathiwat\n",
      "Processing Record 36 of Set 12 | City Id: 2120047 and City Name  ust-omchug\n",
      "Processing Record 37 of Set 12 | City Id: 286245 and City Name  sur\n",
      "Processing Record 38 of Set 12 | City Id: 2013921 and City Name  ust-kuyga\n",
      "Processing Record 39 of Set 12 | City Id: 56335 and City Name  jawhar\n",
      "Processing Record 40 of Set 12 | City Id: 2243271 and City Name  cabinda\n",
      "Processing Record 41 of Set 12 | City Id: 2377457 and City Name  nouadhibou\n",
      "Processing Record 42 of Set 12 | City Id: 1511146 and City Name  azanka\n",
      "Processing Record 43 of Set 12 | City Id: 2015608 and City Name  tambovka\n",
      "City not found. Skipping... macaboboni\n",
      "Processing Record 45 of Set 12 | City Id: 2449893 and City Name  tessalit\n",
      "Processing Record 46 of Set 12 | City Id: 1695751 and City Name  panacan\n"
     ]
    },
    {
     "name": "stdout",
     "output_type": "stream",
     "text": [
      "Processing Record 47 of Set 12 | City Id: 2026160 and City Name  borogontsy\n",
      "Processing Record 48 of Set 12 | City Id: 3946937 and City Name  azangaro\n",
      "City not found. Skipping... chikoy\n",
      "Processing Record 1 of Set 13 | City Id: 3155152 and City Name  gravdal\n",
      "Processing Record 2 of Set 13 | City Id: 3674676 and City Name  mitu\n",
      "Processing Record 3 of Set 13 | City Id: 2417795 and City Name  mandiana\n",
      "Processing Record 4 of Set 13 | City Id: 159134 and City Name  inyonga\n",
      "Processing Record 5 of Set 13 | City Id: 1012600 and City Name  cradock\n",
      "Processing Record 6 of Set 13 | City Id: 3105522 and City Name  bereda\n",
      "Processing Record 7 of Set 13 | City Id: 2521415 and City Name  baena\n",
      "Processing Record 8 of Set 13 | City Id: 1337607 and City Name  kudahuvadhoo\n",
      "Processing Record 9 of Set 13 | City Id: 650769 and City Name  kristiinankaupunki\n",
      "Processing Record 10 of Set 13 | City Id: 2013442 and City Name  vershino-darasunskiy\n",
      "----------------------------\n",
      "Data Retrieval Complete\n",
      "----------------------------\n"
     ]
    }
   ],
   "source": [
    "len(cities)\n",
    "url = \"http://api.openweathermap.org/data/2.5/weather?\"\n",
    "\n",
    "temperature = []\n",
    "lat = []\n",
    "lng = []\n",
    "humidity = []\n",
    "cloudiness = []\n",
    "wind_speed = []\n",
    "country = []\n",
    "date = []\n",
    "max_temp = []\n",
    "weather_cities = []\n",
    "\n",
    "# OpenWeatherMap API has a limit of 60 calls/minute, so I'm setting a counter to stop at 50 and wait a minute\n",
    "\n",
    "count = 1\n",
    "sets = 1\n",
    "t0 =time.time()\n",
    "\n",
    "print(\"Beginning Data Retrieval\")\n",
    "print(\"----------------------------\")\n",
    "\n",
    "for x in cities:\n",
    "    query_url = url + \"appid=\" + weather_api_key + \"&q=\" + x + \"&units=imperial\"\n",
    "    weather_response = requests.get(query_url)\n",
    "    weather_response_json = weather_response.json()      \n",
    "    try:\n",
    "        city_id = weather_response_json[\"id\"]\n",
    "        print(f'Processing Record {count} of Set {sets} | City Id: {city_id} and City Name  {x}')\n",
    "        temperature.append(weather_response_json[\"main\"][\"temp\"])\n",
    "        lat.append(weather_response_json[\"coord\"][\"lat\"])\n",
    "        lng.append(weather_response_json[\"coord\"][\"lon\"])\n",
    "        humidity.append(weather_response_json[\"main\"][\"humidity\"])\n",
    "        cloudiness.append(weather_response_json[\"clouds\"][\"all\"])\n",
    "        wind_speed.append(weather_response_json[\"wind\"][\"speed\"])\n",
    "        country.append(weather_response_json[\"sys\"][\"country\"])\n",
    "        date.append(weather_response_json[\"dt\"])\n",
    "        max_temp.append(weather_response_json[\"main\"][\"temp_max\"])\n",
    "        weather_cities.append(x)\n",
    "    except KeyError:\n",
    "        print(f\"City not found. Skipping... {x}\") \n",
    "\n",
    "    count = count+1\n",
    "    if count == 51:\n",
    "        t1=time.time()\n",
    "        count = 1\n",
    "        sets = sets+1\n",
    "        time.sleep(60-(t1-t0))\n",
    "        t0=time.time()\n",
    "\n",
    "print(\"----------------------------\")\n",
    "print(\"Data Retrieval Complete\")\n",
    "print(\"----------------------------\")   \n",
    "\n"
   ]
  },
  {
   "cell_type": "markdown",
   "metadata": {},
   "source": [
    "### Convert Raw Data to DataFrame\n",
    "* Export the city data into a .csv.\n",
    "* Display the DataFrame"
   ]
  },
  {
   "cell_type": "code",
   "execution_count": 8,
   "metadata": {
    "scrolled": true
   },
   "outputs": [],
   "source": [
    "# Create a dictionary from the API data.  \n",
    "weather_dict = {\n",
    "    \"City\": weather_cities,\n",
    "    \"Cloudiness\": cloudiness,\n",
    "    \"Country\": country,\n",
    "    \"Date\": date,\n",
    "    \"Humidity\": humidity,\n",
    "    \"Lat\": lat,\n",
    "    \"Lng\": lng,\n",
    "    \"Max Temp\": max_temp,\n",
    "    \"Wind Speed\": wind_speed\n",
    "}"
   ]
  },
  {
   "cell_type": "code",
   "execution_count": 9,
   "metadata": {},
   "outputs": [
    {
     "data": {
      "text/html": [
       "<div>\n",
       "<style scoped>\n",
       "    .dataframe tbody tr th:only-of-type {\n",
       "        vertical-align: middle;\n",
       "    }\n",
       "\n",
       "    .dataframe tbody tr th {\n",
       "        vertical-align: top;\n",
       "    }\n",
       "\n",
       "    .dataframe thead th {\n",
       "        text-align: right;\n",
       "    }\n",
       "</style>\n",
       "<table border=\"1\" class=\"dataframe\">\n",
       "  <thead>\n",
       "    <tr style=\"text-align: right;\">\n",
       "      <th></th>\n",
       "      <th>City</th>\n",
       "      <th>Cloudiness</th>\n",
       "      <th>Country</th>\n",
       "      <th>Date</th>\n",
       "      <th>Humidity</th>\n",
       "      <th>Lat</th>\n",
       "      <th>Lng</th>\n",
       "      <th>Max Temp</th>\n",
       "      <th>Wind Speed</th>\n",
       "    </tr>\n",
       "  </thead>\n",
       "  <tbody>\n",
       "    <tr>\n",
       "      <td>0</td>\n",
       "      <td>east grinstead</td>\n",
       "      <td>75</td>\n",
       "      <td>GB</td>\n",
       "      <td>1584160377</td>\n",
       "      <td>93</td>\n",
       "      <td>51.12</td>\n",
       "      <td>-0.01</td>\n",
       "      <td>46.40</td>\n",
       "      <td>9.17</td>\n",
       "    </tr>\n",
       "    <tr>\n",
       "      <td>1</td>\n",
       "      <td>hilo</td>\n",
       "      <td>90</td>\n",
       "      <td>US</td>\n",
       "      <td>1584160698</td>\n",
       "      <td>83</td>\n",
       "      <td>19.73</td>\n",
       "      <td>-155.09</td>\n",
       "      <td>75.00</td>\n",
       "      <td>14.99</td>\n",
       "    </tr>\n",
       "    <tr>\n",
       "      <td>2</td>\n",
       "      <td>zhigansk</td>\n",
       "      <td>82</td>\n",
       "      <td>RU</td>\n",
       "      <td>1584160619</td>\n",
       "      <td>92</td>\n",
       "      <td>66.77</td>\n",
       "      <td>123.37</td>\n",
       "      <td>-5.37</td>\n",
       "      <td>5.99</td>\n",
       "    </tr>\n",
       "    <tr>\n",
       "      <td>3</td>\n",
       "      <td>oppdal</td>\n",
       "      <td>75</td>\n",
       "      <td>NO</td>\n",
       "      <td>1584160619</td>\n",
       "      <td>76</td>\n",
       "      <td>62.59</td>\n",
       "      <td>9.69</td>\n",
       "      <td>2.88</td>\n",
       "      <td>9.95</td>\n",
       "    </tr>\n",
       "    <tr>\n",
       "      <td>4</td>\n",
       "      <td>paita</td>\n",
       "      <td>65</td>\n",
       "      <td>PE</td>\n",
       "      <td>1584160619</td>\n",
       "      <td>68</td>\n",
       "      <td>-5.09</td>\n",
       "      <td>-81.11</td>\n",
       "      <td>78.91</td>\n",
       "      <td>5.57</td>\n",
       "    </tr>\n",
       "  </tbody>\n",
       "</table>\n",
       "</div>"
      ],
      "text/plain": [
       "             City  Cloudiness Country        Date  Humidity    Lat     Lng  \\\n",
       "0  east grinstead          75      GB  1584160377        93  51.12   -0.01   \n",
       "1            hilo          90      US  1584160698        83  19.73 -155.09   \n",
       "2        zhigansk          82      RU  1584160619        92  66.77  123.37   \n",
       "3          oppdal          75      NO  1584160619        76  62.59    9.69   \n",
       "4           paita          65      PE  1584160619        68  -5.09  -81.11   \n",
       "\n",
       "   Max Temp  Wind Speed  \n",
       "0     46.40        9.17  \n",
       "1     75.00       14.99  \n",
       "2     -5.37        5.99  \n",
       "3      2.88        9.95  \n",
       "4     78.91        5.57  "
      ]
     },
     "execution_count": 9,
     "metadata": {},
     "output_type": "execute_result"
    }
   ],
   "source": [
    "# Create a dataframe from the dictionary I created from the API data\n",
    "\n",
    "city_weather_df = pd.DataFrame(weather_dict)\n",
    "city_weather_df.head()"
   ]
  },
  {
   "cell_type": "code",
   "execution_count": 10,
   "metadata": {},
   "outputs": [],
   "source": [
    "# export the city weather data to csv\n",
    "\n",
    "city_weather_df.to_csv(\"WeatherPY.csv\", encoding=\"utf-8\", index=False)"
   ]
  },
  {
   "cell_type": "markdown",
   "metadata": {},
   "source": [
    "### Plotting the Data\n",
    "* Use proper labeling of the plots using plot titles (including date of analysis) and axes labels.\n",
    "* Save the plotted figures as .pngs."
   ]
  },
  {
   "cell_type": "markdown",
   "metadata": {},
   "source": [
    "#### Latitude vs. Temperature Plot"
   ]
  },
  {
   "cell_type": "code",
   "execution_count": 11,
   "metadata": {
    "scrolled": true
   },
   "outputs": [
    {
     "data": {
      "image/png": "[encoded data removed]",
      "text/plain": [
       "<Figure size 432x288 with 1 Axes>"
      ]
     },
     "metadata": {
      "needs_background": "light"
     },
     "output_type": "display_data"
    }
   ],
   "source": [
    "# Create a scatter plot showing the relationship between and latitude and max temp\n",
    "\n",
    "plt.scatter(city_weather_df[\"Lat\"], city_weather_df[\"Max Temp\"], marker='o' )\n",
    "plt.title(f\"City Latitude vs. Max Temperature ({datetime.now().date()})\")\n",
    "plt.xlabel(\"Latitude\")\n",
    "plt.ylabel(\"Max Temperature (F)\")\n",
    "\n",
    "plt.savefig(\"LatVsTemp.png\")\n",
    "plt.show()"
   ]
  },
  {
   "cell_type": "code",
   "execution_count": null,
   "metadata": {},
   "outputs": [],
   "source": [
    "#Analysis:  \n",
    "#The latitude vs. temp plot is showing us that the temperatures around lat 0 are highest.  \n",
    "#The higher latitudes have the coldest temps"
   ]
  },
  {
   "cell_type": "markdown",
   "metadata": {},
   "source": [
    "#### Latitude vs. Humidity Plot"
   ]
  },
  {
   "cell_type": "code",
   "execution_count": 12,
   "metadata": {},
   "outputs": [
    {
     "data": {
      "image/png": "[encoded data removed]",
      "text/plain": [
       "<Figure size 432x288 with 1 Axes>"
      ]
     },
     "metadata": {
      "needs_background": "light"
     },
     "output_type": "display_data"
    }
   ],
   "source": [
    "# Create a scatter plot showing the relationship between and latitude and Humidity\n",
    "\n",
    "plt.scatter(city_weather_df[\"Lat\"], city_weather_df[\"Humidity\"], marker='o' )\n",
    "plt.title(f\"City Latitude vs. Humidity ({datetime.now().date()})\")\n",
    "plt.xlabel(\"Latitude\")\n",
    "plt.ylabel(\"Humidity (%)\")\n",
    "\n",
    "plt.savefig(\"LatVsHumidity.png\")\n",
    "plt.show()"
   ]
  },
  {
   "cell_type": "code",
   "execution_count": null,
   "metadata": {},
   "outputs": [],
   "source": [
    "# Analysis:\n",
    "#The latitude vs. humidity plot is showing us that humidity levels are not strongly tied to latitude although there\n",
    "# seems to be a slightly larger concentration of humidity at higher temps."
   ]
  },
  {
   "cell_type": "markdown",
   "metadata": {},
   "source": [
    "#### Latitude vs. Cloudiness Plot"
   ]
  },
  {
   "cell_type": "code",
   "execution_count": 13,
   "metadata": {},
   "outputs": [
    {
     "data": {
      "image/png": "[encoded data removed]",
      "text/plain": [
       "<Figure size 432x288 with 1 Axes>"
      ]
     },
     "metadata": {
      "needs_background": "light"
     },
     "output_type": "display_data"
    }
   ],
   "source": [
    "# Create a scatter plot showing the relationship between and latitude and Cloudiness\n",
    "\n",
    "plt.scatter(city_weather_df[\"Lat\"], city_weather_df[\"Cloudiness\"], marker='o' )\n",
    "plt.title(f\"City Latitude vs. Cloudiness ({datetime.now().date()})\")\n",
    "plt.xlabel(\"Latitude\")\n",
    "plt.ylabel(\"Cloudiness (%)\")\n",
    "\n",
    "plt.savefig(\"LatVsCloudiness.png\")\n",
    "plt.show()"
   ]
  },
  {
   "cell_type": "code",
   "execution_count": null,
   "metadata": {},
   "outputs": [],
   "source": [
    "# Analysis:\n",
    "#The latitude vs. cloudiness plot is showing us that cloudiness is not strongly tied to latitude."
   ]
  },
  {
   "cell_type": "markdown",
   "metadata": {},
   "source": [
    "#### Latitude vs. Wind Speed Plot"
   ]
  },
  {
   "cell_type": "code",
   "execution_count": 14,
   "metadata": {},
   "outputs": [
    {
     "data": {
      "image/png": "[encoded data removed]",
      "text/plain": [
       "<Figure size 432x288 with 1 Axes>"
      ]
     },
     "metadata": {
      "needs_background": "light"
     },
     "output_type": "display_data"
    }
   ],
   "source": [
    "# Create a scatter plot showing the relationship between and latitude and Windspeed\n",
    "\n",
    "plt.scatter(city_weather_df[\"Lat\"], city_weather_df[\"Wind Speed\"], marker='o' )\n",
    "plt.title(f\"City Latitude vs. Wind Speed ({datetime.now().date()})\")\n",
    "plt.xlabel(\"Latitude\")\n",
    "plt.ylabel(\"Windspeed (mph)\")\n",
    "\n",
    "plt.savefig(\"LatVsWindspeed.png\")\n",
    "plt.show()"
   ]
  },
  {
   "cell_type": "code",
   "execution_count": null,
   "metadata": {},
   "outputs": [],
   "source": [
    "# Analysis:\n",
    "# The latitude vs. wind speed plot is showing us that windspeed is not strongly tied to latitude and is pretty similar \n",
    "#  for most latitudes."
   ]
  },
  {
   "cell_type": "markdown",
   "metadata": {},
   "source": [
    "## Linear Regression"
   ]
  },
  {
   "cell_type": "code",
   "execution_count": 15,
   "metadata": {},
   "outputs": [
    {
     "name": "stdout",
     "output_type": "stream",
     "text": [
      "0      36.240371\n",
      "1      55.385521\n",
      "2      26.695242\n",
      "3      29.244676\n",
      "4      70.523546\n",
      "         ...    \n",
      "549    41.028183\n",
      "550    44.474188\n",
      "551    65.790626\n",
      "552    29.439848\n",
      "553    35.490179\n",
      "Name: Lat, Length: 554, dtype: float64\n"
     ]
    }
   ],
   "source": [
    "# Perform a linear regression on temperature vs. latitude\n",
    "(slope, intercept, rvalue, pvalue, stderr) = stats.linregress(city_weather_df[\"Lat\"], city_weather_df[\"Max Temp\"])\n",
    "\n",
    "# Get regression values\n",
    "regress_values = city_weather_df[\"Lat\"] * slope + intercept\n",
    "print(regress_values)"
   ]
  },
  {
   "cell_type": "code",
   "execution_count": 16,
   "metadata": {},
   "outputs": [
    {
     "name": "stdout",
     "output_type": "stream",
     "text": [
      "y = -0.61x +67.42\n",
      "The r-squared is: -0.7515752741899185\n"
     ]
    },
    {
     "data": {
      "image/png": "[encoded data removed]",
      "text/plain": [
       "<Figure size 432x288 with 1 Axes>"
      ]
     },
     "metadata": {
      "needs_background": "light"
     },
     "output_type": "display_data"
    }
   ],
   "source": [
    "# OPTIONAL: Create a function to create Linear Regression plots\n",
    "# Create a scatter plot showing the relationship between and latitude and max temp\n",
    "\n",
    "# Create line equation string\n",
    "line_eq = \"y = \" + str(round(slope,2)) + \"x +\" + str(round(intercept,2))\n",
    "print(line_eq)\n",
    "\n",
    "plt.scatter(city_weather_df[\"Lat\"], city_weather_df[\"Max Temp\"], marker='o' )\n",
    "plt.title(f\"City Latitude vs. Max Temperature ({datetime.now().date()})\")\n",
    "plt.xlabel(\"Latitude\")\n",
    "plt.ylabel(\"Max Temperature (F)\")\n",
    "\n",
    "plt.plot(city_weather_df[\"Lat\"],regress_values,\"r-\")\n",
    "\n",
    "# Label plot and annotate the line equation\n",
    "plt.annotate(line_eq,(20,15),fontsize=15,color=\"red\")\n",
    "\n",
    "# Print r square value\n",
    "print(f\"The r-squared is: {rvalue}\")\n",
    "\n",
    "plt.savefig(\"LatVsTempLR.png\")\n",
    "\n",
    "# Show plot\n",
    "plt.show()"
   ]
  },
  {
   "cell_type": "code",
   "execution_count": 17,
   "metadata": {},
   "outputs": [
    {
     "data": {
      "text/html": [
       "<div>\n",
       "<style scoped>\n",
       "    .dataframe tbody tr th:only-of-type {\n",
       "        vertical-align: middle;\n",
       "    }\n",
       "\n",
       "    .dataframe tbody tr th {\n",
       "        vertical-align: top;\n",
       "    }\n",
       "\n",
       "    .dataframe thead th {\n",
       "        text-align: right;\n",
       "    }\n",
       "</style>\n",
       "<table border=\"1\" class=\"dataframe\">\n",
       "  <thead>\n",
       "    <tr style=\"text-align: right;\">\n",
       "      <th></th>\n",
       "      <th>City</th>\n",
       "      <th>Cloudiness</th>\n",
       "      <th>Country</th>\n",
       "      <th>Date</th>\n",
       "      <th>Humidity</th>\n",
       "      <th>Lat</th>\n",
       "      <th>Lng</th>\n",
       "      <th>Max Temp</th>\n",
       "      <th>Wind Speed</th>\n",
       "    </tr>\n",
       "  </thead>\n",
       "  <tbody>\n",
       "    <tr>\n",
       "      <td>0</td>\n",
       "      <td>east grinstead</td>\n",
       "      <td>75</td>\n",
       "      <td>GB</td>\n",
       "      <td>1584160377</td>\n",
       "      <td>93</td>\n",
       "      <td>51.12</td>\n",
       "      <td>-0.01</td>\n",
       "      <td>46.40</td>\n",
       "      <td>9.17</td>\n",
       "    </tr>\n",
       "    <tr>\n",
       "      <td>1</td>\n",
       "      <td>hilo</td>\n",
       "      <td>90</td>\n",
       "      <td>US</td>\n",
       "      <td>1584160698</td>\n",
       "      <td>83</td>\n",
       "      <td>19.73</td>\n",
       "      <td>-155.09</td>\n",
       "      <td>75.00</td>\n",
       "      <td>14.99</td>\n",
       "    </tr>\n",
       "    <tr>\n",
       "      <td>2</td>\n",
       "      <td>zhigansk</td>\n",
       "      <td>82</td>\n",
       "      <td>RU</td>\n",
       "      <td>1584160619</td>\n",
       "      <td>92</td>\n",
       "      <td>66.77</td>\n",
       "      <td>123.37</td>\n",
       "      <td>-5.37</td>\n",
       "      <td>5.99</td>\n",
       "    </tr>\n",
       "    <tr>\n",
       "      <td>3</td>\n",
       "      <td>oppdal</td>\n",
       "      <td>75</td>\n",
       "      <td>NO</td>\n",
       "      <td>1584160619</td>\n",
       "      <td>76</td>\n",
       "      <td>62.59</td>\n",
       "      <td>9.69</td>\n",
       "      <td>2.88</td>\n",
       "      <td>9.95</td>\n",
       "    </tr>\n",
       "    <tr>\n",
       "      <td>6</td>\n",
       "      <td>qaanaaq</td>\n",
       "      <td>0</td>\n",
       "      <td>GL</td>\n",
       "      <td>1584160711</td>\n",
       "      <td>58</td>\n",
       "      <td>77.48</td>\n",
       "      <td>-69.36</td>\n",
       "      <td>-22.00</td>\n",
       "      <td>5.57</td>\n",
       "    </tr>\n",
       "  </tbody>\n",
       "</table>\n",
       "</div>"
      ],
      "text/plain": [
       "             City  Cloudiness Country        Date  Humidity    Lat     Lng  \\\n",
       "0  east grinstead          75      GB  1584160377        93  51.12   -0.01   \n",
       "1            hilo          90      US  1584160698        83  19.73 -155.09   \n",
       "2        zhigansk          82      RU  1584160619        92  66.77  123.37   \n",
       "3          oppdal          75      NO  1584160619        76  62.59    9.69   \n",
       "6         qaanaaq           0      GL  1584160711        58  77.48  -69.36   \n",
       "\n",
       "   Max Temp  Wind Speed  \n",
       "0     46.40        9.17  \n",
       "1     75.00       14.99  \n",
       "2     -5.37        5.99  \n",
       "3      2.88        9.95  \n",
       "6    -22.00        5.57  "
      ]
     },
     "execution_count": 17,
     "metadata": {},
     "output_type": "execute_result"
    }
   ],
   "source": [
    "# Create Northern Hemisphere DataFrame\n",
    "\n",
    "northern_df = city_weather_df[city_weather_df[\"Lat\"] >= 0]\n",
    "northern_df.head()"
   ]
  },
  {
   "cell_type": "code",
   "execution_count": 18,
   "metadata": {},
   "outputs": [
    {
     "data": {
      "text/html": [
       "<div>\n",
       "<style scoped>\n",
       "    .dataframe tbody tr th:only-of-type {\n",
       "        vertical-align: middle;\n",
       "    }\n",
       "\n",
       "    .dataframe tbody tr th {\n",
       "        vertical-align: top;\n",
       "    }\n",
       "\n",
       "    .dataframe thead th {\n",
       "        text-align: right;\n",
       "    }\n",
       "</style>\n",
       "<table border=\"1\" class=\"dataframe\">\n",
       "  <thead>\n",
       "    <tr style=\"text-align: right;\">\n",
       "      <th></th>\n",
       "      <th>City</th>\n",
       "      <th>Cloudiness</th>\n",
       "      <th>Country</th>\n",
       "      <th>Date</th>\n",
       "      <th>Humidity</th>\n",
       "      <th>Lat</th>\n",
       "      <th>Lng</th>\n",
       "      <th>Max Temp</th>\n",
       "      <th>Wind Speed</th>\n",
       "    </tr>\n",
       "  </thead>\n",
       "  <tbody>\n",
       "    <tr>\n",
       "      <td>4</td>\n",
       "      <td>paita</td>\n",
       "      <td>65</td>\n",
       "      <td>PE</td>\n",
       "      <td>1584160619</td>\n",
       "      <td>68</td>\n",
       "      <td>-5.09</td>\n",
       "      <td>-81.11</td>\n",
       "      <td>78.91</td>\n",
       "      <td>5.57</td>\n",
       "    </tr>\n",
       "    <tr>\n",
       "      <td>5</td>\n",
       "      <td>esperance</td>\n",
       "      <td>75</td>\n",
       "      <td>AU</td>\n",
       "      <td>1584160061</td>\n",
       "      <td>73</td>\n",
       "      <td>-33.87</td>\n",
       "      <td>121.90</td>\n",
       "      <td>69.80</td>\n",
       "      <td>13.87</td>\n",
       "    </tr>\n",
       "    <tr>\n",
       "      <td>7</td>\n",
       "      <td>richards bay</td>\n",
       "      <td>83</td>\n",
       "      <td>ZA</td>\n",
       "      <td>1584160540</td>\n",
       "      <td>87</td>\n",
       "      <td>-28.78</td>\n",
       "      <td>32.04</td>\n",
       "      <td>76.64</td>\n",
       "      <td>15.68</td>\n",
       "    </tr>\n",
       "    <tr>\n",
       "      <td>10</td>\n",
       "      <td>vaini</td>\n",
       "      <td>90</td>\n",
       "      <td>TO</td>\n",
       "      <td>1584160714</td>\n",
       "      <td>100</td>\n",
       "      <td>-21.20</td>\n",
       "      <td>-175.20</td>\n",
       "      <td>75.20</td>\n",
       "      <td>18.34</td>\n",
       "    </tr>\n",
       "    <tr>\n",
       "      <td>11</td>\n",
       "      <td>hithadhoo</td>\n",
       "      <td>14</td>\n",
       "      <td>MV</td>\n",
       "      <td>1584160715</td>\n",
       "      <td>57</td>\n",
       "      <td>-0.60</td>\n",
       "      <td>73.08</td>\n",
       "      <td>83.80</td>\n",
       "      <td>5.39</td>\n",
       "    </tr>\n",
       "  </tbody>\n",
       "</table>\n",
       "</div>"
      ],
      "text/plain": [
       "            City  Cloudiness Country        Date  Humidity    Lat     Lng  \\\n",
       "4          paita          65      PE  1584160619        68  -5.09  -81.11   \n",
       "5      esperance          75      AU  1584160061        73 -33.87  121.90   \n",
       "7   richards bay          83      ZA  1584160540        87 -28.78   32.04   \n",
       "10         vaini          90      TO  1584160714       100 -21.20 -175.20   \n",
       "11     hithadhoo          14      MV  1584160715        57  -0.60   73.08   \n",
       "\n",
       "    Max Temp  Wind Speed  \n",
       "4      78.91        5.57  \n",
       "5      69.80       13.87  \n",
       "7      76.64       15.68  \n",
       "10     75.20       18.34  \n",
       "11     83.80        5.39  "
      ]
     },
     "execution_count": 18,
     "metadata": {},
     "output_type": "execute_result"
    }
   ],
   "source": [
    "# Create Southern Hemisphere DataFrame\n",
    "\n",
    "southern_df = city_weather_df[city_weather_df[\"Lat\"] < 0]\n",
    "southern_df.head()"
   ]
  },
  {
   "cell_type": "markdown",
   "metadata": {},
   "source": [
    "####  Northern Hemisphere - Max Temp vs. Latitude Linear Regression"
   ]
  },
  {
   "cell_type": "code",
   "execution_count": 29,
   "metadata": {},
   "outputs": [],
   "source": [
    "#  Create a UDF that will work for both the northern and southern hemipheres\n",
    "\n",
    "def plotting_udf(dframe):\n",
    "\n",
    "# Perform a linear regression on temperature vs. latitude\n",
    "    (slope, intercept, rvalue, pvalue, stderr) = stats.linregress(dframe[\"Lat\"], dframe[\"Max Temp\"])\n",
    "\n",
    "# Get regression values\n",
    "    regress_values = dframe[\"Lat\"] * slope + intercept\n",
    "    print(regress_values)\n",
    "\n",
    "# Create line equation string\n",
    "    line_eq = \"y = \" + str(round(slope,2)) + \"x +\" + str(round(intercept,2))\n",
    "    print(line_eq)\n",
    "\n",
    "    plt.scatter(dframe[\"Lat\"], dframe[\"Max Temp\"], marker='o' )\n",
    "    plt.title(f\"City Latitude vs. Max Temperature Linear Regression ({datetime.now().date()})\")\n",
    "    plt.xlabel(\"Latitude\")\n",
    "    plt.ylabel(\"Max Temperature (F)\")\n",
    "\n",
    "    plt.plot(dframe[\"Lat\"],regress_values,\"r-\")\n",
    "\n",
    "# Label plot and annotate the line equation\n",
    "    plt.annotate(line_eq,(20,15),fontsize=15,color=\"red\")\n",
    "\n",
    "# Print r square value\n",
    "    print(f\"The r-squared is: {rvalue}\")\n",
    "    \n",
    "#    plt.savefig(f\"LatVsTempLR_{dframe}.png\")  \n",
    "# Show plot\n",
    "    plt.show()"
   ]
  },
  {
   "cell_type": "code",
   "execution_count": 30,
   "metadata": {},
   "outputs": [
    {
     "name": "stdout",
     "output_type": "stream",
     "text": [
      "0      31.367514\n",
      "1      69.867574\n",
      "2      12.172676\n",
      "3      17.299476\n",
      "6      -0.963216\n",
      "         ...    \n",
      "549    40.995595\n",
      "550    47.925361\n",
      "551    90.791787\n",
      "552    17.691958\n",
      "553    29.858910\n",
      "Name: Lat, Length: 384, dtype: float64\n",
      "y = -1.23x +94.07\n",
      "The r-squared is: -0.9015522623546728\n"
     ]
    },
    {
     "data": {
      "image/png": "[encoded data removed]",
      "text/plain": [
       "<Figure size 432x288 with 1 Axes>"
      ]
     },
     "metadata": {
      "needs_background": "light"
     },
     "output_type": "display_data"
    }
   ],
   "source": [
    "# Call the user defined function from above using the northern hemisphere dataframe\n",
    "\n",
    "plotting_udf(northern_df)\n"
   ]
  },
  {
   "cell_type": "markdown",
   "metadata": {},
   "source": [
    "####  Southern Hemisphere - Max Temp vs. Latitude Linear Regression"
   ]
  },
  {
   "cell_type": "code",
   "execution_count": 31,
   "metadata": {},
   "outputs": [
    {
     "name": "stdout",
     "output_type": "stream",
     "text": [
      "4      80.643150\n",
      "5      68.627513\n",
      "7      70.752585\n",
      "10     73.917232\n",
      "11     82.517723\n",
      "         ...    \n",
      "522    79.444926\n",
      "536    80.451100\n",
      "543    76.539129\n",
      "547    79.962626\n",
      "548    69.341437\n",
      "Name: Lat, Length: 170, dtype: float64\n",
      "y = 0.42x +82.77\n",
      "The r-squared is: 0.5601976037803676\n"
     ]
    },
    {
     "data": {
      "image/png": "[encoded data removed]",
      "text/plain": [
       "<Figure size 432x288 with 1 Axes>"
      ]
     },
     "metadata": {
      "needs_background": "light"
     },
     "output_type": "display_data"
    },
    {
     "data": {
      "text/plain": [
       "<Figure size 432x288 with 0 Axes>"
      ]
     },
     "metadata": {},
     "output_type": "display_data"
    }
   ],
   "source": [
    "# Call the user defined function from above using the southern hemisphere dataframe\n",
    "\n",
    "plotting_udf(southern_df)\n",
    "# plt.savefig(\"LatVsTempLR_southern.png\") --  why is this empty??"
   ]
  },
  {
   "cell_type": "markdown",
   "metadata": {},
   "source": [
    "####  Northern Hemisphere - Humidity (%) vs. Latitude Linear Regression"
   ]
  },
  {
   "cell_type": "code",
   "execution_count": 32,
   "metadata": {},
   "outputs": [],
   "source": [
    "def plotting_udf(dframe):\n",
    "    \n",
    "# Perform a linear regression on temperature vs. latitude\n",
    "    (slope, intercept, rvalue, pvalue, stderr) = stats.linregress(dframe[\"Lat\"], dframe[\"Humidity\"])\n",
    "\n",
    "# Get regression values\n",
    "    regress_values = dframe[\"Lat\"] * slope + intercept\n",
    "    print(regress_values)\n",
    "\n",
    "# Create line equation string\n",
    "    line_eq = \"y = \" + str(round(slope,2)) + \"x +\" + str(round(intercept,2))\n",
    "    print(line_eq)\n",
    "\n",
    "    plt.scatter(dframe[\"Lat\"], dframe[\"Humidity\"], marker='o' )\n",
    "    plt.title(f\"City Latitude vs. Humidity Linear Regression ({datetime.now().date()})\")\n",
    "    plt.xlabel(\"Latitude\")\n",
    "    plt.ylabel(\"Humidity\")\n",
    "\n",
    "    plt.plot(dframe[\"Lat\"],regress_values,\"r-\")\n",
    "\n",
    "# Label plot and annotate the line equation\n",
    "    plt.annotate(line_eq,(20,15),fontsize=15,color=\"red\")\n",
    "\n",
    "# Print r square value\n",
    "    print(f\"The r-squared is: {rvalue}\")\n",
    "    \n",
    "#    plt.savefig(f\"LatVsHumidityLR_{dframe}.png\")  \n",
    "# Show plot\n",
    "    plt.show()"
   ]
  },
  {
   "cell_type": "code",
   "execution_count": 33,
   "metadata": {},
   "outputs": [
    {
     "name": "stdout",
     "output_type": "stream",
     "text": [
      "0      73.973136\n",
      "1      64.082275\n",
      "2      78.904386\n",
      "3      77.587286\n",
      "6      82.279064\n",
      "         ...    \n",
      "549    71.499633\n",
      "550    69.719341\n",
      "551    58.706739\n",
      "552    77.486455\n",
      "553    74.360703\n",
      "Name: Lat, Length: 384, dtype: float64\n",
      "y = 0.32x +57.87\n",
      "The r-squared is: 0.28048734653473884\n"
     ]
    },
    {
     "data": {
      "image/png": "[encoded data removed]",
      "text/plain": [
       "<Figure size 432x288 with 1 Axes>"
      ]
     },
     "metadata": {
      "needs_background": "light"
     },
     "output_type": "display_data"
    }
   ],
   "source": [
    "# Call the user defined function from above using the northern hemisphere dataframe\n",
    "\n",
    "plotting_udf(northern_df)"
   ]
  },
  {
   "cell_type": "markdown",
   "metadata": {},
   "source": [
    "####  Southern Hemisphere - Humidity (%) vs. Latitude Linear Regression"
   ]
  },
  {
   "cell_type": "code",
   "execution_count": 34,
   "metadata": {},
   "outputs": [
    {
     "name": "stdout",
     "output_type": "stream",
     "text": [
      "4      82.430255\n",
      "5      71.358382\n",
      "7      73.316542\n",
      "10     76.232622\n",
      "11     84.157590\n",
      "         ...    \n",
      "522    81.326145\n",
      "536    82.253289\n",
      "543    78.648583\n",
      "547    81.803182\n",
      "548    72.016231\n",
      "Name: Lat, Length: 170, dtype: float64\n",
      "y = 0.38x +84.39\n",
      "The r-squared is: 0.2898545804788767\n"
     ]
    },
    {
     "data": {
      "image/png": "[encoded data removed]",
      "text/plain": [
       "<Figure size 432x288 with 1 Axes>"
      ]
     },
     "metadata": {
      "needs_background": "light"
     },
     "output_type": "display_data"
    }
   ],
   "source": [
    "# Call the user defined function from above using the southern hemisphere dataframe\n",
    "\n",
    "plotting_udf(southern_df)\n",
    "# plt.savefig(\"LatVsHumidityLR_southern.png\") --  why is this empty??"
   ]
  },
  {
   "cell_type": "markdown",
   "metadata": {},
   "source": [
    "####  Northern Hemisphere - Cloudiness (%) vs. Latitude Linear Regression"
   ]
  },
  {
   "cell_type": "code",
   "execution_count": 35,
   "metadata": {},
   "outputs": [],
   "source": [
    "def plotting_udf(dframe):\n",
    "    # Perform a linear regression on temperature vs. latitude\n",
    "    (slope, intercept, rvalue, pvalue, stderr) = stats.linregress(dframe[\"Lat\"], dframe[\"Cloudiness\"])\n",
    "\n",
    "# Get regression values\n",
    "    regress_values = dframe[\"Lat\"] * slope + intercept\n",
    "    print(regress_values)\n",
    "\n",
    "# Create line equation string\n",
    "    line_eq = \"y = \" + str(round(slope,2)) + \"x +\" + str(round(intercept,2))\n",
    "    print(line_eq)\n",
    "\n",
    "    plt.scatter(dframe[\"Lat\"], dframe[\"Cloudiness\"], marker='o' )\n",
    "    plt.title(f\"City Latitude vs. Cloudiness Linear Regression ({datetime.now().date()})\")\n",
    "    plt.xlabel(\"Latitude\")\n",
    "    plt.ylabel(\"Cloudiness\")\n",
    "\n",
    "    plt.plot(dframe[\"Lat\"],regress_values,\"r-\")\n",
    "\n",
    "# Label plot and annotate the line equation\n",
    "    plt.annotate(line_eq,(20,15),fontsize=15,color=\"red\")\n",
    "\n",
    "# Print r square value\n",
    "    print(f\"The r-squared is: {rvalue}\")\n",
    "    \n",
    "#    plt.savefig(f\"LatVsCloudinessLR_{dframe}.png\")  \n",
    "# Show plot\n",
    "    plt.show()"
   ]
  },
  {
   "cell_type": "code",
   "execution_count": 36,
   "metadata": {},
   "outputs": [
    {
     "name": "stdout",
     "output_type": "stream",
     "text": [
      "0      63.853428\n",
      "1      45.022565\n",
      "2      73.241864\n",
      "3      70.734281\n",
      "6      79.666793\n",
      "         ...    \n",
      "549    59.144212\n",
      "550    55.754777\n",
      "551    34.788270\n",
      "552    70.542313\n",
      "553    64.591305\n",
      "Name: Lat, Length: 384, dtype: float64\n",
      "y = 0.6x +33.19\n",
      "The r-squared is: 0.3281873409682085\n"
     ]
    },
    {
     "data": {
      "image/png": "[encoded data removed]",
      "text/plain": [
       "<Figure size 432x288 with 1 Axes>"
      ]
     },
     "metadata": {
      "needs_background": "light"
     },
     "output_type": "display_data"
    }
   ],
   "source": [
    "# Call the user defined function from above using the northern hemisphere dataframe\n",
    "\n",
    "plotting_udf(northern_df)\n",
    "# plt.savefig(\"LatVsCloudinessLR_northern.png\") --  why is this empty??"
   ]
  },
  {
   "cell_type": "markdown",
   "metadata": {},
   "source": [
    "####  Southern Hemisphere - Cloudiness (%) vs. Latitude Linear Regression"
   ]
  },
  {
   "cell_type": "code",
   "execution_count": 37,
   "metadata": {},
   "outputs": [
    {
     "name": "stdout",
     "output_type": "stream",
     "text": [
      "4      65.942322\n",
      "5      40.225121\n",
      "7      44.773437\n",
      "10     51.546766\n",
      "11     69.954492\n",
      "         ...    \n",
      "522    63.377751\n",
      "536    65.531276\n",
      "543    57.158441\n",
      "547    64.485789\n",
      "548    41.753141\n",
      "Name: Lat, Length: 170, dtype: float64\n",
      "y = 0.89x +70.49\n",
      "The r-squared is: 0.33126293160671383\n"
     ]
    },
    {
     "data": {
      "image/png": "[encoded data removed]",
      "text/plain": [
       "<Figure size 432x288 with 1 Axes>"
      ]
     },
     "metadata": {
      "needs_background": "light"
     },
     "output_type": "display_data"
    }
   ],
   "source": [
    "# Call the user defined function from above using the southern hemisphere dataframe\n",
    "\n",
    "plotting_udf(southern_df)\n",
    "# plt.savefig(\"LatVsCloudinessLR_southern.png\") --  why is this empty??"
   ]
  },
  {
   "cell_type": "markdown",
   "metadata": {},
   "source": [
    "####  Northern Hemisphere - Wind Speed (mph) vs. Latitude Linear Regression"
   ]
  },
  {
   "cell_type": "code",
   "execution_count": 39,
   "metadata": {},
   "outputs": [],
   "source": [
    "def plotting_udf(dframe):\n",
    "    \n",
    "    # Perform a linear regression on wind speed vs. latitude\n",
    "    (slope, intercept, rvalue, pvalue, stderr) = stats.linregress(dframe[\"Lat\"], dframe[\"Wind Speed\"])\n",
    "\n",
    "# Get regression values\n",
    "    regress_values = dframe[\"Lat\"] * slope + intercept\n",
    "    print(regress_values)\n",
    "\n",
    "# Create line equation string\n",
    "    line_eq = \"y = \" + str(round(slope,2)) + \"x +\" + str(round(intercept,2))\n",
    "    print(line_eq)\n",
    "\n",
    "    plt.scatter(dframe[\"Lat\"], dframe[\"Wind Speed\"], marker='o' )\n",
    "    plt.title(f\"City Latitude vs. Wind Speed Linear Regression ({datetime.now().date()})\")\n",
    "    plt.xlabel(\"Latitude\")\n",
    "    plt.ylabel(\"Wind Speed\")\n",
    "\n",
    "    plt.plot(dframe[\"Lat\"],regress_values,\"r-\")\n",
    "\n",
    "# Label plot and annotate the line equation\n",
    "    plt.annotate(line_eq,(20,15),fontsize=15,color=\"red\")\n",
    "\n",
    "# Print r square value\n",
    "    print(f\"The r-squared is: {rvalue}\")\n",
    "    \n",
    "#    plt.savefig(f\"LatVsCloudinessLR_{dframe}.png\")  \n",
    "# Show plot\n",
    "    plt.show()"
   ]
  },
  {
   "cell_type": "code",
   "execution_count": 40,
   "metadata": {},
   "outputs": [
    {
     "name": "stdout",
     "output_type": "stream",
     "text": [
      "0       9.804175\n",
      "1       8.008316\n",
      "2      10.699530\n",
      "3      10.460388\n",
      "6      11.312262\n",
      "         ...    \n",
      "549     9.355067\n",
      "550     9.031824\n",
      "551     7.032293\n",
      "552    10.442080\n",
      "553     9.874545\n",
      "Name: Lat, Length: 384, dtype: float64\n",
      "y = 0.06x +6.88\n",
      "The r-squared is: 0.20475944939107246\n"
     ]
    },
    {
     "data": {
      "image/png": "[encoded data removed]",
      "text/plain": [
       "<Figure size 432x288 with 1 Axes>"
      ]
     },
     "metadata": {
      "needs_background": "light"
     },
     "output_type": "display_data"
    }
   ],
   "source": [
    "# Call the user defined function from above using the northern hemisphere dataframe\n",
    "\n",
    "plotting_udf(northern_df)\n",
    "# plt.savefig(\"LatVsWindSpeedLR_northern.png\") --  why is this empty??"
   ]
  },
  {
   "cell_type": "markdown",
   "metadata": {},
   "source": [
    "####  Southern Hemisphere - Wind Speed (mph) vs. Latitude Linear Regression"
   ]
  },
  {
   "cell_type": "code",
   "execution_count": 41,
   "metadata": {},
   "outputs": [
    {
     "name": "stdout",
     "output_type": "stream",
     "text": [
      "4      6.069574\n",
      "5      9.520932\n",
      "7      8.910528\n",
      "10     8.001519\n",
      "11     5.531124\n",
      "         ...   \n",
      "522    6.413750\n",
      "536    6.124738\n",
      "543    7.248408\n",
      "547    6.265047\n",
      "548    9.315865\n",
      "Name: Lat, Length: 170, dtype: float64\n",
      "y = -0.12x +5.46\n",
      "The r-squared is: -0.27624356929515603\n"
     ]
    },
    {
     "data": {
      "image/png": "[encoded data removed]",
      "text/plain": [
       "<Figure size 432x288 with 1 Axes>"
      ]
     },
     "metadata": {
      "needs_background": "light"
     },
     "output_type": "display_data"
    }
   ],
   "source": [
    "# Call the user defined function from above using the southern hemisphere dataframe\n",
    "\n",
    "plotting_udf(southern_df)\n",
    "# plt.savefig(\"LatVsWindSpeedLR_southern.png\") --  why is this empty??"
   ]
  },
  {
   "cell_type": "code",
   "execution_count": null,
   "metadata": {},
   "outputs": [],
   "source": []
  }
 ],
 "metadata": {
  "anaconda-cloud": {},
  "kernel_info": {
   "name": "python3"
  },
  "kernelspec": {
   "display_name": "Python 3",
   "language": "python",
   "name": "python3"
  },
  "language_info": {
   "codemirror_mode": {
    "name": "ipython",
    "version": 3
   },
   "file_extension": ".py",
   "mimetype": "text/x-python",
   "name": "python",
   "nbconvert_exporter": "python",
   "pygments_lexer": "ipython3",
   "version": "3.7.4"
  },
  "latex_envs": {
   "LaTeX_envs_menu_present": true,
   "autoclose": false,
   "autocomplete": true,
   "bibliofile": "biblio.bib",
   "cite_by": "apalike",
   "current_citInitial": 1,
   "eqLabelWithNumbers": true,
   "eqNumInitial": 1,
   "hotkeys": {
    "equation": "Ctrl-E",
    "itemize": "Ctrl-I"
   },
   "labels_anchors": false,
   "latex_user_defs": false,
   "report_style_numbering": false,
   "user_envs_cfg": false
  },
  "nteract": {
   "version": "0.12.3"
  }
 },
 "nbformat": 4,
 "nbformat_minor": 2
}
