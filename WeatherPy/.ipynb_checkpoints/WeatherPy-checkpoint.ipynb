{
 "cells": [
  {
   "cell_type": "markdown",
   "metadata": {},
   "source": [
    "# WeatherPy\n",
    "----\n",
    "\n",
    "#### Note\n",
    "* Instructions have been included for each segment. You do not have to follow them exactly, but they are included to help you think through the steps."
   ]
  },
  {
   "cell_type": "code",
   "execution_count": 1,
   "metadata": {
    "scrolled": true
   },
   "outputs": [],
   "source": [
    "# Dependencies and Setup\n",
    "import matplotlib.pyplot as plt\n",
    "import pandas as pd\n",
    "import numpy as np\n",
    "import requests\n",
    "import time\n",
    "import json\n",
    "\n",
    "from scipy.stats import linregress\n",
    "from scipy import stats\n",
    "from datetime import datetime\n",
    "\n",
    "# Import API key\n",
    "from api_keys import weather_api_key\n",
    "\n",
    "# Incorporated citipy to determine city based on latitude and longitude\n",
    "# May need to run 'pip install citipy' in terminal to use the citipy package\n",
    "from citipy import citipy\n",
    "\n",
    "# Output File (CSV)\n",
    "output_data_file = \"output_data/cities.csv\"\n",
    "\n",
    "# Range of latitudes and longitudes\n",
    "lat_range = (-90, 90)\n",
    "lng_range = (-180, 180)\n",
    "#lat_range = (88, 90)\n",
    "#lng_range = (178, 180)"
   ]
  },
  {
   "cell_type": "markdown",
   "metadata": {},
   "source": [
    "## Generate Cities List"
   ]
  },
  {
   "cell_type": "code",
   "execution_count": 2,
   "metadata": {},
   "outputs": [
    {
     "data": {
      "text/plain": [
       "612"
      ]
     },
     "execution_count": 2,
     "metadata": {},
     "output_type": "execute_result"
    }
   ],
   "source": [
    "# List for holding lat_lngs and cities\n",
    "lat_lngs = []\n",
    "cities = []\n",
    "\n",
    "# Create a set of random lat and lng combinations\n",
    "lats = np.random.uniform(low=-90.000, high=90.000, size=1500)\n",
    "lngs = np.random.uniform(low=-180.000, high=180.000, size=1500)\n",
    "#lats = np.random.uniform(low=60.000, high=90.000, size=1500)\n",
    "#lngs = np.random.uniform(low=160.000, high=180.000, size=1500)\n",
    "\n",
    "lat_lngs = zip(lats, lngs)\n",
    "\n",
    "# Identify nearest city for each lat, lng combination\n",
    "for lat_lng in lat_lngs:\n",
    "    city = citipy.nearest_city(lat_lng[0], lat_lng[1]).city_name\n",
    "    \n",
    "    # If the city is unique, then add it to a our cities list\n",
    "    if city not in cities:\n",
    "        cities.append(city)\n",
    "\n",
    "# Print the city count to confirm sufficient count\n",
    "len(cities)"
   ]
  },
  {
   "cell_type": "markdown",
   "metadata": {},
   "source": [
    "### Perform API Calls\n",
    "* Perform a weather check on each city using a series of successive API calls.\n",
    "* Include a print log of each city as it'sbeing processed (with the city number and city name).\n"
   ]
  },
  {
   "cell_type": "code",
   "execution_count": 3,
   "metadata": {},
   "outputs": [
    {
     "name": "stdout",
     "output_type": "stream",
     "text": [
      "Beginning Data Retrieval\n",
      "----------------------------\n",
      "Processing Record 1 of Set 1 | City Id: 4034551 and City Name  faanui\n",
      "Processing Record 2 of Set 1 | City Id: 5848280 and City Name  kapaa\n",
      "Processing Record 3 of Set 1 | City Id: 57000 and City Name  hobyo\n",
      "Processing Record 4 of Set 1 | City Id: 1511057 and City Name  bakchar\n",
      "Processing Record 5 of Set 1 | City Id: 3652764 and City Name  puerto ayora\n",
      "Processing Record 6 of Set 1 | City Id: 4030556 and City Name  rikitea\n",
      "Processing Record 7 of Set 1 | City Id: 2126199 and City Name  cherskiy\n",
      "Processing Record 8 of Set 1 | City Id: 3874787 and City Name  punta arenas\n",
      "Processing Record 9 of Set 1 | City Id: 161616 and City Name  balkanabat\n",
      "Processing Record 10 of Set 1 | City Id: 3883457 and City Name  lebu\n",
      "Processing Record 11 of Set 1 | City Id: 3942957 and City Name  cocachacra\n",
      "Processing Record 12 of Set 1 | City Id: 5106841 and City Name  albany\n",
      "Processing Record 13 of Set 1 | City Id: 3414079 and City Name  olafsvik\n",
      "Processing Record 14 of Set 1 | City Id: 2022572 and City Name  khatanga\n",
      "City not found. Skipping... armacao dos buzios\n",
      "Processing Record 16 of Set 1 | City Id: 2742416 and City Name  barcelos\n",
      "Processing Record 17 of Set 1 | City Id: 2206939 and City Name  bluff\n",
      "Processing Record 18 of Set 1 | City Id: 2155415 and City Name  new norfolk\n",
      "Processing Record 19 of Set 1 | City Id: 3471451 and City Name  arraial do cabo\n",
      "Processing Record 20 of Set 1 | City Id: 964432 and City Name  port alfred\n",
      "Processing Record 21 of Set 1 | City Id: 3430863 and City Name  mar del plata\n",
      "Processing Record 22 of Set 1 | City Id: 6201424 and City Name  mataura\n",
      "Processing Record 23 of Set 1 | City Id: 3466165 and City Name  cidreira\n",
      "Processing Record 24 of Set 1 | City Id: 2278158 and City Name  buchanan\n",
      "Processing Record 25 of Set 1 | City Id: 2108502 and City Name  honiara\n",
      "Processing Record 26 of Set 1 | City Id: 5546220 and City Name  saint george\n",
      "Processing Record 27 of Set 1 | City Id: 2136697 and City Name  lakatoro\n",
      "Processing Record 28 of Set 1 | City Id: 3383494 and City Name  moengo\n",
      "Processing Record 29 of Set 1 | City Id: 3974771 and City Name  praxedis guerrero\n",
      "Processing Record 30 of Set 1 | City Id: 4031574 and City Name  provideniya\n",
      "Processing Record 31 of Set 1 | City Id: 5557293 and City Name  sitka\n",
      "Processing Record 32 of Set 1 | City Id: 1255254 and City Name  tadpatri\n",
      "Processing Record 33 of Set 1 | City Id: 2075265 and City Name  busselton\n",
      "Processing Record 34 of Set 1 | City Id: 1855891 and City Name  nakamura\n",
      "Processing Record 35 of Set 1 | City Id: 1497210 and City Name  novoagansk\n",
      "Processing Record 36 of Set 1 | City Id: 1215502 and City Name  banda aceh\n",
      "Processing Record 37 of Set 1 | City Id: 2126123 and City Name  chokurdakh\n",
      "City not found. Skipping... illoqqortoormiut\n",
      "Processing Record 39 of Set 1 | City Id: 986717 and City Name  kruisfontein\n",
      "Processing Record 40 of Set 1 | City Id: 5392593 and City Name  san ramon\n",
      "City not found. Skipping... belushya guba\n",
      "Processing Record 42 of Set 1 | City Id: 553766 and City Name  kamenka\n",
      "Processing Record 43 of Set 1 | City Id: 174448 and City Name  abu kamal\n",
      "Processing Record 44 of Set 1 | City Id: 157429 and City Name  kilindoni\n",
      "Processing Record 45 of Set 1 | City Id: 3833367 and City Name  ushuaia\n",
      "Processing Record 46 of Set 1 | City Id: 3374083 and City Name  bathsheba\n",
      "Processing Record 47 of Set 1 | City Id: 487928 and City Name  novikovo\n",
      "City not found. Skipping... taolanaro\n",
      "City not found. Skipping... attawapiskat\n",
      "Processing Record 50 of Set 1 | City Id: 2112309 and City Name  katsuura\n",
      "Processing Record 1 of Set 2 | City Id: 3366880 and City Name  hermanus\n",
      "Processing Record 2 of Set 2 | City Id: 2163355 and City Name  hobart\n",
      "City not found. Skipping... samalaeulu\n",
      "Processing Record 4 of Set 2 | City Id: 5866583 and City Name  kodiak\n",
      "Processing Record 5 of Set 2 | City Id: 3939168 and City Name  huarmey\n",
      "Processing Record 6 of Set 2 | City Id: 3355672 and City Name  luderitz\n",
      "Processing Record 7 of Set 2 | City Id: 623760 and City Name  pastavy\n",
      "Processing Record 8 of Set 2 | City Id: 3386213 and City Name  touros\n",
      "Processing Record 9 of Set 2 | City Id: 4020109 and City Name  atuona\n",
      "Processing Record 10 of Set 2 | City Id: 2214846 and City Name  misratah\n",
      "Processing Record 11 of Set 2 | City Id: 3394023 and City Name  natal\n",
      "Processing Record 12 of Set 2 | City Id: 610864 and City Name  khani\n",
      "Processing Record 13 of Set 2 | City Id: 2119447 and City Name  yuzhno-kurilsk\n",
      "Processing Record 14 of Set 2 | City Id: 3407762 and City Name  amapa\n",
      "Processing Record 15 of Set 2 | City Id: 5880054 and City Name  barrow\n",
      "Processing Record 16 of Set 2 | City Id: 1623197 and City Name  tual\n",
      "Processing Record 17 of Set 2 | City Id: 1214488 and City Name  meulaboh\n",
      "Processing Record 18 of Set 2 | City Id: 1651810 and City Name  airai\n",
      "Processing Record 19 of Set 2 | City Id: 1282256 and City Name  hithadhoo\n",
      "Processing Record 20 of Set 2 | City Id: 2110227 and City Name  butaritari\n",
      "Processing Record 21 of Set 2 | City Id: 1215412 and City Name  belawan\n",
      "Processing Record 22 of Set 2 | City Id: 3899695 and City Name  ancud\n",
      "Processing Record 23 of Set 2 | City Id: 3466980 and City Name  caravelas\n",
      "Processing Record 24 of Set 2 | City Id: 5870133 and City Name  nome\n",
      "Processing Record 25 of Set 2 | City Id: 1649150 and City Name  bengkulu\n",
      "Processing Record 26 of Set 2 | City Id: 360630 and City Name  cairo\n",
      "Processing Record 27 of Set 2 | City Id: 3440777 and City Name  rocha\n",
      "City not found. Skipping... palabuhanratu\n",
      "Processing Record 29 of Set 2 | City Id: 2136825 and City Name  isangel\n",
      "City not found. Skipping... grand river south east\n",
      "Processing Record 31 of Set 2 | City Id: 6355222 and City Name  yulara\n",
      "Processing Record 32 of Set 2 | City Id: 3868626 and City Name  valparaiso\n",
      "Processing Record 33 of Set 2 | City Id: 2522325 and City Name  aguimes\n",
      "Processing Record 34 of Set 2 | City Id: 2013279 and City Name  vostok\n",
      "Processing Record 35 of Set 2 | City Id: 1511646 and City Name  andra\n",
      "Processing Record 36 of Set 2 | City Id: 1701054 and City Name  marawi\n",
      "City not found. Skipping... agva\n",
      "Processing Record 38 of Set 2 | City Id: 2015306 and City Name  tiksi\n",
      "Processing Record 39 of Set 2 | City Id: 935215 and City Name  saint-philippe\n",
      "Processing Record 40 of Set 2 | City Id: 5746545 and City Name  portland\n",
      "Processing Record 41 of Set 2 | City Id: 1525376 and City Name  bestobe\n",
      "Processing Record 42 of Set 2 | City Id: 7647007 and City Name  san carlos de bariloche\n",
      "Processing Record 43 of Set 2 | City Id: 3369157 and City Name  cape town\n",
      "Processing Record 44 of Set 2 | City Id: 6185377 and City Name  yellowknife\n",
      "Processing Record 45 of Set 2 | City Id: 3397851 and City Name  itupiranga\n",
      "Processing Record 46 of Set 2 | City Id: 2112802 and City Name  hasaki\n",
      "Processing Record 47 of Set 2 | City Id: 1735106 and City Name  georgetown\n",
      "Processing Record 48 of Set 2 | City Id: 2126682 and City Name  bilibino\n",
      "Processing Record 49 of Set 2 | City Id: 5955826 and City Name  fort frances\n",
      "Processing Record 50 of Set 2 | City Id: 5855927 and City Name  hilo\n",
      "Processing Record 1 of Set 3 | City Id: 546105 and City Name  nikolskoye\n",
      "Processing Record 2 of Set 3 | City Id: 1244926 and City Name  hambantota\n",
      "Processing Record 3 of Set 3 | City Id: 5380437 and City Name  pacific grove\n",
      "Processing Record 4 of Set 3 | City Id: 2017155 and City Name  saskylakh\n",
      "Processing Record 5 of Set 3 | City Id: 3668078 and City Name  sibundoy\n",
      "Processing Record 6 of Set 3 | City Id: 2027244 and City Name  bagdarin\n",
      "Processing Record 7 of Set 3 | City Id: 2093846 and City Name  kiunga\n",
      "Processing Record 8 of Set 3 | City Id: 3579761 and City Name  baillif\n",
      "Processing Record 9 of Set 3 | City Id: 2635199 and City Name  ullapool\n",
      "Processing Record 10 of Set 3 | City Id: 556199 and City Name  irgakly\n",
      "Processing Record 11 of Set 3 | City Id: 3347019 and City Name  namibe\n",
      "Processing Record 12 of Set 3 | City Id: 5962442 and City Name  goderich\n",
      "Processing Record 13 of Set 3 | City Id: 3893726 and City Name  constitucion\n",
      "Processing Record 14 of Set 3 | City Id: 3418910 and City Name  upernavik\n",
      "Processing Record 15 of Set 3 | City Id: 5282297 and City Name  bethel\n",
      "Processing Record 16 of Set 3 | City Id: 3512067 and City Name  bani\n",
      "City not found. Skipping... amderma\n"
     ]
    },
    {
     "name": "stdout",
     "output_type": "stream",
     "text": [
      "Processing Record 18 of Set 3 | City Id: 1640344 and City Name  kendari\n",
      "Processing Record 19 of Set 3 | City Id: 3397941 and City Name  itapage\n",
      "Processing Record 20 of Set 3 | City Id: 5919850 and City Name  chapais\n",
      "Processing Record 21 of Set 3 | City Id: 2409914 and City Name  bonthe\n",
      "City not found. Skipping... tumannyy\n",
      "Processing Record 23 of Set 3 | City Id: 2455290 and City Name  kidal\n",
      "Processing Record 24 of Set 3 | City Id: 3698359 and City Name  chicama\n",
      "Processing Record 25 of Set 3 | City Id: 3372707 and City Name  ribeira grande\n",
      "City not found. Skipping... mys shmidta\n",
      "Processing Record 27 of Set 3 | City Id: 2071860 and City Name  esperance\n",
      "Processing Record 28 of Set 3 | City Id: 4513583 and City Name  hamilton\n",
      "Processing Record 29 of Set 3 | City Id: 3381041 and City Name  mana\n",
      "City not found. Skipping... lolua\n",
      "Processing Record 31 of Set 3 | City Id: 964420 and City Name  port elizabeth\n",
      "Processing Record 32 of Set 3 | City Id: 3985710 and City Name  cabo san lucas\n",
      "Processing Record 33 of Set 3 | City Id: 1337613 and City Name  kulhudhuffushi\n",
      "City not found. Skipping... ha\n",
      "Processing Record 35 of Set 3 | City Id: 2036066 and City Name  linkou\n",
      "Processing Record 36 of Set 3 | City Id: 2074865 and City Name  carnarvon\n",
      "Processing Record 37 of Set 3 | City Id: 2156643 and City Name  mount gambier\n",
      "Processing Record 38 of Set 3 | City Id: 2643044 and City Name  margate\n",
      "Processing Record 39 of Set 3 | City Id: 554199 and City Name  kalininsk\n",
      "Processing Record 40 of Set 3 | City Id: 2142316 and City Name  yeppoon\n",
      "Processing Record 41 of Set 3 | City Id: 1259184 and City Name  puri\n",
      "Processing Record 42 of Set 3 | City Id: 6138802 and City Name  saint-michel-des-saints\n",
      "Processing Record 43 of Set 3 | City Id: 2630299 and City Name  hofn\n",
      "Processing Record 44 of Set 3 | City Id: 3421719 and City Name  narsaq\n",
      "Processing Record 45 of Set 3 | City Id: 3379316 and City Name  lethem\n",
      "Processing Record 46 of Set 3 | City Id: 2537881 and City Name  asfi\n",
      "Processing Record 47 of Set 3 | City Id: 1684245 and City Name  tagusao\n",
      "Processing Record 48 of Set 3 | City Id: 3451138 and City Name  rio grande\n",
      "Processing Record 49 of Set 3 | City Id: 3443061 and City Name  chuy\n",
      "Processing Record 50 of Set 3 | City Id: 6165406 and City Name  thompson\n",
      "Processing Record 1 of Set 4 | City Id: 6078372 and City Name  moose factory\n",
      "Processing Record 2 of Set 4 | City Id: 3421765 and City Name  nanortalik\n",
      "Processing Record 3 of Set 4 | City Id: 2194098 and City Name  ahipara\n",
      "City not found. Skipping... nizhneyansk\n",
      "Processing Record 5 of Set 4 | City Id: 86049 and City Name  jalu\n",
      "City not found. Skipping... meyungs\n",
      "Processing Record 7 of Set 4 | City Id: 3157799 and City Name  farsund\n",
      "Processing Record 8 of Set 4 | City Id: 2121025 and City Name  srednekolymsk\n",
      "Processing Record 9 of Set 4 | City Id: 1786110 and City Name  yuancheng\n",
      "Processing Record 10 of Set 4 | City Id: 6089245 and City Name  norman wells\n",
      "Processing Record 11 of Set 4 | City Id: 2189343 and City Name  kaeo\n",
      "Processing Record 12 of Set 4 | City Id: 933995 and City Name  souillac\n",
      "Processing Record 13 of Set 4 | City Id: 1280849 and City Name  kashi\n",
      "Processing Record 14 of Set 4 | City Id: 2729907 and City Name  longyearbyen\n",
      "City not found. Skipping... bolungarvik\n",
      "Processing Record 16 of Set 4 | City Id: 4350461 and City Name  carroll\n",
      "Processing Record 17 of Set 4 | City Id: 495767 and City Name  sharanga\n",
      "Processing Record 18 of Set 4 | City Id: 1507390 and City Name  dikson\n",
      "Processing Record 19 of Set 4 | City Id: 3466704 and City Name  castro\n",
      "Processing Record 20 of Set 4 | City Id: 49747 and City Name  xuddur\n",
      "Processing Record 21 of Set 4 | City Id: 6620339 and City Name  karratha\n",
      "Processing Record 22 of Set 4 | City Id: 3361934 and City Name  saldanha\n",
      "Processing Record 23 of Set 4 | City Id: 578326 and City Name  begunitsy\n",
      "Processing Record 24 of Set 4 | City Id: 1633419 and City Name  padang\n",
      "Processing Record 25 of Set 4 | City Id: 3581194 and City Name  san ignacio\n",
      "Processing Record 26 of Set 4 | City Id: 4032243 and City Name  vaini\n",
      "Processing Record 27 of Set 4 | City Id: 1852357 and City Name  shimoda\n",
      "City not found. Skipping... linchuan\n",
      "Processing Record 29 of Set 4 | City Id: 1819729 and City Name  victoria\n",
      "Processing Record 30 of Set 4 | City Id: 5924351 and City Name  clyde river\n",
      "Processing Record 31 of Set 4 | City Id: 3530599 and City Name  carmen\n",
      "Processing Record 32 of Set 4 | City Id: 2171099 and City Name  codrington\n",
      "Processing Record 33 of Set 4 | City Id: 1491088 and City Name  srostki\n",
      "Processing Record 34 of Set 4 | City Id: 371745 and City Name  kutum\n",
      "Processing Record 35 of Set 4 | City Id: 1015776 and City Name  bredasdorp\n",
      "Processing Record 36 of Set 4 | City Id: 1106677 and City Name  bambous virieux\n",
      "Processing Record 37 of Set 4 | City Id: 5847411 and City Name  kahului\n",
      "Processing Record 38 of Set 4 | City Id: 1650213 and City Name  banjarmasin\n",
      "Processing Record 39 of Set 4 | City Id: 6096551 and City Name  pangnirtung\n",
      "Processing Record 40 of Set 4 | City Id: 3831208 and City Name  qaanaaq\n",
      "Processing Record 41 of Set 4 | City Id: 3516102 and City Name  chiltepec\n",
      "Processing Record 42 of Set 4 | City Id: 3445026 and City Name  vila velha\n",
      "Processing Record 43 of Set 4 | City Id: 2070998 and City Name  geraldton\n",
      "Processing Record 44 of Set 4 | City Id: 649924 and City Name  kuusamo\n",
      "City not found. Skipping... al\n",
      "Processing Record 46 of Set 4 | City Id: 3416888 and City Name  grindavik\n",
      "Processing Record 47 of Set 4 | City Id: 3395981 and City Name  maceio\n",
      "Processing Record 48 of Set 4 | City Id: 5296802 and City Name  green valley\n",
      "Processing Record 49 of Set 4 | City Id: 292223 and City Name  dubai\n",
      "Processing Record 50 of Set 4 | City Id: 2214827 and City Name  mizdah\n",
      "Processing Record 1 of Set 5 | City Id: 5380420 and City Name  pacifica\n",
      "Processing Record 2 of Set 5 | City Id: 5122534 and City Name  jamestown\n",
      "Processing Record 3 of Set 5 | City Id: 3053489 and City Name  dunafoldvar\n",
      "City not found. Skipping... zolotinka\n",
      "Processing Record 5 of Set 5 | City Id: 2094746 and City Name  kandrian\n",
      "Processing Record 6 of Set 5 | City Id: 762021 and City Name  plonsk\n",
      "City not found. Skipping... saleaula\n",
      "Processing Record 8 of Set 5 | City Id: 5367788 and City Name  lompoc\n",
      "Processing Record 9 of Set 5 | City Id: 778707 and City Name  mehamn\n",
      "Processing Record 10 of Set 5 | City Id: 2120048 and City Name  ust-nera\n",
      "City not found. Skipping... tasbuget\n",
      "Processing Record 12 of Set 5 | City Id: 2208248 and City Name  kaitangata\n",
      "Processing Record 13 of Set 5 | City Id: 2084442 and City Name  vanimo\n",
      "Processing Record 14 of Set 5 | City Id: 1732826 and City Name  mersing\n",
      "Processing Record 15 of Set 5 | City Id: 1006984 and City Name  east london\n",
      "Processing Record 16 of Set 5 | City Id: 122285 and City Name  neyshabur\n",
      "Processing Record 17 of Set 5 | City Id: 2181625 and City Name  te anau\n",
      "City not found. Skipping... anar darreh\n",
      "Processing Record 19 of Set 5 | City Id: 486626 and City Name  sukhodol\n",
      "Processing Record 20 of Set 5 | City Id: 2063036 and City Name  port lincoln\n",
      "Processing Record 21 of Set 5 | City Id: 1737714 and City Name  limbang\n",
      "Processing Record 22 of Set 5 | City Id: 1737185 and City Name  kapit\n",
      "Processing Record 23 of Set 5 | City Id: 933726 and City Name  hukuntsi\n",
      "Processing Record 24 of Set 5 | City Id: 6111862 and City Name  port hardy\n",
      "Processing Record 25 of Set 5 | City Id: 3393536 and City Name  olinda\n",
      "Processing Record 26 of Set 5 | City Id: 6171633 and City Name  ucluelet\n",
      "Processing Record 27 of Set 5 | City Id: 2294877 and City Name  tamale\n",
      "Processing Record 28 of Set 5 | City Id: 4035715 and City Name  avarua\n",
      "Processing Record 29 of Set 5 | City Id: 3932145 and City Name  pisco\n",
      "Processing Record 30 of Set 5 | City Id: 100926 and City Name  umm lajj\n",
      "Processing Record 31 of Set 5 | City Id: 3397967 and City Name  itaituba\n",
      "Processing Record 32 of Set 5 | City Id: 2343784 and City Name  ejigbo\n",
      "Processing Record 33 of Set 5 | City Id: 6929460 and City Name  panzhihua\n",
      "City not found. Skipping... halalo\n",
      "Processing Record 35 of Set 5 | City Id: 1835848 and City Name  seoul\n",
      "City not found. Skipping... warqla\n",
      "Processing Record 37 of Set 5 | City Id: 777019 and City Name  vardo\n",
      "Processing Record 38 of Set 5 | City Id: 610298 and City Name  beyneu\n"
     ]
    },
    {
     "name": "stdout",
     "output_type": "stream",
     "text": [
      "Processing Record 39 of Set 5 | City Id: 5905393 and City Name  bonavista\n",
      "Processing Record 40 of Set 5 | City Id: 3576994 and City Name  cockburn town\n",
      "Processing Record 41 of Set 5 | City Id: 2264557 and City Name  ponta do sol\n",
      "Processing Record 42 of Set 5 | City Id: 293842 and City Name  gat\n",
      "Processing Record 43 of Set 5 | City Id: 922704 and City Name  lubumbashi\n",
      "Processing Record 44 of Set 5 | City Id: 5882953 and City Name  aklavik\n",
      "Processing Record 45 of Set 5 | City Id: 2933115 and City Name  eggenfelden\n",
      "City not found. Skipping... burica\n",
      "Processing Record 47 of Set 5 | City Id: 6137462 and City Name  saint-augustin\n",
      "Processing Record 48 of Set 5 | City Id: 6167817 and City Name  torbay\n",
      "City not found. Skipping... ngukurr\n",
      "Processing Record 50 of Set 5 | City Id: 3984997 and City Name  san quintin\n",
      "Processing Record 1 of Set 6 | City Id: 2236967 and City Name  soyo\n",
      "Processing Record 2 of Set 6 | City Id: 866062 and City Name  iskateley\n",
      "City not found. Skipping... barbar\n",
      "City not found. Skipping... vaitupu\n",
      "Processing Record 5 of Set 6 | City Id: 2128975 and City Name  nemuro\n",
      "Processing Record 6 of Set 6 | City Id: 1505991 and City Name  igarka\n",
      "City not found. Skipping... rungata\n",
      "Processing Record 8 of Set 6 | City Id: 3421193 and City Name  paamiut\n",
      "Processing Record 9 of Set 6 | City Id: 2226641 and City Name  mindif\n",
      "City not found. Skipping... sofiysk\n",
      "Processing Record 11 of Set 6 | City Id: 2121385 and City Name  severo-kurilsk\n",
      "Processing Record 12 of Set 6 | City Id: 2094027 and City Name  kieta\n",
      "Processing Record 13 of Set 6 | City Id: 3421982 and City Name  maniitsoq\n",
      "Processing Record 14 of Set 6 | City Id: 2418092 and City Name  lola\n",
      "City not found. Skipping... alto baudo\n",
      "Processing Record 16 of Set 6 | City Id: 3190776 and City Name  sjenica\n",
      "Processing Record 17 of Set 6 | City Id: 1293960 and City Name  taunggyi\n",
      "Processing Record 18 of Set 6 | City Id: 3374210 and City Name  sao filipe\n",
      "Processing Record 19 of Set 6 | City Id: 3393452 and City Name  ouricuri\n",
      "Processing Record 20 of Set 6 | City Id: 5501344 and City Name  carson city\n",
      "Processing Record 21 of Set 6 | City Id: 3382867 and City Name  totness\n",
      "Processing Record 22 of Set 6 | City Id: 2094342 and City Name  kavieng\n",
      "City not found. Skipping... nguiu\n",
      "Processing Record 24 of Set 6 | City Id: 4328010 and City Name  houma\n",
      "Processing Record 25 of Set 6 | City Id: 1636806 and City Name  majene\n",
      "Processing Record 26 of Set 6 | City Id: 3141667 and City Name  roald\n",
      "Processing Record 27 of Set 6 | City Id: 525369 and City Name  yelniki\n",
      "Processing Record 28 of Set 6 | City Id: 2381334 and City Name  atar\n",
      "Processing Record 29 of Set 6 | City Id: 2209055 and City Name  waddan\n",
      "Processing Record 30 of Set 6 | City Id: 4004293 and City Name  ixtapa\n",
      "Processing Record 31 of Set 6 | City Id: 372753 and City Name  kassala\n",
      "Processing Record 32 of Set 6 | City Id: 1563281 and City Name  tuy hoa\n",
      "Processing Record 33 of Set 6 | City Id: 6071876 and City Name  melfort\n",
      "Processing Record 34 of Set 6 | City Id: 2127202 and City Name  anadyr\n",
      "Processing Record 35 of Set 6 | City Id: 3981391 and City Name  tomatlan\n",
      "Processing Record 36 of Set 6 | City Id: 3134016 and City Name  tretten\n",
      "Processing Record 37 of Set 6 | City Id: 556268 and City Name  ostrovnoy\n",
      "Processing Record 38 of Set 6 | City Id: 4164092 and City Name  merritt island\n",
      "Processing Record 39 of Set 6 | City Id: 3995171 and City Name  naco\n",
      "Processing Record 40 of Set 6 | City Id: 2137773 and City Name  vao\n",
      "Processing Record 41 of Set 6 | City Id: 4328254 and City Name  iberia\n",
      "Processing Record 42 of Set 6 | City Id: 779622 and City Name  havoysund\n",
      "Processing Record 43 of Set 6 | City Id: 1266216 and City Name  kondagaon\n",
      "Processing Record 44 of Set 6 | City Id: 1855540 and City Name  naze\n",
      "Processing Record 45 of Set 6 | City Id: 515246 and City Name  onega\n",
      "Processing Record 46 of Set 6 | City Id: 110690 and City Name  faya\n",
      "Processing Record 47 of Set 6 | City Id: 3911925 and City Name  la paz\n",
      "City not found. Skipping... umzimvubu\n",
      "Processing Record 49 of Set 6 | City Id: 108410 and City Name  riyadh\n",
      "Processing Record 50 of Set 6 | City Id: 3672086 and City Name  pizarro\n",
      "Processing Record 1 of Set 7 | City Id: 2913366 and City Name  gutersloh\n",
      "Processing Record 2 of Set 7 | City Id: 2122090 and City Name  pevek\n",
      "Processing Record 3 of Set 7 | City Id: 4031637 and City Name  lavrentiya\n",
      "Processing Record 4 of Set 7 | City Id: 1625708 and City Name  tabanan\n",
      "Processing Record 5 of Set 7 | City Id: 2618795 and City Name  klaksvik\n",
      "Processing Record 6 of Set 7 | City Id: 677237 and City Name  garbou\n",
      "Processing Record 7 of Set 7 | City Id: 4565090 and City Name  guanica\n",
      "Processing Record 8 of Set 7 | City Id: 2137748 and City Name  voh\n",
      "Processing Record 9 of Set 7 | City Id: 368246 and City Name  raga\n",
      "Processing Record 10 of Set 7 | City Id: 161974 and City Name  gazanjyk\n",
      "Processing Record 11 of Set 7 | City Id: 3577430 and City Name  road town\n",
      "Processing Record 12 of Set 7 | City Id: 304825 and City Name  manisa\n",
      "Processing Record 13 of Set 7 | City Id: 525426 and City Name  sobolevo\n",
      "Processing Record 14 of Set 7 | City Id: 2629833 and City Name  husavik\n",
      "Processing Record 15 of Set 7 | City Id: 3671450 and City Name  inirida\n",
      "Processing Record 16 of Set 7 | City Id: 3948613 and City Name  acari\n",
      "Processing Record 17 of Set 7 | City Id: 2177069 and City Name  ballina\n",
      "Processing Record 18 of Set 7 | City Id: 3471837 and City Name  araguacu\n",
      "Processing Record 19 of Set 7 | City Id: 2191562 and City Name  dunedin\n",
      "Processing Record 20 of Set 7 | City Id: 6170031 and City Name  tuktoyaktuk\n",
      "Processing Record 21 of Set 7 | City Id: 3939761 and City Name  hualmay\n",
      "Processing Record 22 of Set 7 | City Id: 2946366 and City Name  boppard\n",
      "Processing Record 23 of Set 7 | City Id: 6148373 and City Name  sioux lookout\n",
      "Processing Record 24 of Set 7 | City Id: 1630723 and City Name  poso\n",
      "Processing Record 25 of Set 7 | City Id: 1513491 and City Name  komsomolskiy\n",
      "Processing Record 26 of Set 7 | City Id: 3547600 and City Name  mariel\n",
      "Processing Record 27 of Set 7 | City Id: 2122104 and City Name  petropavlovsk-kamchatskiy\n",
      "City not found. Skipping... higuey\n",
      "Processing Record 29 of Set 7 | City Id: 4470244 and City Name  havelock\n",
      "Processing Record 30 of Set 7 | City Id: 5563839 and City Name  fortuna\n",
      "Processing Record 31 of Set 7 | City Id: 3573899 and City Name  point fortin\n",
      "Processing Record 32 of Set 7 | City Id: 3450272 and City Name  ipaussu\n",
      "Processing Record 33 of Set 7 | City Id: 3833859 and City Name  tres arroyos\n",
      "Processing Record 34 of Set 7 | City Id: 5866063 and City Name  kenai\n",
      "Processing Record 35 of Set 7 | City Id: 3352136 and City Name  windhoek\n",
      "Processing Record 36 of Set 7 | City Id: 3423146 and City Name  ilulissat\n",
      "Processing Record 37 of Set 7 | City Id: 3529654 and City Name  dzilam gonzalez\n",
      "Processing Record 38 of Set 7 | City Id: 53372 and City Name  odweyne\n",
      "Processing Record 39 of Set 7 | City Id: 2065594 and City Name  mount isa\n",
      "Processing Record 40 of Set 7 | City Id: 1271244 and City Name  ghugus\n",
      "Processing Record 41 of Set 7 | City Id: 3424941 and City Name  miquelon\n",
      "Processing Record 42 of Set 7 | City Id: 3372472 and City Name  vila franca do campo\n",
      "Processing Record 43 of Set 7 | City Id: 1502073 and City Name  krasnoselkup\n",
      "Processing Record 44 of Set 7 | City Id: 6144312 and City Name  sept-iles\n",
      "Processing Record 45 of Set 7 | City Id: 3356832 and City Name  henties bay\n",
      "Processing Record 46 of Set 7 | City Id: 2126785 and City Name  belaya gora\n",
      "Processing Record 47 of Set 7 | City Id: 2510573 and City Name  teguise\n",
      "Processing Record 48 of Set 7 | City Id: 2398283 and City Name  mitzic\n",
      "City not found. Skipping... daxian\n",
      "Processing Record 50 of Set 7 | City Id: 690777 and City Name  ukrayinka\n",
      "Processing Record 1 of Set 8 | City Id: 2063056 and City Name  port augusta\n",
      "Processing Record 2 of Set 8 | City Id: 3566356 and City Name  caibarien\n",
      "Processing Record 3 of Set 8 | City Id: 4033077 and City Name  vaitape\n",
      "Processing Record 4 of Set 8 | City Id: 3190922 and City Name  sid\n",
      "Processing Record 5 of Set 8 | City Id: 1502697 and City Name  kondinskoye\n",
      "Processing Record 6 of Set 8 | City Id: 1516048 and City Name  hovd\n",
      "Processing Record 7 of Set 8 | City Id: 1268814 and City Name  joshimath\n"
     ]
    },
    {
     "name": "stdout",
     "output_type": "stream",
     "text": [
      "Processing Record 8 of Set 8 | City Id: 1512019 and City Name  aksarka\n",
      "Processing Record 9 of Set 8 | City Id: 2159220 and City Name  mackay\n",
      "Processing Record 10 of Set 8 | City Id: 1337619 and City Name  ugoofaaru\n",
      "Processing Record 11 of Set 8 | City Id: 3893629 and City Name  coquimbo\n",
      "Processing Record 12 of Set 8 | City Id: 1847947 and City Name  shingu\n",
      "Processing Record 13 of Set 8 | City Id: 1254832 and City Name  tawang\n",
      "Processing Record 14 of Set 8 | City Id: 1510842 and City Name  barsovo\n",
      "Processing Record 15 of Set 8 | City Id: 6316343 and City Name  alta floresta\n",
      "Processing Record 16 of Set 8 | City Id: 358620 and City Name  safaga\n",
      "Processing Record 17 of Set 8 | City Id: 1790437 and City Name  zhuhai\n",
      "Processing Record 18 of Set 8 | City Id: 4172139 and City Name  sarasota\n",
      "City not found. Skipping... anklesvar\n",
      "Processing Record 20 of Set 8 | City Id: 4231997 and City Name  avera\n",
      "Processing Record 21 of Set 8 | City Id: 2169535 and City Name  dalby\n",
      "Processing Record 22 of Set 8 | City Id: 1257800 and City Name  sahaswan\n",
      "City not found. Skipping... chagda\n",
      "Processing Record 24 of Set 8 | City Id: 3381428 and City Name  iracoubo\n",
      "Processing Record 25 of Set 8 | City Id: 3448903 and City Name  sao joao da barra\n",
      "Processing Record 26 of Set 8 | City Id: 1714795 and City Name  dinagat\n",
      "Processing Record 27 of Set 8 | City Id: 3424607 and City Name  tasiilaq\n",
      "City not found. Skipping... fevralsk\n",
      "Processing Record 29 of Set 8 | City Id: 5859699 and City Name  college\n",
      "Processing Record 30 of Set 8 | City Id: 1631637 and City Name  pemangkat\n",
      "Processing Record 31 of Set 8 | City Id: 1254709 and City Name  tezu\n",
      "Processing Record 32 of Set 8 | City Id: 704204 and City Name  lyman\n",
      "Processing Record 33 of Set 8 | City Id: 1106643 and City Name  quatre cocos\n",
      "Processing Record 34 of Set 8 | City Id: 2501152 and City Name  constantine\n",
      "Processing Record 35 of Set 8 | City Id: 5097801 and City Name  fairview\n",
      "Processing Record 36 of Set 8 | City Id: 2412408 and City Name  nioro\n",
      "Processing Record 37 of Set 8 | City Id: 1060283 and City Name  maroantsetra\n",
      "Processing Record 38 of Set 8 | City Id: 2541479 and City Name  nador\n",
      "Processing Record 39 of Set 8 | City Id: 2062276 and City Name  roebourne\n",
      "Processing Record 40 of Set 8 | City Id: 1529102 and City Name  urumqi\n",
      "Processing Record 41 of Set 8 | City Id: 2119283 and City Name  zyryanka\n",
      "Processing Record 42 of Set 8 | City Id: 2440371 and City Name  ouallam\n",
      "Processing Record 43 of Set 8 | City Id: 1581349 and City Name  ha giang\n",
      "Processing Record 44 of Set 8 | City Id: 1162316 and City Name  yazman\n",
      "Processing Record 45 of Set 8 | City Id: 521776 and City Name  nikolsk\n",
      "Processing Record 46 of Set 8 | City Id: 935214 and City Name  saint-pierre\n",
      "Processing Record 47 of Set 8 | City Id: 5423294 and City Name  golden\n",
      "Processing Record 48 of Set 8 | City Id: 1490256 and City Name  talnakh\n",
      "Processing Record 49 of Set 8 | City Id: 2120591 and City Name  tilichiki\n",
      "Processing Record 50 of Set 8 | City Id: 2090021 and City Name  namatanai\n",
      "Processing Record 1 of Set 9 | City Id: 2109528 and City Name  buala\n",
      "Processing Record 2 of Set 9 | City Id: 1920772 and City Name  zhoucheng\n",
      "Processing Record 3 of Set 9 | City Id: 2161515 and City Name  kiama\n",
      "Processing Record 4 of Set 9 | City Id: 1082243 and City Name  ambilobe\n",
      "Processing Record 5 of Set 9 | City Id: 3665202 and City Name  aripuana\n",
      "Processing Record 6 of Set 9 | City Id: 2436400 and City Name  ati\n",
      "Processing Record 7 of Set 9 | City Id: 6063191 and City Name  mackenzie\n",
      "Processing Record 8 of Set 9 | City Id: 306569 and City Name  konya\n",
      "City not found. Skipping... samusu\n",
      "Processing Record 10 of Set 9 | City Id: 686090 and City Name  asau\n",
      "Processing Record 11 of Set 9 | City Id: 2015352 and City Name  terney\n",
      "Processing Record 12 of Set 9 | City Id: 111421 and City Name  zarand\n",
      "Processing Record 13 of Set 9 | City Id: 1028918 and City Name  pemba\n",
      "Processing Record 14 of Set 9 | City Id: 656083 and City Name  jamsa\n",
      "Processing Record 15 of Set 9 | City Id: 3430443 and City Name  necochea\n",
      "Processing Record 16 of Set 9 | City Id: 3372964 and City Name  lagoa\n",
      "Processing Record 17 of Set 9 | City Id: 3389822 and City Name  salinopolis\n",
      "Processing Record 18 of Set 9 | City Id: 3985168 and City Name  san patricio\n",
      "Processing Record 19 of Set 9 | City Id: 3899539 and City Name  antofagasta\n",
      "Processing Record 20 of Set 9 | City Id: 6050066 and City Name  la ronge\n",
      "Processing Record 21 of Set 9 | City Id: 1071296 and City Name  antalaha\n",
      "Processing Record 22 of Set 9 | City Id: 1307741 and City Name  myitkyina\n",
      "Processing Record 23 of Set 9 | City Id: 324490 and City Name  aksehir\n",
      "Processing Record 24 of Set 9 | City Id: 1688696 and City Name  san policarpo\n",
      "Processing Record 25 of Set 9 | City Id: 3175096 and City Name  lasa\n",
      "Processing Record 26 of Set 9 | City Id: 491029 and City Name  solginskiy\n",
      "Processing Record 27 of Set 9 | City Id: 1738050 and City Name  miri\n",
      "Processing Record 28 of Set 9 | City Id: 3372783 and City Name  ponta delgada\n",
      "Processing Record 29 of Set 9 | City Id: 2206854 and City Name  gisborne\n",
      "Processing Record 30 of Set 9 | City Id: 5197159 and City Name  lansdale\n",
      "Processing Record 31 of Set 9 | City Id: 2242885 and City Name  camabatela\n",
      "Processing Record 32 of Set 9 | City Id: 115781 and City Name  shahr-e babak\n",
      "Processing Record 33 of Set 9 | City Id: 2123814 and City Name  leningradskiy\n",
      "Processing Record 34 of Set 9 | City Id: 1714733 and City Name  dingle\n",
      "City not found. Skipping... mrirt\n",
      "Processing Record 36 of Set 9 | City Id: 5742974 and City Name  north bend\n",
      "Processing Record 37 of Set 9 | City Id: 579560 and City Name  baksheyevo\n",
      "Processing Record 38 of Set 9 | City Id: 6160362 and City Name  swan river\n",
      "Processing Record 39 of Set 9 | City Id: 3359638 and City Name  walvis bay\n",
      "Processing Record 40 of Set 9 | City Id: 1792520 and City Name  tongzhou\n",
      "Processing Record 41 of Set 9 | City Id: 934322 and City Name  mahebourg\n",
      "Processing Record 42 of Set 9 | City Id: 5718601 and City Name  central point\n",
      "Processing Record 43 of Set 9 | City Id: 2338660 and City Name  yaan\n",
      "Processing Record 44 of Set 9 | City Id: 3428068 and City Name  san vicente\n",
      "Processing Record 45 of Set 9 | City Id: 1488048 and City Name  ulagan\n",
      "Processing Record 46 of Set 9 | City Id: 2206874 and City Name  waipawa\n",
      "City not found. Skipping... lalmanir hat\n",
      "Processing Record 48 of Set 9 | City Id: 3996893 and City Name  caborca\n",
      "Processing Record 49 of Set 9 | City Id: 6088469 and City Name  nipawin\n",
      "Processing Record 50 of Set 9 | City Id: 3663529 and City Name  manacapuru\n",
      "Processing Record 1 of Set 10 | City Id: 2447513 and City Name  arlit\n",
      "Processing Record 2 of Set 10 | City Id: 701792 and City Name  markivka\n",
      "Processing Record 3 of Set 10 | City Id: 540761 and City Name  kropotkin\n",
      "Processing Record 4 of Set 10 | City Id: 5554428 and City Name  ketchikan\n",
      "Processing Record 5 of Set 10 | City Id: 2980080 and City Name  saint-francois\n",
      "Processing Record 6 of Set 10 | City Id: 1863521 and City Name  gotsu\n",
      "Processing Record 7 of Set 10 | City Id: 6067472 and City Name  marystown\n",
      "Processing Record 8 of Set 10 | City Id: 2145214 and City Name  victoria point\n",
      "Processing Record 9 of Set 10 | City Id: 1734052 and City Name  sandakan\n",
      "Processing Record 10 of Set 10 | City Id: 934479 and City Name  grand gaube\n",
      "Processing Record 11 of Set 10 | City Id: 3644768 and City Name  cumana\n",
      "Processing Record 12 of Set 10 | City Id: 5793822 and City Name  enumclaw\n",
      "Processing Record 13 of Set 10 | City Id: 2180815 and City Name  tuatapere\n",
      "Processing Record 14 of Set 10 | City Id: 3013748 and City Name  hauterive\n",
      "Processing Record 15 of Set 10 | City Id: 3137469 and City Name  sorland\n",
      "Processing Record 16 of Set 10 | City Id: 72181 and City Name  marzuq\n",
      "Processing Record 17 of Set 10 | City Id: 3420846 and City Name  qaqortoq\n",
      "City not found. Skipping... viligili\n",
      "Processing Record 19 of Set 10 | City Id: 2173911 and City Name  broken hill\n",
      "Processing Record 20 of Set 10 | City Id: 5344157 and City Name  dublin\n",
      "Processing Record 21 of Set 10 | City Id: 165929 and City Name  qatana\n",
      "Processing Record 22 of Set 10 | City Id: 4031742 and City Name  egvekinot\n",
      "Processing Record 23 of Set 10 | City Id: 286245 and City Name  sur\n"
     ]
    },
    {
     "name": "stdout",
     "output_type": "stream",
     "text": [
      "Processing Record 24 of Set 10 | City Id: 2270385 and City Name  camacha\n",
      "Processing Record 25 of Set 10 | City Id: 517739 and City Name  novouzensk\n",
      "Processing Record 26 of Set 10 | City Id: 2027316 and City Name  ayan\n",
      "Processing Record 27 of Set 10 | City Id: 3382160 and City Name  cayenne\n",
      "Processing Record 28 of Set 10 | City Id: 533690 and City Name  louga\n",
      "Processing Record 29 of Set 10 | City Id: 1045114 and City Name  inhambane\n",
      "Processing Record 30 of Set 10 | City Id: 88533 and City Name  awjilah\n",
      "Processing Record 31 of Set 10 | City Id: 2514651 and City Name  los llanos de aridane\n",
      "Processing Record 32 of Set 10 | City Id: 3839307 and City Name  rawson\n",
      "Processing Record 33 of Set 10 | City Id: 2012530 and City Name  zhigansk\n",
      "Processing Record 34 of Set 10 | City Id: 1486321 and City Name  yar-sale\n",
      "Processing Record 35 of Set 10 | City Id: 3452320 and City Name  presidente venceslau\n",
      "City not found. Skipping... formoso do araguaia\n",
      "Processing Record 37 of Set 10 | City Id: 4229763 and City Name  waycross\n",
      "Processing Record 38 of Set 10 | City Id: 607610 and City Name  zhanaozen\n",
      "Processing Record 39 of Set 10 | City Id: 3894426 and City Name  coihaique\n",
      "Processing Record 40 of Set 10 | City Id: 4465088 and City Name  elizabeth city\n",
      "City not found. Skipping... rawannawi\n",
      "Processing Record 42 of Set 10 | City Id: 3628473 and City Name  san cristobal\n",
      "Processing Record 43 of Set 10 | City Id: 132938 and City Name  minudasht\n",
      "Processing Record 44 of Set 10 | City Id: 1519385 and City Name  sergeyevka\n",
      "Processing Record 45 of Set 10 | City Id: 3453060 and City Name  pontes e lacerda\n",
      "Processing Record 46 of Set 10 | City Id: 3628423 and City Name  san felipe\n",
      "Processing Record 47 of Set 10 | City Id: 2449893 and City Name  tessalit\n",
      "Processing Record 48 of Set 10 | City Id: 1636022 and City Name  martapura\n",
      "Processing Record 49 of Set 10 | City Id: 1279027 and City Name  alibag\n",
      "Processing Record 50 of Set 10 | City Id: 5961417 and City Name  gimli\n",
      "Processing Record 1 of Set 11 | City Id: 2019135 and City Name  nizhniy kuranakh\n",
      "Processing Record 2 of Set 11 | City Id: 3446625 and City Name  teodoro sampaio\n",
      "Processing Record 3 of Set 11 | City Id: 2171069 and City Name  colac\n",
      "Processing Record 4 of Set 11 | City Id: 2025579 and City Name  chegdomyn\n",
      "Processing Record 5 of Set 11 | City Id: 3401845 and City Name  conceicao do araguaia\n",
      "Processing Record 6 of Set 11 | City Id: 5563397 and City Name  eureka\n",
      "City not found. Skipping... gorno-chuyskiy\n",
      "Processing Record 8 of Set 11 | City Id: 1861084 and City Name  izumo\n",
      "Processing Record 9 of Set 11 | City Id: 2033196 and City Name  zhangjiakou\n",
      "Processing Record 10 of Set 11 | City Id: 4218882 and City Name  rincon\n",
      "City not found. Skipping... mullaitivu\n",
      "Processing Record 12 of Set 11 | City Id: 2068110 and City Name  kununurra\n",
      "Processing Record 13 of Set 11 | City Id: 515698 and City Name  olenegorsk\n",
      "Processing Record 14 of Set 11 | City Id: 3406196 and City Name  barreirinhas\n",
      "Processing Record 15 of Set 11 | City Id: 6453316 and City Name  tromso\n",
      "City not found. Skipping... ayer itam\n",
      "Processing Record 17 of Set 11 | City Id: 576093 and City Name  blagoyevo\n",
      "Processing Record 18 of Set 11 | City Id: 4920986 and City Name  griffith\n",
      "Processing Record 19 of Set 11 | City Id: 2035707 and City Name  mujiayingzi\n",
      "Processing Record 20 of Set 11 | City Id: 3572462 and City Name  dunmore town\n",
      "Processing Record 21 of Set 11 | City Id: 535113 and City Name  lipin bor\n",
      "Processing Record 22 of Set 11 | City Id: 2057087 and City Name  kupang\n",
      "City not found. Skipping... barawe\n",
      "Processing Record 24 of Set 11 | City Id: 3894406 and City Name  coihueco\n",
      "Processing Record 25 of Set 11 | City Id: 1728675 and City Name  balabac\n",
      "City not found. Skipping... barentsburg\n",
      "Processing Record 27 of Set 11 | City Id: 1235846 and City Name  matara\n",
      "Processing Record 28 of Set 11 | City Id: 2027296 and City Name  aykhal\n",
      "Processing Record 29 of Set 11 | City Id: 1033356 and City Name  nampula\n",
      "City not found. Skipping... urdzhar\n",
      "Processing Record 31 of Set 11 | City Id: 1242110 and City Name  kalmunai\n",
      "Processing Record 32 of Set 11 | City Id: 3463124 and City Name  formosa do rio preto\n",
      "Processing Record 33 of Set 11 | City Id: 2092164 and City Name  lorengau\n",
      "Processing Record 34 of Set 11 | City Id: 4021858 and City Name  guerrero negro\n",
      "Processing Record 35 of Set 11 | City Id: 3351663 and City Name  benguela\n",
      "Processing Record 36 of Set 11 | City Id: 2961459 and City Name  skibbereen\n",
      "Processing Record 37 of Set 11 | City Id: 2064735 and City Name  nhulunbuy\n",
      "Processing Record 38 of Set 11 | City Id: 5364271 and City Name  laguna\n",
      "Processing Record 39 of Set 11 | City Id: 1863293 and City Name  hamakita\n",
      "Processing Record 40 of Set 11 | City Id: 763166 and City Name  olsztyn\n",
      "Processing Record 41 of Set 11 | City Id: 3836669 and City Name  san rafael\n",
      "Processing Record 42 of Set 11 | City Id: 2610343 and City Name  vestmanna\n",
      "Processing Record 43 of Set 11 | City Id: 3430545 and City Name  moron\n",
      "Processing Record 44 of Set 11 | City Id: 3408337 and City Name  acu\n",
      "Processing Record 45 of Set 11 | City Id: 6184365 and City Name  woodstock\n",
      "Processing Record 46 of Set 11 | City Id: 1283679 and City Name  banepa\n",
      "Processing Record 47 of Set 11 | City Id: 4362001 and City Name  mayo\n",
      "Processing Record 48 of Set 11 | City Id: 3461860 and City Name  guaratinga\n",
      "Processing Record 49 of Set 11 | City Id: 2654970 and City Name  brae\n",
      "Processing Record 50 of Set 11 | City Id: 1858301 and City Name  kurayoshi\n",
      "Processing Record 1 of Set 12 | City Id: 1492566 and City Name  severo-yeniseyskiy\n",
      "Processing Record 2 of Set 12 | City Id: 207570 and City Name  mwene-ditu\n",
      "Processing Record 3 of Set 12 | City Id: 1797181 and City Name  renqiu\n",
      "City not found. Skipping... asayita\n",
      "Processing Record 5 of Set 12 | City Id: 3541440 and City Name  sagua la grande\n",
      "Processing Record 6 of Set 12 | City Id: 3374351 and City Name  pombas\n",
      "Processing Record 7 of Set 12 | City Id: 3663517 and City Name  manaus\n",
      "Processing Record 8 of Set 12 | City Id: 2129218 and City Name  yoichi\n",
      "Processing Record 9 of Set 12 | City Id: 3456137 and City Name  nova olimpia\n",
      "Processing Record 10 of Set 12 | City Id: 3533462 and City Name  acapulco\n",
      "Processing Record 11 of Set 12 | City Id: 1529376 and City Name  korla\n",
      "Processing Record 12 of Set 12 | City Id: 4036284 and City Name  alofi\n",
      "City not found. Skipping... marcona\n",
      "Processing Record 14 of Set 12 | City Id: 1640902 and City Name  kawalu\n",
      "Processing Record 15 of Set 12 | City Id: 5935804 and City Name  dawson creek\n",
      "Processing Record 16 of Set 12 | City Id: 2428231 and City Name  massaguet\n",
      "Processing Record 17 of Set 12 | City Id: 150793 and City Name  pangani\n",
      "Processing Record 18 of Set 12 | City Id: 323776 and City Name  antalya\n",
      "Processing Record 19 of Set 12 | City Id: 8079926 and City Name  labuhan\n",
      "Processing Record 20 of Set 12 | City Id: 3628503 and City Name  san carlos\n",
      "Processing Record 21 of Set 12 | City Id: 2641434 and City Name  northam\n",
      "Processing Record 22 of Set 12 | City Id: 1863495 and City Name  gushikawa\n",
      "Processing Record 23 of Set 12 | City Id: 4413595 and City Name  warrensburg\n",
      "City not found. Skipping... paucartambo\n",
      "City not found. Skipping... karaul\n",
      "Processing Record 26 of Set 12 | City Id: 3662489 and City Name  santa isabel do rio negro\n",
      "Processing Record 27 of Set 12 | City Id: 5911440 and City Name  burgeo\n",
      "Processing Record 28 of Set 12 | City Id: 6138517 and City Name  saint john\n",
      "Processing Record 29 of Set 12 | City Id: 5044290 and City Name  saint anthony\n",
      "Processing Record 30 of Set 12 | City Id: 3398931 and City Name  gilbues\n",
      "Processing Record 31 of Set 12 | City Id: 2264923 and City Name  peniche\n",
      "Processing Record 32 of Set 12 | City Id: 510613 and City Name  peschanokopskoye\n",
      "Processing Record 33 of Set 12 | City Id: 2063042 and City Name  port hedland\n",
      "Processing Record 34 of Set 12 | City Id: 245785 and City Name  abeche\n",
      "Processing Record 35 of Set 12 | City Id: 1184055 and City Name  badin\n",
      "Processing Record 36 of Set 12 | City Id: 1218436 and City Name  sayat\n",
      "Processing Record 37 of Set 12 | City Id: 2595299 and City Name  coyah\n",
      "Processing Record 38 of Set 12 | City Id: 5301388 and City Name  lake havasu city\n",
      "Processing Record 39 of Set 12 | City Id: 1507679 and City Name  chulym\n",
      "Processing Record 40 of Set 12 | City Id: 5815136 and City Name  washougal\n"
     ]
    },
    {
     "name": "stdout",
     "output_type": "stream",
     "text": [
      "Processing Record 41 of Set 12 | City Id: 6162949 and City Name  terrace\n",
      "Processing Record 42 of Set 12 | City Id: 3580236 and City Name  grenville\n",
      "Processing Record 43 of Set 12 | City Id: 5478673 and City Name  meadow lake\n",
      "Processing Record 44 of Set 12 | City Id: 1791779 and City Name  wanning\n",
      "Processing Record 45 of Set 12 | City Id: 1062553 and City Name  mahanoro\n",
      "Processing Record 46 of Set 12 | City Id: 89113 and City Name  ajdabiya\n",
      "Processing Record 47 of Set 12 | City Id: 2134814 and City Name  sola\n",
      "Processing Record 48 of Set 12 | City Id: 3664956 and City Name  boca do acre\n",
      "Processing Record 49 of Set 12 | City Id: 5924618 and City Name  cochrane\n",
      "Processing Record 50 of Set 12 | City Id: 3521972 and City Name  panaba\n",
      "Processing Record 1 of Set 13 | City Id: 1257673 and City Name  sakti\n",
      "Processing Record 2 of Set 13 | City Id: 3393692 and City Name  itarema\n",
      "Processing Record 3 of Set 13 | City Id: 4985180 and City Name  bay city\n",
      "Processing Record 4 of Set 13 | City Id: 2281606 and City Name  sinfra\n",
      "Processing Record 5 of Set 13 | City Id: 915471 and City Name  kalabo\n",
      "Processing Record 6 of Set 13 | City Id: 4944903 and City Name  nantucket\n",
      "Processing Record 7 of Set 13 | City Id: 3904906 and City Name  santa cruz\n",
      "Processing Record 8 of Set 13 | City Id: 2015217 and City Name  tokur\n",
      "Processing Record 9 of Set 13 | City Id: 712745 and City Name  baturyn\n",
      "Processing Record 10 of Set 13 | City Id: 2396853 and City Name  omboue\n",
      "City not found. Skipping... wahran\n",
      "Processing Record 12 of Set 13 | City Id: 434147 and City Name  rutana\n",
      "----------------------------\n",
      "Data Retrieval Complete\n",
      "----------------------------\n"
     ]
    }
   ],
   "source": [
    "len(cities)\n",
    "url = \"http://api.openweathermap.org/data/2.5/weather?\"\n",
    "\n",
    "temperature = []\n",
    "lat = []\n",
    "lng = []\n",
    "humidity = []\n",
    "cloudiness = []\n",
    "wind_speed = []\n",
    "country = []\n",
    "date = []\n",
    "max_temp = []\n",
    "weather_cities = []\n",
    "\n",
    "# OpenWeatherMap API has a limit of 60 calls/minute, so I'm setting a counter to stop at 50 and wait a minute\n",
    "\n",
    "count = 1\n",
    "sets = 1\n",
    "t0 =time.time()\n",
    "\n",
    "print(\"Beginning Data Retrieval\")\n",
    "print(\"----------------------------\")\n",
    "\n",
    "for x in cities:\n",
    "    query_url = url + \"appid=\" + weather_api_key + \"&q=\" + x + \"&units=imperial\"\n",
    "    weather_response = requests.get(query_url)\n",
    "    weather_response_json = weather_response.json()      \n",
    "    try:\n",
    "        city_id = weather_response_json[\"id\"]\n",
    "        print(f'Processing Record {count} of Set {sets} | City Id: {city_id} and City Name  {x}')\n",
    "        temperature.append(weather_response_json[\"main\"][\"temp\"])\n",
    "        lat.append(weather_response_json[\"coord\"][\"lat\"])\n",
    "        lng.append(weather_response_json[\"coord\"][\"lon\"])\n",
    "        humidity.append(weather_response_json[\"main\"][\"humidity\"])\n",
    "        cloudiness.append(weather_response_json[\"clouds\"][\"all\"])\n",
    "        wind_speed.append(weather_response_json[\"wind\"][\"speed\"])\n",
    "        country.append(weather_response_json[\"sys\"][\"country\"])\n",
    "        date.append(weather_response_json[\"dt\"])\n",
    "        max_temp.append(weather_response_json[\"main\"][\"temp_max\"])\n",
    "        weather_cities.append(x)\n",
    "    except KeyError:\n",
    "        print(f\"City not found. Skipping... {x}\") \n",
    "\n",
    "    count = count+1\n",
    "    if count == 51:\n",
    "        t1=time.time()\n",
    "        count = 1\n",
    "        sets = sets+1\n",
    "        time.sleep(60-(t1-t0))\n",
    "        t0=time.time()\n",
    "\n",
    "print(\"----------------------------\")\n",
    "print(\"Data Retrieval Complete\")\n",
    "print(\"----------------------------\")   \n",
    "\n"
   ]
  },
  {
   "cell_type": "markdown",
   "metadata": {},
   "source": [
    "### Convert Raw Data to DataFrame\n",
    "* Export the city data into a .csv.\n",
    "* Display the DataFrame"
   ]
  },
  {
   "cell_type": "code",
   "execution_count": 4,
   "metadata": {
    "scrolled": true
   },
   "outputs": [],
   "source": [
    "# Create a dictionary from the API data.  \n",
    "weather_dict = {\n",
    "    \"City\": weather_cities,\n",
    "    \"Cloudiness\": cloudiness,\n",
    "    \"Country\": country,\n",
    "    \"Date\": date,\n",
    "    \"Humidity\": humidity,\n",
    "    \"Lat\": lat,\n",
    "    \"Lng\": lng,\n",
    "    \"Max Temp\": max_temp,\n",
    "    \"Wind Speed\": wind_speed\n",
    "}"
   ]
  },
  {
   "cell_type": "code",
   "execution_count": 5,
   "metadata": {},
   "outputs": [
    {
     "data": {
      "text/html": [
       "<div>\n",
       "<style scoped>\n",
       "    .dataframe tbody tr th:only-of-type {\n",
       "        vertical-align: middle;\n",
       "    }\n",
       "\n",
       "    .dataframe tbody tr th {\n",
       "        vertical-align: top;\n",
       "    }\n",
       "\n",
       "    .dataframe thead th {\n",
       "        text-align: right;\n",
       "    }\n",
       "</style>\n",
       "<table border=\"1\" class=\"dataframe\">\n",
       "  <thead>\n",
       "    <tr style=\"text-align: right;\">\n",
       "      <th></th>\n",
       "      <th>City</th>\n",
       "      <th>Cloudiness</th>\n",
       "      <th>Country</th>\n",
       "      <th>Date</th>\n",
       "      <th>Humidity</th>\n",
       "      <th>Lat</th>\n",
       "      <th>Lng</th>\n",
       "      <th>Max Temp</th>\n",
       "      <th>Wind Speed</th>\n",
       "    </tr>\n",
       "  </thead>\n",
       "  <tbody>\n",
       "    <tr>\n",
       "      <td>0</td>\n",
       "      <td>faanui</td>\n",
       "      <td>12</td>\n",
       "      <td>PF</td>\n",
       "      <td>1584246943</td>\n",
       "      <td>77</td>\n",
       "      <td>-16.48</td>\n",
       "      <td>-151.75</td>\n",
       "      <td>82.90</td>\n",
       "      <td>11.43</td>\n",
       "    </tr>\n",
       "    <tr>\n",
       "      <td>1</td>\n",
       "      <td>kapaa</td>\n",
       "      <td>1</td>\n",
       "      <td>US</td>\n",
       "      <td>1584246943</td>\n",
       "      <td>64</td>\n",
       "      <td>22.08</td>\n",
       "      <td>-159.32</td>\n",
       "      <td>75.20</td>\n",
       "      <td>11.41</td>\n",
       "    </tr>\n",
       "    <tr>\n",
       "      <td>2</td>\n",
       "      <td>hobyo</td>\n",
       "      <td>78</td>\n",
       "      <td>SO</td>\n",
       "      <td>1584246944</td>\n",
       "      <td>74</td>\n",
       "      <td>5.35</td>\n",
       "      <td>48.53</td>\n",
       "      <td>82.06</td>\n",
       "      <td>13.89</td>\n",
       "    </tr>\n",
       "    <tr>\n",
       "      <td>3</td>\n",
       "      <td>bakchar</td>\n",
       "      <td>95</td>\n",
       "      <td>RU</td>\n",
       "      <td>1584246905</td>\n",
       "      <td>90</td>\n",
       "      <td>57.02</td>\n",
       "      <td>82.07</td>\n",
       "      <td>35.67</td>\n",
       "      <td>11.83</td>\n",
       "    </tr>\n",
       "    <tr>\n",
       "      <td>4</td>\n",
       "      <td>puerto ayora</td>\n",
       "      <td>2</td>\n",
       "      <td>EC</td>\n",
       "      <td>1584246944</td>\n",
       "      <td>80</td>\n",
       "      <td>-0.74</td>\n",
       "      <td>-90.35</td>\n",
       "      <td>79.00</td>\n",
       "      <td>5.01</td>\n",
       "    </tr>\n",
       "  </tbody>\n",
       "</table>\n",
       "</div>"
      ],
      "text/plain": [
       "           City  Cloudiness Country        Date  Humidity    Lat     Lng  \\\n",
       "0        faanui          12      PF  1584246943        77 -16.48 -151.75   \n",
       "1         kapaa           1      US  1584246943        64  22.08 -159.32   \n",
       "2         hobyo          78      SO  1584246944        74   5.35   48.53   \n",
       "3       bakchar          95      RU  1584246905        90  57.02   82.07   \n",
       "4  puerto ayora           2      EC  1584246944        80  -0.74  -90.35   \n",
       "\n",
       "   Max Temp  Wind Speed  \n",
       "0     82.90       11.43  \n",
       "1     75.20       11.41  \n",
       "2     82.06       13.89  \n",
       "3     35.67       11.83  \n",
       "4     79.00        5.01  "
      ]
     },
     "execution_count": 5,
     "metadata": {},
     "output_type": "execute_result"
    }
   ],
   "source": [
    "# Create a dataframe from the dictionary I created from the API data\n",
    "\n",
    "city_weather_df = pd.DataFrame(weather_dict)\n",
    "city_weather_df.head()"
   ]
  },
  {
   "cell_type": "code",
   "execution_count": 6,
   "metadata": {},
   "outputs": [],
   "source": [
    "# export the city weather data to csv\n",
    "\n",
    "city_weather_df.to_csv(\"WeatherPY.csv\", encoding=\"utf-8\", index=False)"
   ]
  },
  {
   "cell_type": "markdown",
   "metadata": {},
   "source": [
    "### Plotting the Data\n",
    "* Use proper labeling of the plots using plot titles (including date of analysis) and axes labels.\n",
    "* Save the plotted figures as .pngs."
   ]
  },
  {
   "cell_type": "markdown",
   "metadata": {},
   "source": [
    "#### Latitude vs. Temperature Plot"
   ]
  },
  {
   "cell_type": "code",
   "execution_count": 7,
   "metadata": {
    "scrolled": true
   },
   "outputs": [
    {
     "data": {
      "image/png": "[encoded data removed]",
      "text/plain": [
       "<Figure size 432x288 with 1 Axes>"
      ]
     },
     "metadata": {
      "needs_background": "light"
     },
     "output_type": "display_data"
    }
   ],
   "source": [
    "# Create a scatter plot showing the relationship between and latitude and max temp\n",
    "\n",
    "plt.scatter(city_weather_df[\"Lat\"], city_weather_df[\"Max Temp\"], marker='o' )\n",
    "plt.title(f\"City Latitude vs. Max Temperature ({datetime.now().date()})\")\n",
    "plt.xlabel(\"Latitude\")\n",
    "plt.ylabel(\"Max Temperature (F)\")\n",
    "\n",
    "plt.savefig(\"LatVsTemp.png\")\n",
    "plt.show()"
   ]
  },
  {
   "cell_type": "code",
   "execution_count": null,
   "metadata": {},
   "outputs": [],
   "source": [
    "#Analysis:  \n",
    "#The latitude vs. temp plot is showing us that the temperatures around lat 0 are highest.  \n",
    "#The higher latitudes have the coldest temps"
   ]
  },
  {
   "cell_type": "markdown",
   "metadata": {},
   "source": [
    "#### Latitude vs. Humidity Plot"
   ]
  },
  {
   "cell_type": "code",
   "execution_count": 8,
   "metadata": {},
   "outputs": [
    {
     "data": {
      "image/png": "[encoded data removed]",
      "text/plain": [
       "<Figure size 432x288 with 1 Axes>"
      ]
     },
     "metadata": {
      "needs_background": "light"
     },
     "output_type": "display_data"
    }
   ],
   "source": [
    "# Create a scatter plot showing the relationship between and latitude and Humidity\n",
    "\n",
    "plt.scatter(city_weather_df[\"Lat\"], city_weather_df[\"Humidity\"], marker='o' )\n",
    "plt.title(f\"City Latitude vs. Humidity ({datetime.now().date()})\")\n",
    "plt.xlabel(\"Latitude\")\n",
    "plt.ylabel(\"Humidity (%)\")\n",
    "\n",
    "plt.savefig(\"LatVsHumidity.png\")\n",
    "plt.show()"
   ]
  },
  {
   "cell_type": "code",
   "execution_count": null,
   "metadata": {},
   "outputs": [],
   "source": [
    "# Analysis:\n",
    "#The latitude vs. humidity plot is showing us that humidity levels are not strongly tied to latitude although there\n",
    "# seems to be a slightly larger concentration of humidity at higher temps."
   ]
  },
  {
   "cell_type": "markdown",
   "metadata": {},
   "source": [
    "#### Latitude vs. Cloudiness Plot"
   ]
  },
  {
   "cell_type": "code",
   "execution_count": 9,
   "metadata": {},
   "outputs": [
    {
     "data": {
      "image/png": "[encoded data removed]",
      "text/plain": [
       "<Figure size 432x288 with 1 Axes>"
      ]
     },
     "metadata": {
      "needs_background": "light"
     },
     "output_type": "display_data"
    }
   ],
   "source": [
    "# Create a scatter plot showing the relationship between and latitude and Cloudiness\n",
    "\n",
    "plt.scatter(city_weather_df[\"Lat\"], city_weather_df[\"Cloudiness\"], marker='o' )\n",
    "plt.title(f\"City Latitude vs. Cloudiness ({datetime.now().date()})\")\n",
    "plt.xlabel(\"Latitude\")\n",
    "plt.ylabel(\"Cloudiness (%)\")\n",
    "\n",
    "plt.savefig(\"LatVsCloudiness.png\")\n",
    "plt.show()"
   ]
  },
  {
   "cell_type": "code",
   "execution_count": null,
   "metadata": {},
   "outputs": [],
   "source": [
    "# Analysis:\n",
    "#The latitude vs. cloudiness plot is showing us that cloudiness is not strongly tied to latitude."
   ]
  },
  {
   "cell_type": "markdown",
   "metadata": {},
   "source": [
    "#### Latitude vs. Wind Speed Plot"
   ]
  },
  {
   "cell_type": "code",
   "execution_count": 10,
   "metadata": {},
   "outputs": [
    {
     "data": {
      "image/png": "[encoded data removed]",
      "text/plain": [
       "<Figure size 432x288 with 1 Axes>"
      ]
     },
     "metadata": {
      "needs_background": "light"
     },
     "output_type": "display_data"
    }
   ],
   "source": [
    "# Create a scatter plot showing the relationship between and latitude and Windspeed\n",
    "\n",
    "plt.scatter(city_weather_df[\"Lat\"], city_weather_df[\"Wind Speed\"], marker='o' )\n",
    "plt.title(f\"City Latitude vs. Wind Speed ({datetime.now().date()})\")\n",
    "plt.xlabel(\"Latitude\")\n",
    "plt.ylabel(\"Windspeed (mph)\")\n",
    "\n",
    "plt.savefig(\"LatVsWindspeed.png\")\n",
    "plt.show()"
   ]
  },
  {
   "cell_type": "code",
   "execution_count": null,
   "metadata": {},
   "outputs": [],
   "source": [
    "# Analysis:\n",
    "# The latitude vs. wind speed plot is showing us that windspeed is not strongly tied to latitude and is pretty similar \n",
    "#  for most latitudes."
   ]
  },
  {
   "cell_type": "markdown",
   "metadata": {},
   "source": [
    "## Linear Regression"
   ]
  },
  {
   "cell_type": "code",
   "execution_count": 11,
   "metadata": {},
   "outputs": [
    {
     "name": "stdout",
     "output_type": "stream",
     "text": [
      "0      77.477938\n",
      "1      54.134261\n",
      "2      64.262366\n",
      "3      32.982082\n",
      "4      67.949165\n",
      "         ...    \n",
      "551    78.277047\n",
      "552    35.337032\n",
      "553    36.414619\n",
      "554    68.451635\n",
      "555    69.844023\n",
      "Name: Lat, Length: 556, dtype: float64\n"
     ]
    }
   ],
   "source": [
    "# Perform a linear regression on temperature vs. latitude\n",
    "(slope, intercept, rvalue, pvalue, stderr) = stats.linregress(city_weather_df[\"Lat\"], city_weather_df[\"Max Temp\"])\n",
    "\n",
    "# Get regression values\n",
    "regress_values = city_weather_df[\"Lat\"] * slope + intercept\n",
    "print(regress_values)"
   ]
  },
  {
   "cell_type": "code",
   "execution_count": 12,
   "metadata": {},
   "outputs": [
    {
     "name": "stdout",
     "output_type": "stream",
     "text": [
      "y = -0.61x +67.5\n",
      "The r-squared is: -0.7550177689402654\n"
     ]
    },
    {
     "data": {
      "image/png": "[encoded data removed]",
      "text/plain": [
       "<Figure size 432x288 with 1 Axes>"
      ]
     },
     "metadata": {
      "needs_background": "light"
     },
     "output_type": "display_data"
    }
   ],
   "source": [
    "# OPTIONAL: Create a function to create Linear Regression plots\n",
    "# Create a scatter plot showing the relationship between and latitude and max temp\n",
    "\n",
    "# Create line equation string\n",
    "line_eq = \"y = \" + str(round(slope,2)) + \"x +\" + str(round(intercept,2))\n",
    "print(line_eq)\n",
    "\n",
    "plt.scatter(city_weather_df[\"Lat\"], city_weather_df[\"Max Temp\"], marker='o' )\n",
    "plt.title(f\"City Latitude vs. Max Temperature ({datetime.now().date()})\")\n",
    "plt.xlabel(\"Latitude\")\n",
    "plt.ylabel(\"Max Temperature (F)\")\n",
    "\n",
    "plt.plot(city_weather_df[\"Lat\"],regress_values,\"r-\")\n",
    "\n",
    "# Label plot and annotate the line equation\n",
    "plt.annotate(line_eq,(20,15),fontsize=15,color=\"red\")\n",
    "\n",
    "# Print r square value\n",
    "print(f\"The r-squared is: {rvalue}\")\n",
    "\n",
    "plt.savefig(\"LatVsTempLR.png\")\n",
    "\n",
    "# Show plot\n",
    "plt.show()"
   ]
  },
  {
   "cell_type": "code",
   "execution_count": 13,
   "metadata": {},
   "outputs": [
    {
     "data": {
      "text/html": [
       "<div>\n",
       "<style scoped>\n",
       "    .dataframe tbody tr th:only-of-type {\n",
       "        vertical-align: middle;\n",
       "    }\n",
       "\n",
       "    .dataframe tbody tr th {\n",
       "        vertical-align: top;\n",
       "    }\n",
       "\n",
       "    .dataframe thead th {\n",
       "        text-align: right;\n",
       "    }\n",
       "</style>\n",
       "<table border=\"1\" class=\"dataframe\">\n",
       "  <thead>\n",
       "    <tr style=\"text-align: right;\">\n",
       "      <th></th>\n",
       "      <th>City</th>\n",
       "      <th>Cloudiness</th>\n",
       "      <th>Country</th>\n",
       "      <th>Date</th>\n",
       "      <th>Humidity</th>\n",
       "      <th>Lat</th>\n",
       "      <th>Lng</th>\n",
       "      <th>Max Temp</th>\n",
       "      <th>Wind Speed</th>\n",
       "    </tr>\n",
       "  </thead>\n",
       "  <tbody>\n",
       "    <tr>\n",
       "      <td>1</td>\n",
       "      <td>kapaa</td>\n",
       "      <td>1</td>\n",
       "      <td>US</td>\n",
       "      <td>1584246943</td>\n",
       "      <td>64</td>\n",
       "      <td>22.08</td>\n",
       "      <td>-159.32</td>\n",
       "      <td>75.20</td>\n",
       "      <td>11.41</td>\n",
       "    </tr>\n",
       "    <tr>\n",
       "      <td>2</td>\n",
       "      <td>hobyo</td>\n",
       "      <td>78</td>\n",
       "      <td>SO</td>\n",
       "      <td>1584246944</td>\n",
       "      <td>74</td>\n",
       "      <td>5.35</td>\n",
       "      <td>48.53</td>\n",
       "      <td>82.06</td>\n",
       "      <td>13.89</td>\n",
       "    </tr>\n",
       "    <tr>\n",
       "      <td>3</td>\n",
       "      <td>bakchar</td>\n",
       "      <td>95</td>\n",
       "      <td>RU</td>\n",
       "      <td>1584246905</td>\n",
       "      <td>90</td>\n",
       "      <td>57.02</td>\n",
       "      <td>82.07</td>\n",
       "      <td>35.67</td>\n",
       "      <td>11.83</td>\n",
       "    </tr>\n",
       "    <tr>\n",
       "      <td>6</td>\n",
       "      <td>cherskiy</td>\n",
       "      <td>100</td>\n",
       "      <td>RU</td>\n",
       "      <td>1584246666</td>\n",
       "      <td>93</td>\n",
       "      <td>68.75</td>\n",
       "      <td>161.30</td>\n",
       "      <td>8.94</td>\n",
       "      <td>9.86</td>\n",
       "    </tr>\n",
       "    <tr>\n",
       "      <td>8</td>\n",
       "      <td>balkanabat</td>\n",
       "      <td>66</td>\n",
       "      <td>TM</td>\n",
       "      <td>1584246945</td>\n",
       "      <td>39</td>\n",
       "      <td>39.51</td>\n",
       "      <td>54.37</td>\n",
       "      <td>62.42</td>\n",
       "      <td>3.09</td>\n",
       "    </tr>\n",
       "  </tbody>\n",
       "</table>\n",
       "</div>"
      ],
      "text/plain": [
       "         City  Cloudiness Country        Date  Humidity    Lat     Lng  \\\n",
       "1       kapaa           1      US  1584246943        64  22.08 -159.32   \n",
       "2       hobyo          78      SO  1584246944        74   5.35   48.53   \n",
       "3     bakchar          95      RU  1584246905        90  57.02   82.07   \n",
       "6    cherskiy         100      RU  1584246666        93  68.75  161.30   \n",
       "8  balkanabat          66      TM  1584246945        39  39.51   54.37   \n",
       "\n",
       "   Max Temp  Wind Speed  \n",
       "1     75.20       11.41  \n",
       "2     82.06       13.89  \n",
       "3     35.67       11.83  \n",
       "6      8.94        9.86  \n",
       "8     62.42        3.09  "
      ]
     },
     "execution_count": 13,
     "metadata": {},
     "output_type": "execute_result"
    }
   ],
   "source": [
    "# Create Northern Hemisphere DataFrame\n",
    "\n",
    "northern_df = city_weather_df[city_weather_df[\"Lat\"] >= 0]\n",
    "northern_df.head()"
   ]
  },
  {
   "cell_type": "code",
   "execution_count": 14,
   "metadata": {},
   "outputs": [
    {
     "data": {
      "text/html": [
       "<div>\n",
       "<style scoped>\n",
       "    .dataframe tbody tr th:only-of-type {\n",
       "        vertical-align: middle;\n",
       "    }\n",
       "\n",
       "    .dataframe tbody tr th {\n",
       "        vertical-align: top;\n",
       "    }\n",
       "\n",
       "    .dataframe thead th {\n",
       "        text-align: right;\n",
       "    }\n",
       "</style>\n",
       "<table border=\"1\" class=\"dataframe\">\n",
       "  <thead>\n",
       "    <tr style=\"text-align: right;\">\n",
       "      <th></th>\n",
       "      <th>City</th>\n",
       "      <th>Cloudiness</th>\n",
       "      <th>Country</th>\n",
       "      <th>Date</th>\n",
       "      <th>Humidity</th>\n",
       "      <th>Lat</th>\n",
       "      <th>Lng</th>\n",
       "      <th>Max Temp</th>\n",
       "      <th>Wind Speed</th>\n",
       "    </tr>\n",
       "  </thead>\n",
       "  <tbody>\n",
       "    <tr>\n",
       "      <td>0</td>\n",
       "      <td>faanui</td>\n",
       "      <td>12</td>\n",
       "      <td>PF</td>\n",
       "      <td>1584246943</td>\n",
       "      <td>77</td>\n",
       "      <td>-16.48</td>\n",
       "      <td>-151.75</td>\n",
       "      <td>82.90</td>\n",
       "      <td>11.43</td>\n",
       "    </tr>\n",
       "    <tr>\n",
       "      <td>4</td>\n",
       "      <td>puerto ayora</td>\n",
       "      <td>2</td>\n",
       "      <td>EC</td>\n",
       "      <td>1584246944</td>\n",
       "      <td>80</td>\n",
       "      <td>-0.74</td>\n",
       "      <td>-90.35</td>\n",
       "      <td>79.00</td>\n",
       "      <td>5.01</td>\n",
       "    </tr>\n",
       "    <tr>\n",
       "      <td>5</td>\n",
       "      <td>rikitea</td>\n",
       "      <td>3</td>\n",
       "      <td>PF</td>\n",
       "      <td>1584246944</td>\n",
       "      <td>71</td>\n",
       "      <td>-23.12</td>\n",
       "      <td>-134.97</td>\n",
       "      <td>78.84</td>\n",
       "      <td>9.75</td>\n",
       "    </tr>\n",
       "    <tr>\n",
       "      <td>7</td>\n",
       "      <td>punta arenas</td>\n",
       "      <td>99</td>\n",
       "      <td>CL</td>\n",
       "      <td>1584246580</td>\n",
       "      <td>71</td>\n",
       "      <td>-53.15</td>\n",
       "      <td>-70.92</td>\n",
       "      <td>55.40</td>\n",
       "      <td>17.22</td>\n",
       "    </tr>\n",
       "    <tr>\n",
       "      <td>9</td>\n",
       "      <td>lebu</td>\n",
       "      <td>0</td>\n",
       "      <td>CL</td>\n",
       "      <td>1584246945</td>\n",
       "      <td>89</td>\n",
       "      <td>-37.62</td>\n",
       "      <td>-73.65</td>\n",
       "      <td>48.85</td>\n",
       "      <td>5.50</td>\n",
       "    </tr>\n",
       "  </tbody>\n",
       "</table>\n",
       "</div>"
      ],
      "text/plain": [
       "           City  Cloudiness Country        Date  Humidity    Lat     Lng  \\\n",
       "0        faanui          12      PF  1584246943        77 -16.48 -151.75   \n",
       "4  puerto ayora           2      EC  1584246944        80  -0.74  -90.35   \n",
       "5       rikitea           3      PF  1584246944        71 -23.12 -134.97   \n",
       "7  punta arenas          99      CL  1584246580        71 -53.15  -70.92   \n",
       "9          lebu           0      CL  1584246945        89 -37.62  -73.65   \n",
       "\n",
       "   Max Temp  Wind Speed  \n",
       "0     82.90       11.43  \n",
       "4     79.00        5.01  \n",
       "5     78.84        9.75  \n",
       "7     55.40       17.22  \n",
       "9     48.85        5.50  "
      ]
     },
     "execution_count": 14,
     "metadata": {},
     "output_type": "execute_result"
    }
   ],
   "source": [
    "# Create Southern Hemisphere DataFrame\n",
    "\n",
    "southern_df = city_weather_df[city_weather_df[\"Lat\"] < 0]\n",
    "southern_df.head()"
   ]
  },
  {
   "cell_type": "markdown",
   "metadata": {},
   "source": [
    "####  Northern Hemisphere - Max Temp vs. Latitude Linear Regression"
   ]
  },
  {
   "cell_type": "code",
   "execution_count": 16,
   "metadata": {},
   "outputs": [],
   "source": [
    "#  Create a UDF that will work for both the northern and southern hemipheres\n",
    "\n",
    "def plotting_udf(dframe):\n",
    "\n",
    "# Perform a linear regression on temperature vs. latitude\n",
    "    (slope, intercept, rvalue, pvalue, stderr) = stats.linregress(dframe[\"Lat\"], dframe[\"Max Temp\"])\n",
    "\n",
    "# Get regression values\n",
    "    regress_values = dframe[\"Lat\"] * slope + intercept\n",
    "    print(regress_values)\n",
    "\n",
    "# Create line equation string\n",
    "    line_eq = \"y = \" + str(round(slope,2)) + \"x +\" + str(round(intercept,2))\n",
    "    print(line_eq)\n",
    "\n",
    "    plt.scatter(dframe[\"Lat\"], dframe[\"Max Temp\"], marker='o' )\n",
    "    plt.title(f\"City Latitude vs. Max Temperature Linear Regression ({datetime.now().date()})\")\n",
    "    plt.xlabel(\"Latitude\")\n",
    "    plt.ylabel(\"Max Temperature (F)\")\n",
    "\n",
    "    plt.plot(dframe[\"Lat\"],regress_values,\"r-\")\n",
    "\n",
    "# Label plot and annotate the line equation\n",
    "    plt.annotate(line_eq,(20,15),fontsize=15,color=\"red\")\n",
    "\n",
    "# Print r square value\n",
    "    print(f\"The r-squared is: {rvalue}\")\n",
    "    \n",
    "#    plt.savefig(f\"LatVsTempLR_{dframe}.png\")  \n",
    "# Show plot\n",
    "#    plt.show()"
   ]
  },
  {
   "cell_type": "code",
   "execution_count": 17,
   "metadata": {},
   "outputs": [
    {
     "name": "stdout",
     "output_type": "stream",
     "text": [
      "1      66.977845\n",
      "2      87.370863\n",
      "3      24.387762\n",
      "6      10.089489\n",
      "8      45.731561\n",
      "         ...    \n",
      "547    40.758249\n",
      "548    85.822798\n",
      "550    43.574021\n",
      "552    29.129474\n",
      "553    31.299204\n",
      "Name: Lat, Length: 384, dtype: float64\n",
      "y = -1.22x +93.89\n",
      "The r-squared is: -0.9018540618313247\n"
     ]
    },
    {
     "data": {
      "image/png": "[encoded data removed]",
      "text/plain": [
       "<Figure size 432x288 with 1 Axes>"
      ]
     },
     "metadata": {
      "needs_background": "light"
     },
     "output_type": "display_data"
    }
   ],
   "source": [
    "# Call the user defined function from above using the northern hemisphere dataframe\n",
    "\n",
    "plotting_udf(northern_df)\n",
    "plt.savefig(\"LatVsTempLR_northern.png\") \n",
    "plt.show()"
   ]
  },
  {
   "cell_type": "markdown",
   "metadata": {},
   "source": [
    "####  Southern Hemisphere - Max Temp vs. Latitude Linear Regression"
   ]
  },
  {
   "cell_type": "code",
   "execution_count": 18,
   "metadata": {},
   "outputs": [
    {
     "name": "stdout",
     "output_type": "stream",
     "text": [
      "0      75.802215\n",
      "4      83.172455\n",
      "5      72.693042\n",
      "7      58.631523\n",
      "9      65.903431\n",
      "         ...    \n",
      "546    82.151672\n",
      "549    76.509271\n",
      "551    75.184127\n",
      "554    82.783808\n",
      "555    81.706836\n",
      "Name: Lat, Length: 172, dtype: float64\n",
      "y = 0.47x +83.52\n",
      "The r-squared is: 0.5965986699271625\n"
     ]
    },
    {
     "data": {
      "image/png": "[encoded data removed]",
      "text/plain": [
       "<Figure size 432x288 with 1 Axes>"
      ]
     },
     "metadata": {
      "needs_background": "light"
     },
     "output_type": "display_data"
    }
   ],
   "source": [
    "# Call the user defined function from above using the southern hemisphere dataframe\n",
    "\n",
    "plotting_udf(southern_df)\n",
    "plt.savefig(\"LatVsTempLR_southern.png\")\n",
    "plt.show()"
   ]
  },
  {
   "cell_type": "code",
   "execution_count": null,
   "metadata": {},
   "outputs": [],
   "source": [
    "# Analysis - Northern/Southern Hemisphere - Latitude and Max Temp\n",
    "#These two are pretty much opposites.  One shows a postive regression and one shows a negative regression"
   ]
  },
  {
   "cell_type": "markdown",
   "metadata": {},
   "source": [
    "####  Northern Hemisphere - Humidity (%) vs. Latitude Linear Regression"
   ]
  },
  {
   "cell_type": "code",
   "execution_count": 19,
   "metadata": {},
   "outputs": [],
   "source": [
    "def plotting_udf(dframe):\n",
    "    \n",
    "# Perform a linear regression on temperature vs. latitude\n",
    "    (slope, intercept, rvalue, pvalue, stderr) = stats.linregress(dframe[\"Lat\"], dframe[\"Humidity\"])\n",
    "\n",
    "# Get regression values\n",
    "    regress_values = dframe[\"Lat\"] * slope + intercept\n",
    "    print(regress_values)\n",
    "\n",
    "# Create line equation string\n",
    "    line_eq = \"y = \" + str(round(slope,2)) + \"x +\" + str(round(intercept,2))\n",
    "    print(line_eq)\n",
    "\n",
    "    plt.scatter(dframe[\"Lat\"], dframe[\"Humidity\"], marker='o' )\n",
    "    plt.title(f\"City Latitude vs. Humidity Linear Regression ({datetime.now().date()})\")\n",
    "    plt.xlabel(\"Latitude\")\n",
    "    plt.ylabel(\"Humidity\")\n",
    "\n",
    "    plt.plot(dframe[\"Lat\"],regress_values,\"r-\")\n",
    "\n",
    "# Label plot and annotate the line equation\n",
    "    plt.annotate(line_eq,(20,15),fontsize=15,color=\"red\")\n",
    "\n",
    "# Print r square value\n",
    "    print(f\"The r-squared is: {rvalue}\")\n",
    "    \n",
    "#    plt.savefig(f\"LatVsHumidityLR_{dframe}.png\")  \n",
    "# Show plot\n",
    "#    plt.show()"
   ]
  },
  {
   "cell_type": "code",
   "execution_count": 20,
   "metadata": {},
   "outputs": [
    {
     "name": "stdout",
     "output_type": "stream",
     "text": [
      "1      63.776180\n",
      "2      59.210723\n",
      "3      73.310972\n",
      "6      76.511976\n",
      "8      68.532660\n",
      "         ...    \n",
      "547    69.646053\n",
      "548    59.557294\n",
      "550    69.015676\n",
      "552    72.249428\n",
      "553    71.763683\n",
      "Name: Lat, Length: 384, dtype: float64\n",
      "y = 0.27x +57.75\n",
      "The r-squared is: 0.23772999144194956\n"
     ]
    },
    {
     "data": {
      "image/png": "[encoded data removed]",
      "text/plain": [
       "<Figure size 432x288 with 1 Axes>"
      ]
     },
     "metadata": {
      "needs_background": "light"
     },
     "output_type": "display_data"
    }
   ],
   "source": [
    "# Call the user defined function from above using the northern hemisphere dataframe\n",
    "\n",
    "plotting_udf(northern_df)\n",
    "\n",
    "plt.savefig(f\"LatVsHumidityLR_northern.png\")  \n",
    "plt.show()"
   ]
  },
  {
   "cell_type": "markdown",
   "metadata": {},
   "source": [
    "####  Southern Hemisphere - Humidity (%) vs. Latitude Linear Regression"
   ]
  },
  {
   "cell_type": "code",
   "execution_count": 21,
   "metadata": {},
   "outputs": [
    {
     "name": "stdout",
     "output_type": "stream",
     "text": [
      "0      78.233562\n",
      "4      82.978609\n",
      "5      76.231840\n",
      "7      67.178870\n",
      "9      71.860609\n",
      "         ...    \n",
      "546    82.321417\n",
      "549    78.688773\n",
      "551    77.835629\n",
      "554    82.728393\n",
      "555    82.035026\n",
      "Name: Lat, Length: 172, dtype: float64\n",
      "y = 0.3x +83.2\n",
      "The r-squared is: 0.23834734301452343\n"
     ]
    },
    {
     "data": {
      "image/png": "[encoded data removed]",
      "text/plain": [
       "<Figure size 432x288 with 1 Axes>"
      ]
     },
     "metadata": {
      "needs_background": "light"
     },
     "output_type": "display_data"
    }
   ],
   "source": [
    "# Call the user defined function from above using the southern hemisphere dataframe\n",
    "\n",
    "plotting_udf(southern_df)\n",
    "\n",
    "plt.savefig(\"LatVsHumidityLR_southern.png\")\n",
    "plt.show()"
   ]
  },
  {
   "cell_type": "code",
   "execution_count": null,
   "metadata": {},
   "outputs": [],
   "source": [
    "# Analysis - Northern/Southern Hemisphere - Latitude and Humidity\n",
    "#The linear regression for these is very similar which means that the relationship between humidity and latitude are the same\n",
    "# for both hemishperes."
   ]
  },
  {
   "cell_type": "markdown",
   "metadata": {},
   "source": [
    "####  Northern Hemisphere - Cloudiness (%) vs. Latitude Linear Regression"
   ]
  },
  {
   "cell_type": "code",
   "execution_count": 22,
   "metadata": {},
   "outputs": [],
   "source": [
    "def plotting_udf(dframe):\n",
    "    # Perform a linear regression on temperature vs. latitude\n",
    "    (slope, intercept, rvalue, pvalue, stderr) = stats.linregress(dframe[\"Lat\"], dframe[\"Cloudiness\"])\n",
    "\n",
    "# Get regression values\n",
    "    regress_values = dframe[\"Lat\"] * slope + intercept\n",
    "    print(regress_values)\n",
    "\n",
    "# Create line equation string\n",
    "    line_eq = \"y = \" + str(round(slope,2)) + \"x +\" + str(round(intercept,2))\n",
    "    print(line_eq)\n",
    "\n",
    "    plt.scatter(dframe[\"Lat\"], dframe[\"Cloudiness\"], marker='o' )\n",
    "    plt.title(f\"City Latitude vs. Cloudiness Linear Regression ({datetime.now().date()})\")\n",
    "    plt.xlabel(\"Latitude\")\n",
    "    plt.ylabel(\"Cloudiness\")\n",
    "\n",
    "    plt.plot(dframe[\"Lat\"],regress_values,\"r-\")\n",
    "\n",
    "# Label plot and annotate the line equation\n",
    "    plt.annotate(line_eq,(20,15),fontsize=15,color=\"red\")\n",
    "\n",
    "# Print r square value\n",
    "    print(f\"The r-squared is: {rvalue}\")\n",
    "    \n",
    "#    plt.savefig(f\"LatVsCloudinessLR_{dframe}.png\")  \n",
    "# Show plot\n",
    "#    plt.show()"
   ]
  },
  {
   "cell_type": "code",
   "execution_count": 23,
   "metadata": {},
   "outputs": [
    {
     "name": "stdout",
     "output_type": "stream",
     "text": [
      "1      44.786386\n",
      "2      36.858111\n",
      "3      61.344301\n",
      "6      66.903098\n",
      "8      53.046388\n",
      "         ...    \n",
      "547    54.979882\n",
      "548    37.459959\n",
      "550    53.885183\n",
      "552    59.500847\n",
      "553    58.657313\n",
      "Name: Lat, Length: 384, dtype: float64\n",
      "y = 0.47x +34.32\n",
      "The r-squared is: 0.2531342005055484\n"
     ]
    },
    {
     "data": {
      "image/png": "[encoded data removed]",
      "text/plain": [
       "<Figure size 432x288 with 1 Axes>"
      ]
     },
     "metadata": {
      "needs_background": "light"
     },
     "output_type": "display_data"
    }
   ],
   "source": [
    "# Call the user defined function from above using the northern hemisphere dataframe\n",
    "\n",
    "plotting_udf(northern_df)\n",
    "\n",
    "plt.savefig(\"LatVsCloudinessLR_northern.png\")\n",
    "plt.show()"
   ]
  },
  {
   "cell_type": "markdown",
   "metadata": {},
   "source": [
    "####  Southern Hemisphere - Cloudiness (%) vs. Latitude Linear Regression"
   ]
  },
  {
   "cell_type": "code",
   "execution_count": 24,
   "metadata": {},
   "outputs": [
    {
     "name": "stdout",
     "output_type": "stream",
     "text": [
      "0      61.601106\n",
      "4      74.136730\n",
      "5      56.312888\n",
      "7      32.396447\n",
      "9      44.764823\n",
      "         ...    \n",
      "546    72.400538\n",
      "549    62.803698\n",
      "551    60.549834\n",
      "554    73.475703\n",
      "555    71.643941\n",
      "Name: Lat, Length: 172, dtype: float64\n",
      "y = 0.8x +74.73\n",
      "The r-squared is: 0.2864718235477661\n"
     ]
    },
    {
     "data": {
      "image/png": "[encoded data removed]",
      "text/plain": [
       "<Figure size 432x288 with 1 Axes>"
      ]
     },
     "metadata": {
      "needs_background": "light"
     },
     "output_type": "display_data"
    }
   ],
   "source": [
    "# Call the user defined function from above using the southern hemisphere dataframe\n",
    "\n",
    "plotting_udf(southern_df)\n",
    "\n",
    "plt.savefig(\"LatVsCloudinessLR_southern.png\")\n",
    "plt.show()"
   ]
  },
  {
   "cell_type": "code",
   "execution_count": null,
   "metadata": {},
   "outputs": [],
   "source": [
    "# Analysis - Northern/Southern Hemisphere - Latitude and Cloudiness\n",
    "#The linear regression for these is very similar which means that the relationship between cloudiness and latitude are the same\n",
    "# for both hemishperes."
   ]
  },
  {
   "cell_type": "markdown",
   "metadata": {},
   "source": [
    "####  Northern Hemisphere - Wind Speed (mph) vs. Latitude Linear Regression"
   ]
  },
  {
   "cell_type": "code",
   "execution_count": 25,
   "metadata": {},
   "outputs": [],
   "source": [
    "def plotting_udf(dframe):\n",
    "    \n",
    "    # Perform a linear regression on wind speed vs. latitude\n",
    "    (slope, intercept, rvalue, pvalue, stderr) = stats.linregress(dframe[\"Lat\"], dframe[\"Wind Speed\"])\n",
    "\n",
    "# Get regression values\n",
    "    regress_values = dframe[\"Lat\"] * slope + intercept\n",
    "    print(regress_values)\n",
    "\n",
    "# Create line equation string\n",
    "    line_eq = \"y = \" + str(round(slope,2)) + \"x +\" + str(round(intercept,2))\n",
    "    print(line_eq)\n",
    "\n",
    "    plt.scatter(dframe[\"Lat\"], dframe[\"Wind Speed\"], marker='o' )\n",
    "    plt.title(f\"City Latitude vs. Wind Speed Linear Regression ({datetime.now().date()})\")\n",
    "    plt.xlabel(\"Latitude\")\n",
    "    plt.ylabel(\"Wind Speed\")\n",
    "\n",
    "    plt.plot(dframe[\"Lat\"],regress_values,\"r-\")\n",
    "\n",
    "# Label plot and annotate the line equation\n",
    "    plt.annotate(line_eq,(20,15),fontsize=15,color=\"red\")\n",
    "\n",
    "# Print r square value\n",
    "    print(f\"The r-squared is: {rvalue}\")\n",
    "    \n",
    "#    plt.savefig(f\"LatVsCloudinessLR_{dframe}.png\")  \n",
    "# Show plot\n",
    "#    plt.show()"
   ]
  },
  {
   "cell_type": "code",
   "execution_count": 26,
   "metadata": {},
   "outputs": [
    {
     "name": "stdout",
     "output_type": "stream",
     "text": [
      "1       8.290617\n",
      "2       7.073990\n",
      "3      10.831498\n",
      "6      11.684518\n",
      "8       9.558149\n",
      "         ...    \n",
      "547     9.854851\n",
      "548     7.166346\n",
      "550     9.686865\n",
      "552    10.548612\n",
      "553    10.419168\n",
      "Name: Lat, Length: 384, dtype: float64\n",
      "y = 0.07x +6.68\n",
      "The r-squared is: 0.21843997414411792\n"
     ]
    },
    {
     "data": {
      "image/png": "[encoded data removed]",
      "text/plain": [
       "<Figure size 432x288 with 1 Axes>"
      ]
     },
     "metadata": {
      "needs_background": "light"
     },
     "output_type": "display_data"
    }
   ],
   "source": [
    "# Call the user defined function from above using the northern hemisphere dataframe\n",
    "\n",
    "plotting_udf(northern_df)\n",
    "\n",
    "plt.savefig(\"LatVsWindSpeedLR_northern.png\")\n",
    "plt.show()"
   ]
  },
  {
   "cell_type": "markdown",
   "metadata": {},
   "source": [
    "####  Southern Hemisphere - Wind Speed (mph) vs. Latitude Linear Regression"
   ]
  },
  {
   "cell_type": "code",
   "execution_count": 27,
   "metadata": {},
   "outputs": [
    {
     "name": "stdout",
     "output_type": "stream",
     "text": [
      "0       7.799014\n",
      "4       6.409017\n",
      "5       8.385391\n",
      "7      11.037336\n",
      "9       9.665884\n",
      "         ...    \n",
      "546     6.601532\n",
      "549     7.665666\n",
      "551     7.915583\n",
      "554     6.482314\n",
      "555     6.685427\n",
      "Name: Lat, Length: 172, dtype: float64\n",
      "y = -0.09x +6.34\n",
      "The r-squared is: -0.1697591994529473\n"
     ]
    },
    {
     "data": {
      "image/png": "[encoded data removed]",
      "text/plain": [
       "<Figure size 432x288 with 1 Axes>"
      ]
     },
     "metadata": {
      "needs_background": "light"
     },
     "output_type": "display_data"
    }
   ],
   "source": [
    "# Call the user defined function from above using the southern hemisphere dataframe\n",
    "\n",
    "plotting_udf(southern_df)\n",
    "plt.savefig(\"LatVsWindSpeedLR_southern.png\")\n",
    "plt.show()"
   ]
  },
  {
   "cell_type": "code",
   "execution_count": null,
   "metadata": {},
   "outputs": [],
   "source": [
    "# Analysis - Northern/Southern Hemisphere - Latitude and Wind Speed\n",
    "#The linear regression for these vary slightly.  The Northern Hemisphere seems to have more wind as the latitude increases.  \n",
    "# The southern hemisphere seems to have more wind as the latitude decreases."
   ]
  }
 ],
 "metadata": {
  "anaconda-cloud": {},
  "kernel_info": {
   "name": "python3"
  },
  "kernelspec": {
   "display_name": "Python 3",
   "language": "python",
   "name": "python3"
  },
  "language_info": {
   "codemirror_mode": {
    "name": "ipython",
    "version": 3
   },
   "file_extension": ".py",
   "mimetype": "text/x-python",
   "name": "python",
   "nbconvert_exporter": "python",
   "pygments_lexer": "ipython3",
   "version": "3.7.4"
  },
  "latex_envs": {
   "LaTeX_envs_menu_present": true,
   "autoclose": false,
   "autocomplete": true,
   "bibliofile": "biblio.bib",
   "cite_by": "apalike",
   "current_citInitial": 1,
   "eqLabelWithNumbers": true,
   "eqNumInitial": 1,
   "hotkeys": {
    "equation": "Ctrl-E",
    "itemize": "Ctrl-I"
   },
   "labels_anchors": false,
   "latex_user_defs": false,
   "report_style_numbering": false,
   "user_envs_cfg": false
  },
  "nteract": {
   "version": "0.12.3"
  }
 },
 "nbformat": 4,
 "nbformat_minor": 2
}
